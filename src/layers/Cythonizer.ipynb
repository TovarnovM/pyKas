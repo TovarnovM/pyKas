{
 "cells": [
  {
   "cell_type": "markdown",
   "metadata": {},
   "source": [
    "#### Введи имя модуля"
   ]
  },
  {
   "cell_type": "code",
   "execution_count": 1,
   "metadata": {},
   "outputs": [],
   "source": [
    "true_mod_name = 'glayer'\n",
    "pyx_name = true_mod_name+'.pyx'"
   ]
  },
  {
   "cell_type": "markdown",
   "metadata": {},
   "source": [
    "#### ниже строчки *'%%writefile tmp_module.pyx'* вставь Cython код"
   ]
  },
  {
   "cell_type": "code",
   "execution_count": 14,
   "metadata": {},
   "outputs": [
    {
     "name": "stdout",
     "output_type": "stream",
     "text": [
      "Overwriting tube.pyx\n"
     ]
    }
   ],
   "source": [
    "%%writefile $pyx_name\n",
    "\n"
   ]
  },
  {
   "cell_type": "code",
   "execution_count": 15,
   "metadata": {},
   "outputs": [],
   "source": [
    "setup_string = \\\n",
    "f\"\"\"\n",
    "from distutils.core import setup\n",
    "from Cython.Build import cythonize\n",
    "if __name__ == '__main__':\n",
    "    setup(\n",
    "        name='{true_mod_name}',\n",
    "        ext_modules = cythonize(\"{pyx_name}\", language=\"c++\")\n",
    ")\n",
    "\"\"\"\n",
    "setup_name = true_mod_name+'_setup.py'\n",
    "with open(setup_name, mode='w') as f:\n",
    "    f.write(setup_string)"
   ]
  },
  {
   "cell_type": "code",
   "execution_count": 16,
   "metadata": {},
   "outputs": [
    {
     "name": "stdout",
     "output_type": "stream",
     "text": [
      "Warning: passing language='c++' to cythonize() is deprecated. Instead, put \"# distutils: language=c++\" in your .pyx or .pxd file(s)\n",
      "Compiling tube.pyx because it changed.\n",
      "[1/1] Cythonizing tube.pyx\n",
      "running build_ext\n",
      "building 'tube' extension\n",
      "creating build\n",
      "creating build\\temp.win-amd64-3.7\n",
      "creating build\\temp.win-amd64-3.7\\Release\n",
      "C:\\Program Files (x86)\\Microsoft Visual Studio\\2017\\Community\\VC\\Tools\\MSVC\\14.15.26726\\bin\\HostX86\\x64\\cl.exe /c /nologo /Ox /W3 /GL /DNDEBUG /MD -IC:\\ProgramData\\Anaconda3\\include -IC:\\ProgramData\\Anaconda3\\include \"-IC:\\Program Files (x86)\\Microsoft Visual Studio\\2017\\Community\\VC\\Tools\\MSVC\\14.15.26726\\ATLMFC\\include\" \"-IC:\\Program Files (x86)\\Microsoft Visual Studio\\2017\\Community\\VC\\Tools\\MSVC\\14.15.26726\\include\" \"-IC:\\Program Files (x86)\\Windows Kits\\NETFXSDK\\4.6.1\\include\\um\" \"-IC:\\Program Files (x86)\\Windows Kits\\10\\include\\10.0.17134.0\\ucrt\" \"-IC:\\Program Files (x86)\\Windows Kits\\10\\include\\10.0.17134.0\\shared\" \"-IC:\\Program Files (x86)\\Windows Kits\\10\\include\\10.0.17134.0\\um\" \"-IC:\\Program Files (x86)\\Windows Kits\\10\\include\\10.0.17134.0\\winrt\" \"-IC:\\Program Files (x86)\\Windows Kits\\10\\include\\10.0.17134.0\\cppwinrt\" /EHsc /Tptube.cpp /Fobuild\\temp.win-amd64-3.7\\Release\\tube.obj\n",
      "tube.cpp\n",
      "tube.cpp(4046): warning C4267: =: ЇаҐ®Ўа §®ў ­ЁҐ Ё§ \"size_t\" ў \"int\"; ў®§¬®¦­  Ї®вҐап ¤ ­­ле\n",
      "C:\\Program Files (x86)\\Microsoft Visual Studio\\2017\\Community\\VC\\Tools\\MSVC\\14.15.26726\\bin\\HostX86\\x64\\link.exe /nologo /INCREMENTAL:NO /LTCG /DLL /MANIFEST:EMBED,ID=2 /MANIFESTUAC:NO /LIBPATH:C:\\ProgramData\\Anaconda3\\libs /LIBPATH:C:\\ProgramData\\Anaconda3\\PCbuild\\amd64 \"/LIBPATH:C:\\Program Files (x86)\\Microsoft Visual Studio\\2017\\Community\\VC\\Tools\\MSVC\\14.15.26726\\ATLMFC\\lib\\x64\" \"/LIBPATH:C:\\Program Files (x86)\\Microsoft Visual Studio\\2017\\Community\\VC\\Tools\\MSVC\\14.15.26726\\lib\\x64\" \"/LIBPATH:C:\\Program Files (x86)\\Windows Kits\\NETFXSDK\\4.6.1\\lib\\um\\x64\" \"/LIBPATH:C:\\Program Files (x86)\\Windows Kits\\10\\lib\\10.0.17134.0\\ucrt\\x64\" \"/LIBPATH:C:\\Program Files (x86)\\Windows Kits\\10\\lib\\10.0.17134.0\\um\\x64\" /EXPORT:PyInit_tube build\\temp.win-amd64-3.7\\Release\\tube.obj /OUT:D:\\PyKas\\invariants\\tube.cp37-win_amd64.pyd /IMPLIB:build\\temp.win-amd64-3.7\\Release\\tube.cp37-win_amd64.lib\n",
      "   Создается библиотека build\\temp.win-amd64-3.7\\Release\\tube.cp37-win_amd64.lib и объект build\\temp.win-amd64-3.7\\Release\\tube.cp37-win_amd64.exp\n",
      "Создание кода\n",
      "Создание кода завершено\n"
     ]
    },
    {
     "name": "stderr",
     "output_type": "stream",
     "text": [
      "C:\\ProgramData\\Anaconda3\\lib\\site-packages\\Cython\\Compiler\\Main.py:367: FutureWarning: Cython directive 'language_level' not set, using 2 for now (Py2). This will change in a later release! File: D:\\PyKas\\invariants\\tube.pyx\n",
      "  tree = Parsing.p_module(s, pxd, full_module_name)\n"
     ]
    }
   ],
   "source": [
    "!python $setup_name build_ext --inplace"
   ]
  },
  {
   "cell_type": "markdown",
   "metadata": {},
   "source": [
    "### Чистим, переименовываем"
   ]
  },
  {
   "cell_type": "code",
   "execution_count": 17,
   "metadata": {},
   "outputs": [],
   "source": [
    "import glob\n",
    "import os\n",
    "import shutil\n",
    "\n",
    "\n",
    "try:\n",
    "    f2 = glob.glob(true_mod_name+'.pyd')\n",
    "    os.remove(f2[0])\n",
    "except Exception as e:\n",
    "    print(e)\n",
    "\n",
    "f = glob.glob(true_mod_name+'*.pyd')\n",
    "os.rename(f[0], true_mod_name+'.pyd')\n",
    "# os.remove(pyx_name)\n",
    "os.remove(true_mod_name+'.cpp')\n",
    "os.remove(setup_name)\n",
    "shutil.rmtree('build')"
   ]
  },
  {
   "cell_type": "markdown",
   "metadata": {},
   "source": [
    "### Done!"
   ]
  },
  {
   "cell_type": "code",
   "execution_count": null,
   "metadata": {},
   "outputs": [],
   "source": []
  }
 ],
 "metadata": {
  "kernelspec": {
   "display_name": "env_pykas",
   "language": "python",
   "name": "env_pykas"
  },
  "language_info": {
   "codemirror_mode": {
    "name": "ipython",
    "version": 3
   },
   "file_extension": ".py",
   "mimetype": "text/x-python",
   "name": "python",
   "nbconvert_exporter": "python",
   "pygments_lexer": "ipython3",
   "version": "3.7.1"
  }
 },
 "nbformat": 4,
 "nbformat_minor": 2
}
