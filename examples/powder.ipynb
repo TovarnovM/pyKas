{
 "cells": [
  {
   "cell_type": "code",
   "execution_count": 1,
   "metadata": {},
   "outputs": [],
   "source": [
    "import json\n",
    "import os\n",
    "import sys\n",
    "from math import *\n",
    "wd = os.path.abspath(os.getcwd()) # os.path.dirname(os.path.dirname(os.getcwd()))\n",
    "wd = os.path.dirname(wd)\n",
    "sys.path.append(wd+\"\\\\src\")\n",
    "import numpy as np\n"
   ]
  },
  {
   "cell_type": "code",
   "execution_count": 2,
   "metadata": {},
   "outputs": [],
   "source": [
    "from gaslayer import GasFluxCalculator, GasEOS, GasLayer,GridStrecher,Powder,PowderOvLayer"
   ]
  },
  {
   "cell_type": "code",
   "execution_count": 3,
   "metadata": {},
   "outputs": [],
   "source": [
    "from tube import Tube"
   ]
  },
  {
   "cell_type": "code",
   "execution_count": 4,
   "metadata": {},
   "outputs": [],
   "source": [
    "with open('gpowders.json') as f:\n",
    "    all_powders = json.load(f)"
   ]
  },
  {
   "cell_type": "code",
   "execution_count": 5,
   "metadata": {},
   "outputs": [
    {
     "data": {
      "text/plain": [
       "{'name': '4\\\\7',\n",
       " 'f': 1.027,\n",
       " 'etta': 0.228,\n",
       " 'alpha_k': 1.008,\n",
       " 'T_1': 3006.0,\n",
       " 'ro': 1.6,\n",
       " 'I_k': 0.32,\n",
       " 'Z_k': 1.488,\n",
       " 'k_1': 0.811,\n",
       " 'lambda_1': 0.081,\n",
       " 'k_2': 0.505,\n",
       " 'lambda_2': -1.024,\n",
       " 'k_f': 0.0003,\n",
       " 'k_l': 0.0016}"
      ]
     },
     "execution_count": 5,
     "metadata": {},
     "output_type": "execute_result"
    }
   ],
   "source": [
    "all_powders[r'4\\7']"
   ]
  },
  {
   "cell_type": "code",
   "execution_count": 6,
   "metadata": {},
   "outputs": [],
   "source": [
    "powder_eos = Powder.from_bd(all_powders[r'4\\7'])"
   ]
  },
  {
   "cell_type": "code",
   "execution_count": 7,
   "metadata": {},
   "outputs": [],
   "source": [
    "flux_calculator = GasFluxCalculator()\n",
    "grid_strecher = GridStrecher()"
   ]
  },
  {
   "cell_type": "code",
   "execution_count": 23,
   "metadata": {},
   "outputs": [],
   "source": [
    "d = 23 * 1e-3\n",
    "tube = Tube([0,1], [d, d])"
   ]
  },
  {
   "cell_type": "code",
   "execution_count": 24,
   "metadata": {},
   "outputs": [
    {
     "data": {
      "text/plain": [
       "0.10315200200386698"
      ]
     },
     "execution_count": 24,
     "metadata": {},
     "output_type": "execute_result"
    }
   ],
   "source": [
    "omega = 30 * 1e-3\n",
    "q = 170 *1e-3\n",
    "delta = 700\n",
    "p_ign = 5e6\n",
    "pf = 300E6\n",
    "W_0 = omega/delta\n",
    "x0 = 0\n",
    "x1 = tube.get_x2(x0,W_0)\n",
    "x1"
   ]
  },
  {
   "cell_type": "code",
   "execution_count": 36,
   "metadata": {},
   "outputs": [],
   "source": [
    "n_cells = 100\n",
    "layer = PowderOvLayer(n_cells=n_cells, tube=tube, powder=powder_eos, flux_calculator=flux_calculator, grid_strecher=grid_strecher)\n",
    "layer.xs_borders = np.linspace(x0, x1, n_cells+1)\n",
    "def foo(x, *args):\n",
    "    return delta, p_ign, 0, 0\n",
    "layer.init_ropue_fromfoo(foo)\n",
    "layer.init_taus_acustic()"
   ]
  },
  {
   "cell_type": "code",
   "execution_count": 37,
   "metadata": {},
   "outputs": [],
   "source": [
    "def get_V(tau: float, lr: PowderOvLayer):\n",
    "    v_right = lr.Vs_borders[-1]\n",
    "    p_right = lr.ps[-1]\n",
    "    x_right = lr.xs_borders[-1]\n",
    "    if p_right > pf or abs(v_right) > 1e-3:\n",
    "        a = lr.S[-1] * p_right / q\n",
    "        return v_right + tau * a\n",
    "    return v_right"
   ]
  },
  {
   "cell_type": "code",
   "execution_count": 38,
   "metadata": {},
   "outputs": [],
   "source": [
    "courant = 0.5\n",
    "layers_all = []\n",
    "while layer.xs_borders[-1] < 1:\n",
    "    tau = layer.get_tau_min() * courant\n",
    "    vr = get_V(tau, layer)\n",
    "    layer1 = layer.step_simple(tau, 0, vr)\n",
    "    if layer == layer1:\n",
    "        break\n",
    "    layer = layer1"
   ]
  },
  {
   "cell_type": "code",
   "execution_count": 39,
   "metadata": {},
   "outputs": [],
   "source": [
    "d = layer.to_dict()"
   ]
  },
  {
   "cell_type": "code",
   "execution_count": 42,
   "metadata": {},
   "outputs": [
    {
     "name": "stdout",
     "output_type": "stream",
     "text": [
      "[  1.           8.87749541  16.75499082  24.63248623  32.50998164\n",
      "  40.38747705  48.26497246  56.14246787  64.01996328  71.89745869\n",
      "  79.7749541   87.65244951  95.52994492 103.40744033 111.28493574\n",
      " 119.16243115 127.03992656 134.91742197 142.79491738 150.67241279\n",
      " 158.5499082  166.42740361 174.30489902 182.18239443 190.05988984\n",
      " 197.93738525 205.81488066 213.69237607 221.56987148 229.44736688\n",
      " 237.32486229 245.2023577  253.07985311 260.95734852 268.83484393\n",
      " 276.71233934 284.58983475 292.46733016 300.34482557 308.22232098\n",
      " 316.09981639 323.9773118  331.85480721 339.73230262 347.60979803\n",
      " 355.48729344 363.36478885 371.24228426 379.11977967 386.99727508\n",
      " 394.87477049 402.7522659  410.62976131 418.50725672 426.38475213\n",
      " 434.26224754 442.13974295 450.01723836 457.89473377 465.77222918\n",
      " 473.64972459 481.52722    489.40471541 497.28221082 505.15970623\n",
      " 513.03720164 520.91469705 528.79219246 536.66968787 544.54718328\n",
      " 552.42467869 560.3021741  568.17966951 576.05716492 583.93466033\n",
      " 591.81215574 599.68965115 607.56714656 615.44464197 623.32213738\n",
      " 631.19963279 639.0771282  646.95462361 654.83211902 662.70961443\n",
      " 670.58710984 678.46460524 686.34210065 694.21959606 702.09709147\n",
      " 709.97458688 717.85208229 725.7295777  733.60707311 741.48456852\n",
      " 749.36206393 757.23955934 765.11705475 772.99455016 780.87204557\n",
      " 788.74954098]\n"
     ]
    }
   ],
   "source": [
    "print(d['Vs_borders'])"
   ]
  },
  {
   "cell_type": "code",
   "execution_count": null,
   "metadata": {},
   "outputs": [],
   "source": []
  }
 ],
 "metadata": {
  "kernelspec": {
   "display_name": "env_pykas",
   "language": "python",
   "name": "env_pykas"
  },
  "language_info": {
   "codemirror_mode": {
    "name": "ipython",
    "version": 3
   },
   "file_extension": ".py",
   "mimetype": "text/x-python",
   "name": "python",
   "nbconvert_exporter": "python",
   "pygments_lexer": "ipython3",
   "version": "3.7.3"
  }
 },
 "nbformat": 4,
 "nbformat_minor": 2
}
