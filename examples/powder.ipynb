{
 "cells": [
  {
   "cell_type": "code",
   "execution_count": 1,
   "metadata": {},
   "outputs": [],
   "source": [
    "import json\n",
    "import os\n",
    "import sys\n",
    "from math import *\n",
    "wd = os.path.abspath(os.getcwd()) # os.path.dirname(os.path.dirname(os.getcwd()))\n",
    "wd = os.path.dirname(wd)\n",
    "sys.path.append(wd+\"\\\\src\")\n",
    "import numpy as np\n"
   ]
  },
  {
   "cell_type": "code",
   "execution_count": 2,
   "metadata": {},
   "outputs": [],
   "source": [
    "from gaslayer import GasFluxCalculator, GasEOS, GasLayer,GridStrecher,Powder,PowderOvLayer"
   ]
  },
  {
   "cell_type": "code",
   "execution_count": 3,
   "metadata": {},
   "outputs": [],
   "source": [
    "from tube import Tube"
   ]
  },
  {
   "cell_type": "code",
   "execution_count": 4,
   "metadata": {},
   "outputs": [],
   "source": [
    "with open('gpowders.json') as f:\n",
    "    all_powders = json.load(f)"
   ]
  },
  {
   "cell_type": "code",
   "execution_count": 5,
   "metadata": {},
   "outputs": [
    {
     "data": {
      "text/plain": [
       "{'name': '4\\\\7',\n",
       " 'f': 1.027,\n",
       " 'etta': 0.228,\n",
       " 'alpha_k': 1.008,\n",
       " 'T_1': 3006.0,\n",
       " 'ro': 1.6,\n",
       " 'I_k': 0.32,\n",
       " 'Z_k': 1.488,\n",
       " 'k_1': 0.811,\n",
       " 'lambda_1': 0.081,\n",
       " 'k_2': 0.505,\n",
       " 'lambda_2': -1.024,\n",
       " 'k_f': 0.0003,\n",
       " 'k_l': 0.0016}"
      ]
     },
     "execution_count": 5,
     "metadata": {},
     "output_type": "execute_result"
    }
   ],
   "source": [
    "all_powders[r'4\\7']"
   ]
  },
  {
   "cell_type": "code",
   "execution_count": 6,
   "metadata": {},
   "outputs": [],
   "source": [
    "powder_eos = Powder.from_bd(all_powders[r'4\\7'])"
   ]
  },
  {
   "cell_type": "code",
   "execution_count": 7,
   "metadata": {},
   "outputs": [],
   "source": [
    "flux_calculator = GasFluxCalculator()\n",
    "grid_strecher = GridStrecher()"
   ]
  },
  {
   "cell_type": "code",
   "execution_count": 23,
   "metadata": {},
   "outputs": [],
   "source": [
    "d = 23 * 1e-3\n",
    "tube = Tube([0,1], [d, d])"
   ]
  },
  {
   "cell_type": "code",
   "execution_count": 24,
   "metadata": {},
   "outputs": [
    {
     "data": {
      "text/plain": [
       "0.10315200200386698"
      ]
     },
     "execution_count": 24,
     "metadata": {},
     "output_type": "execute_result"
    }
   ],
   "source": [
    "omega = 30 * 1e-3\n",
    "q = 170 *1e-3\n",
    "delta = 700\n",
    "p_ign = 5e6\n",
    "pf = 300E6\n",
    "W_0 = omega/delta\n",
    "x0 = 0\n",
    "x1 = tube.get_x2(x0,W_0)\n",
    "x1"
   ]
  },
  {
   "cell_type": "code",
   "execution_count": 54,
   "metadata": {},
   "outputs": [],
   "source": [
    "n_cells = 100\n",
    "layer = PowderOvLayer(n_cells=n_cells, tube=tube, powder=powder_eos, flux_calculator=flux_calculator, grid_strecher=grid_strecher)\n",
    "layer.xs_borders = np.linspace(x0, x1, n_cells+1)\n",
    "def foo(x, *args):\n",
    "    return delta, p_ign, 0, 0\n",
    "layer.init_ropue_fromfoo(foo)\n",
    "layer.init_taus_acustic()"
   ]
  },
  {
   "cell_type": "code",
   "execution_count": 55,
   "metadata": {},
   "outputs": [],
   "source": [
    "def get_V(tau: float, lr: PowderOvLayer):\n",
    "    v_right = lr.Vs_borders[-1]\n",
    "    p_right = lr.ps[-1]\n",
    "    x_right = lr.xs_borders[-1]\n",
    "    if p_right > pf or abs(v_right) > 1e-3:\n",
    "        a = lr.S[-1] * p_right / q\n",
    "        return v_right + tau * a\n",
    "    return v_right"
   ]
  },
  {
   "cell_type": "code",
   "execution_count": 56,
   "metadata": {},
   "outputs": [],
   "source": [
    "courant = 0.5\n",
    "layers_all = []\n",
    "while layer.xs_borders[-1] < 1:\n",
    "    tau = layer.get_tau_min() * courant\n",
    "    vr = get_V(tau, layer)\n",
    "    layer1 = layer.step_simple(tau, 0, vr)\n",
    "    if layer == layer1:\n",
    "        break\n",
    "    layer = layer1"
   ]
  },
  {
   "cell_type": "code",
   "execution_count": 57,
   "metadata": {},
   "outputs": [],
   "source": [
    "d = layer.to_dict()"
   ]
  },
  {
   "cell_type": "code",
   "execution_count": 58,
   "metadata": {},
   "outputs": [
    {
     "name": "stdout",
     "output_type": "stream",
     "text": [
      "[  4.02397602  12.06935764  20.11667813  28.16217285  36.20829901\n",
      "  44.25800366  52.29979255  60.34474662  68.39365307  76.43392849\n",
      "  84.4758516   92.51813639 100.56142697 108.60662807 116.64370251\n",
      " 124.6811408  132.7189513  140.7579057  148.7974081  156.82938569\n",
      " 164.85859034 172.88499529 180.91418845 188.95040806 196.98381856\n",
      " 205.00929945 213.03267782 221.05529311 229.07717497 237.09813236\n",
      " 245.11893886 253.13734792 261.15078076 269.16272971 277.17410888\n",
      " 285.18508404 293.19298889 301.19692055 309.20260175 317.20987358\n",
      " 325.2145361  333.21691343 341.21789757 349.21860039 357.21795045\n",
      " 365.21272872 373.20261238 381.19075937 389.17708399 397.16127292\n",
      " 405.14188041 413.11690431 421.08528132 429.04833874 437.00548519\n",
      " 444.95609404 452.89567428 460.82222993 468.73816999 476.64297069\n",
      " 484.53488095 492.40893017 500.26522759 508.10745875 515.93412333\n",
      " 523.74057118 531.52522857 539.28837315 547.03226112 554.75644194\n",
      " 562.45746649 570.1377369  577.79814571 585.43839042 593.05798121\n",
      " 600.65867188 608.24621084 615.81667617 623.3674341  630.90514108\n",
      " 638.43317145 645.94759605 653.45113319 660.94694858 668.43625972\n",
      " 675.91559284 683.39236172 690.86560281 698.33272254 705.7982618\n",
      " 713.26273618 720.72575141 728.1879619  735.65132684 743.11565261\n",
      " 750.57986264 758.04750053 765.51713511 772.98768052 780.46512879]\n"
     ]
    }
   ],
   "source": [
    "print(d['us'])"
   ]
  },
  {
   "cell_type": "code",
   "execution_count": null,
   "metadata": {},
   "outputs": [],
   "source": []
  }
 ],
 "metadata": {
  "kernelspec": {
   "display_name": "env_pykas",
   "language": "python",
   "name": "env_pykas"
  },
  "language_info": {
   "codemirror_mode": {
    "name": "ipython",
    "version": 3
   },
   "file_extension": ".py",
   "mimetype": "text/x-python",
   "name": "python",
   "nbconvert_exporter": "python",
   "pygments_lexer": "ipython3",
   "version": "3.7.3"
  }
 },
 "nbformat": 4,
 "nbformat_minor": 2
}
