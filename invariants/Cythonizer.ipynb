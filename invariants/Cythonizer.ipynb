{
 "cells": [
  {
   "cell_type": "markdown",
   "metadata": {},
   "source": [
    "#### Введи имя модуля"
   ]
  },
  {
   "cell_type": "code",
   "execution_count": 1,
   "metadata": {},
   "outputs": [],
   "source": [
    "true_mod_name = 'tube'\n",
    "pyx_name = true_mod_name+'.pyx'"
   ]
  },
  {
   "cell_type": "markdown",
   "metadata": {},
   "source": [
    "#### ниже строчки *'%%writefile tmp_module.pyx'* вставь Cython код"
   ]
  },
  {
   "cell_type": "code",
   "execution_count": 2,
   "metadata": {},
   "outputs": [
    {
     "name": "stdout",
     "output_type": "stream",
     "text": [
      "Writing tube.pyx\n"
     ]
    }
   ],
   "source": [
    "%%writefile $pyx_name\n",
    "import numpy as np\n",
    "from copy import deepcopy\n",
    "import cython\n",
    "from libc.math cimport pi\n",
    "\n",
    "cdef class InterpXY(object):\n",
    "    cdef double[:] xs, ys, ks, bs\n",
    "    cdef int length, n\n",
    "    def __init__(self, xs, ys):\n",
    "        self.xs = np.array(xs, dtype=np.double)\n",
    "        self.ys = np.array(ys, dtype=np.double)\n",
    "        if len(xs) != len(ys):\n",
    "            raise AttributeError(f'Длины xs ({len(xs)}) и ys ({len(ys)}) не одинаковы')\n",
    "        cdef double[:] kv = np.zeros(len(xs), dtype=np.double)\n",
    "        self.ks = kv\n",
    "        cdef double[:] bv = np.zeros(len(xs), dtype=np.double)\n",
    "        self.bs = bv\n",
    "        self.sync_ks_bs()\n",
    "        self.n = 0\n",
    "    \n",
    "    @cython.boundscheck(False)\n",
    "    @cython.wraparound(False)   \n",
    "    cpdef double get_v(self, double x):\n",
    "        cdef double tt = x\n",
    "        cdef int n = self.set_n(tt)\n",
    "        if n < 0 or n == (self.length-1) or self.length == 1:\n",
    "            n = 0 if n<0 else n\n",
    "            self.n = n\n",
    "            return self.ys[n]\n",
    "        self.n = n\n",
    "        return self.ks[n] * tt + self.bs[n]\n",
    "\n",
    "    @cython.boundscheck(False)\n",
    "    @cython.wraparound(False)\n",
    "    cpdef double[:] get_vs(self, double[:] xs):\n",
    "        cdef double[:] res = np.empty(xs.shape, dtype=np.double)\n",
    "        cdef int i\n",
    "        for i in range(xs.shape[0]):\n",
    "            res[i] = self.get_v(xs[i])\n",
    "        return res\n",
    "        \n",
    "    @cython.boundscheck(False)\n",
    "    @cython.wraparound(False)\n",
    "    cdef int set_n(self, double t):\n",
    "        cdef int n = self.n\n",
    "        if n < 0:\n",
    "            if self.xs[0] > t:\n",
    "                return -1\n",
    "            n = 0\n",
    "        cdef int minw, maxw;\n",
    "        cdef int lengthM1 = self.length - 1;\n",
    "        if self.xs[n] <= t:\n",
    "            if n == lengthM1 or self.xs[n + 1] > t:\n",
    "                return n\n",
    "            n += 1\n",
    "            if n == lengthM1 or self.xs[n + 1] > t:\n",
    "                return n\n",
    "            if self.xs[self.length-1] <= t:\n",
    "                return lengthM1\n",
    "            minw = n\n",
    "            maxw = lengthM1\n",
    "        else:\n",
    "            if n == 0 or self.xs[n - 1] <= t:\n",
    "                return n-1\n",
    "            if self.xs[0] > t:\n",
    "                n = -1\n",
    "                return n\n",
    "            minw = 0\n",
    "            maxw = n\n",
    "        while minw != maxw:\n",
    "            n = (minw + maxw) // 2\n",
    "            if self.xs[n] <= t:\n",
    "                if self.xs[n + 1] > t:\n",
    "                    return n\n",
    "                minw = n\n",
    "            else:\n",
    "                maxw = n\n",
    "        n = minw\n",
    "        return n\n",
    "    \n",
    "    @cython.boundscheck(False)\n",
    "    @cython.wraparound(False)\n",
    "    cdef void sync_ks_bs(self):\n",
    "        self.length = len(self.xs)\n",
    "        cdef size_t i\n",
    "        for i in range(self.length):\n",
    "            self.ks[i] = (self.ys[i + 1] - self.ys[i]) / (self.xs[i + 1] - self.xs[i])\n",
    "            self.bs[i] = self.ys[i] - self.ks[i] * self.xs[i]\n",
    "\n",
    "cdef class Tube(object):\n",
    "    cdef InterpXY d, s, w, w_reverse\n",
    "    def __init__(self, xs, ds):\n",
    "        xs = np.asarray(xs, dtype=np.double)\n",
    "        dd = np.asarray(ds, dtype=np.double)\n",
    "        self.s = InterpXY(xs, dd)\n",
    "        ss = dd ** 2 * pi * 0.25\n",
    "        self.s = InterpXY(xs, ss)\n",
    "        def ConeW(d1, d2, h):\n",
    "            return pi * h * (d1 * d1 + d1 * d2 + d2 * d2) / 12\n",
    "\n",
    "        xss = [xs[0] - 0.1] + [x for x in xs] + [xs[-1] + 0.1]\n",
    "        dss = [ds[0]] + [d for d in ds] + [ds[-1]]\n",
    "\n",
    "        ws = [0]\n",
    "        for x1, x2, d1, d2 in zip(xss, xss[1:], dss, dss[1:]):\n",
    "            ws.append(ConeW(d1, d2, x2 - x1) + ws[-1])\n",
    "\n",
    "        self.w = InterpXY(xss, ws)\n",
    "        self.w_reverse = InterpXY(ws, xss)\n",
    "    \n",
    "    @cython.boundscheck(False)\n",
    "    @cython.wraparound(False)    \n",
    "    cpdef double[:] get_dsdx(self, double[:] xs):\n",
    "        cdef double[:] res = np.empty(xs.shape[0]-1, dtype=np.double)\n",
    "        cdef int i\n",
    "        cdef double dx, si ,si1\n",
    "        si = self.s.get_v(xs[0])\n",
    "        for i in range(res.shape[0]):\n",
    "            si1  = self.s.get_v(xs[i+1])\n",
    "            dx = xs[i+1] - xs[i]\n",
    "            res[i] = (si1-si)/dx\n",
    "            si = si1\n",
    "        return res\n",
    "    \n",
    "    @cython.boundscheck(False)\n",
    "    @cython.wraparound(False)      \n",
    "    cpdef double[:] get_W(self, double[:] xs):\n",
    "        cdef double[:] res = np.empty(xs.shape[0]-1, dtype=np.double)\n",
    "        cdef int i\n",
    "        cdef double wi ,wi1\n",
    "        wi = self.w.get_v(xs[0])\n",
    "        for i in range(res.shape[0]):\n",
    "            wi1  = self.w.get_v(xs[i+1])\n",
    "            res[i] = wi1 - wi\n",
    "            wi = wi1\n",
    "        return res  \n",
    "        \n",
    "    cpdef double[:] get_S(self, double[:] xs):\n",
    "        return self.s.get_vs(xs) \n",
    "    \n",
    "    cpdef double get_x2(self, double x1, double w):\n",
    "        cdef double w1 = self.w.get_v(x1)\n",
    "        return self.w_reverse.get_v(w1 + w)\n",
    "    \n",
    "    cpdef double get_W_between(self, double x1, double x2):\n",
    "        return self.w.get_v(x2) - self.w.get_v(x1)"
   ]
  },
  {
   "cell_type": "code",
   "execution_count": 3,
   "metadata": {},
   "outputs": [],
   "source": [
    "setup_string = \\\n",
    "f\"\"\"\n",
    "from distutils.core import setup\n",
    "from Cython.Build import cythonize\n",
    "if __name__ == '__main__':\n",
    "    setup(\n",
    "        name='{true_mod_name}',\n",
    "        ext_modules = cythonize(\"{pyx_name}\", language=\"c++\")\n",
    ")\n",
    "\"\"\"\n",
    "setup_name = true_mod_name+'_setup.py'\n",
    "with open(setup_name, mode='w') as f:\n",
    "    f.write(setup_string)"
   ]
  },
  {
   "cell_type": "code",
   "execution_count": 4,
   "metadata": {},
   "outputs": [
    {
     "name": "stdout",
     "output_type": "stream",
     "text": [
      "Warning: passing language='c++' to cythonize() is deprecated. Instead, put \"# distutils: language=c++\" in your .pyx or .pxd file(s)\n",
      "Compiling tube.pyx because it changed.\n",
      "[1/1] Cythonizing tube.pyx\n",
      "running build_ext\n",
      "building 'tube' extension\n",
      "creating build\\temp.win-amd64-3.7\n",
      "creating build\\temp.win-amd64-3.7\\Release\n",
      "C:\\Program Files (x86)\\Microsoft Visual Studio\\2017\\Community\\VC\\Tools\\MSVC\\14.15.26726\\bin\\HostX86\\x64\\cl.exe /c /nologo /Ox /W3 /GL /DNDEBUG /MD -ID:\\PyKas\\env_pykas\\include -IC:\\ProgramData\\Anaconda3\\include -IC:\\ProgramData\\Anaconda3\\include \"-IC:\\Program Files (x86)\\Microsoft Visual Studio\\2017\\Community\\VC\\Tools\\MSVC\\14.15.26726\\ATLMFC\\include\" \"-IC:\\Program Files (x86)\\Microsoft Visual Studio\\2017\\Community\\VC\\Tools\\MSVC\\14.15.26726\\include\" \"-IC:\\Program Files (x86)\\Windows Kits\\NETFXSDK\\4.6.1\\include\\um\" \"-IC:\\Program Files (x86)\\Windows Kits\\10\\include\\10.0.17134.0\\ucrt\" \"-IC:\\Program Files (x86)\\Windows Kits\\10\\include\\10.0.17134.0\\shared\" \"-IC:\\Program Files (x86)\\Windows Kits\\10\\include\\10.0.17134.0\\um\" \"-IC:\\Program Files (x86)\\Windows Kits\\10\\include\\10.0.17134.0\\winrt\" \"-IC:\\Program Files (x86)\\Windows Kits\\10\\include\\10.0.17134.0\\cppwinrt\" /EHsc /Tptube.cpp /Fobuild\\temp.win-amd64-3.7\\Release\\tube.obj\n",
      "tube.cpp\n",
      "tube.cpp(3712): warning C4267: =: ЇаҐ®Ўа §®ў ­ЁҐ Ё§ \"size_t\" ў \"int\"; ў®§¬®¦­  Ї®вҐап ¤ ­­ле\n",
      "C:\\Program Files (x86)\\Microsoft Visual Studio\\2017\\Community\\VC\\Tools\\MSVC\\14.15.26726\\bin\\HostX86\\x64\\link.exe /nologo /INCREMENTAL:NO /LTCG /DLL /MANIFEST:EMBED,ID=2 /MANIFESTUAC:NO /LIBPATH:D:\\PyKas\\env_pykas\\libs /LIBPATH:C:\\ProgramData\\Anaconda3\\libs /LIBPATH:C:\\ProgramData\\Anaconda3 /LIBPATH:D:\\PyKas\\env_pykas\\PCbuild\\amd64 \"/LIBPATH:C:\\Program Files (x86)\\Microsoft Visual Studio\\2017\\Community\\VC\\Tools\\MSVC\\14.15.26726\\ATLMFC\\lib\\x64\" \"/LIBPATH:C:\\Program Files (x86)\\Microsoft Visual Studio\\2017\\Community\\VC\\Tools\\MSVC\\14.15.26726\\lib\\x64\" \"/LIBPATH:C:\\Program Files (x86)\\Windows Kits\\NETFXSDK\\4.6.1\\lib\\um\\x64\" \"/LIBPATH:C:\\Program Files (x86)\\Windows Kits\\10\\lib\\10.0.17134.0\\ucrt\\x64\" \"/LIBPATH:C:\\Program Files (x86)\\Windows Kits\\10\\lib\\10.0.17134.0\\um\\x64\" /EXPORT:PyInit_tube build\\temp.win-amd64-3.7\\Release\\tube.obj /OUT:D:\\PyKas\\jupyters\\tube.cp37-win_amd64.pyd /IMPLIB:build\\temp.win-amd64-3.7\\Release\\tube.cp37-win_amd64.lib\n",
      "   Создается библиотека build\\temp.win-amd64-3.7\\Release\\tube.cp37-win_amd64.lib и объект build\\temp.win-amd64-3.7\\Release\\tube.cp37-win_amd64.exp\n",
      "Создание кода\n",
      "Создание кода завершено\n"
     ]
    },
    {
     "name": "stderr",
     "output_type": "stream",
     "text": [
      "D:\\PyKas\\env_pykas\\lib\\site-packages\\Cython\\Compiler\\Main.py:367: FutureWarning: Cython directive 'language_level' not set, using 2 for now (Py2). This will change in a later release! File: D:\\PyKas\\jupyters\\tube.pyx\n",
      "  tree = Parsing.p_module(s, pxd, full_module_name)\n"
     ]
    }
   ],
   "source": [
    "!python $setup_name build_ext --inplace"
   ]
  },
  {
   "cell_type": "markdown",
   "metadata": {},
   "source": [
    "### Чистим, переименовываем"
   ]
  },
  {
   "cell_type": "code",
   "execution_count": 5,
   "metadata": {},
   "outputs": [
    {
     "name": "stdout",
     "output_type": "stream",
     "text": [
      "list index out of range\n"
     ]
    }
   ],
   "source": [
    "import glob\n",
    "import os\n",
    "import shutil\n",
    "\n",
    "\n",
    "try:\n",
    "    f2 = glob.glob(true_mod_name+'.pyd')\n",
    "    os.remove(f2[0])\n",
    "except Exception as e:\n",
    "    print(e)\n",
    "\n",
    "f = glob.glob(true_mod_name+'*.pyd')\n",
    "os.rename(f[0], true_mod_name+'.pyd')\n",
    "# os.remove(pyx_name)\n",
    "os.remove(true_mod_name+'.cpp')\n",
    "os.remove(setup_name)\n",
    "shutil.rmtree('build')"
   ]
  },
  {
   "cell_type": "markdown",
   "metadata": {},
   "source": [
    "### Done!"
   ]
  },
  {
   "cell_type": "code",
   "execution_count": null,
   "metadata": {},
   "outputs": [],
   "source": []
  }
 ],
 "metadata": {
  "kernelspec": {
   "display_name": "Python 3",
   "language": "python",
   "name": "python3"
  },
  "language_info": {
   "codemirror_mode": {
    "name": "ipython",
    "version": 3
   },
   "file_extension": ".py",
   "mimetype": "text/x-python",
   "name": "python",
   "nbconvert_exporter": "python",
   "pygments_lexer": "ipython3",
   "version": "3.7.1"
  }
 },
 "nbformat": 4,
 "nbformat_minor": 2
}
