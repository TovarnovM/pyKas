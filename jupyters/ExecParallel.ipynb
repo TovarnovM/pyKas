{
 "cells": [
  {
   "cell_type": "code",
   "execution_count": 10,
   "metadata": {},
   "outputs": [
    {
     "name": "stdout",
     "output_type": "stream",
     "text": [
      "importing time on engine(s)\n",
      "importing random on engine(s)\n",
      "запущено  4  ядер\n",
      "result of 2, time 1.7041287677299382\n",
      "result of 1, time 2.3876548631431214\n",
      "result of 0, time 2.521168301807199\n",
      "result of 6, time 1.2613714749530858\n",
      "result of 3, time 3.9720367905305713\n",
      "result of 4, time 3.277509779026752\n",
      "result of 5, time 2.7059188646991124\n"
     ]
    }
   ],
   "source": [
    "from ipyparallel import Client\n",
    "cl = Client()\n",
    "lbv = cl.load_balanced_view()\n",
    "    \n",
    "with cl[:].sync_imports():\n",
    "    import time\n",
    "    import random\n",
    "\n",
    "def tst_fun(par):\n",
    "    tm = random.random()*3+1\n",
    "    time.sleep(tm)\n",
    "    return f\"result of {par}, time {tm}\"\n",
    "\n",
    "print('запущено ' , len(cl[:]), ' ядер')\n",
    "\n",
    "result = lbv.map(tst_fun, range(7), ordered=False)\n",
    "for r in result:\n",
    "    print(r)"
   ]
  },
  {
   "cell_type": "code",
   "execution_count": 9,
   "metadata": {},
   "outputs": [],
   "source": [
    "lbv.map?"
   ]
  },
  {
   "cell_type": "code",
   "execution_count": 4,
   "metadata": {},
   "outputs": [
    {
     "name": "stdout",
     "output_type": "stream",
     "text": [
      "Overwriting OptiSwarm\\ExecParallel.py\n"
     ]
    }
   ],
   "source": [
    "%%writefile OptiSwarm\\ExecParallel.py\n",
    "\n",
    "from rx import Observable\n",
    "from rx.concurrency import ThreadPoolScheduler,CurrentThreadScheduler\n",
    "from enum import Enum\n",
    "\n",
    "ExState = Enum('ExState', 'paused playing error')\n",
    "\n",
    "def param_res_wrapp(f):\n",
    "    \"\"\"\n",
    "    Функция для обертки обычной фитнесс-функции,\n",
    "    возвращает кортеж (патаметр, f(параметр))\n",
    "    \"\"\"\n",
    "    def inner(par):\n",
    "        return par, f(par)\n",
    "    return inner\n",
    "\n",
    "class ExecParallel(object):\n",
    "    \"\"\"\n",
    "    класс-обертка для вычислительного кластера\n",
    "    Поля класса:\n",
    "        client     - ссылка на ipyparallel.Client()\n",
    "        lbv        - ссылка на client.load_balanced_view()\n",
    "        fit_fun    - ссылка на фитнесс-функцию. Функция принимает 1 аргумент (хромосому)\n",
    "        async_res  - ссылка на async result от lbv.map_async(...)\n",
    "        stream     - Observable поток кортежей результатов вычисления (патаметр, результат вычисления)\n",
    "    \"\"\"\n",
    "    def __init__(self, client, fit_fun):\n",
    "        \"\"\"\n",
    "        Конструктор -__- класса ExecParallel\n",
    "        \n",
    "        Аргумены:\n",
    "            client     - ссылка на ipyparallel.Client()\n",
    "            fit_fun    - ссылка на фитнесс-функцию. Функция принимает 1 аргумент (хромосому)\n",
    "        \"\"\"\n",
    "        try:           \n",
    "            self.client = client\n",
    "            self.lbv = client.load_balanced_view()\n",
    "            self.fit_fun = fit_fun\n",
    "            self._state = ExState.paused\n",
    "            self.scheduler=ThreadPoolScheduler()\n",
    "            self.async_res = None\n",
    "            self.stream = None\n",
    "        except:\n",
    "            self._state = ExState.error\n",
    "        \n",
    "    def state(self):\n",
    "        \"\"\"\n",
    "        Состояние, в котором находится объект:\n",
    "            ExState.paused \n",
    "            ExState.playing \n",
    "            ExState.error   \n",
    "        \"\"\"\n",
    "        return self._state\n",
    "   \n",
    "    def execute(self,params):\n",
    "        \"\"\"\n",
    "        основная функция. Функция высшего порядка map для функции fit_fun. Для вычисления используется кластер client/lbv.\n",
    "        Функция возвращает Observable-поток, на который можно подписаться) Поток состоит из кортежа\n",
    "        (параметр, fit_fun(параметр))\n",
    "        \n",
    "        Аргументы:\n",
    "            params - список/iterable объект, содержащий элементы-аргументы для fit_fun \n",
    "        \"\"\"\n",
    "\n",
    "        self.async_res = self.lbv.map_async(param_res_wrapp(self.fit_fun),params,ordered = False)\n",
    "        def callb():\n",
    "            self._state = ExState.paused\n",
    "        self.stream = Observable.from_(iter(self.async_res), scheduler=self.scheduler)\\\n",
    "            .publish().auto_connect(2)\n",
    "        self.stream.subscribe(on_completed=callb)\n",
    "        self._state = ExState.playing\n",
    "        return self.stream\n",
    "        \n",
    "    def wait(self, timeout=-1):\n",
    "        \"\"\"\n",
    "        Wait until the result is available or until `timeout` miliseconds pass.\n",
    "        \n",
    "        Возвращает 'beep beep', если сработал таймер (таймер истек раньше, чем закончились расчеты),\n",
    "        или 0, если расчеты закончились раньше\n",
    "        \"\"\"\n",
    "        if self.stream is None:\n",
    "            return 0\n",
    "        \n",
    "        if timeout<0:\n",
    "            lasty = self.stream.to_blocking().last_or_default(0)\n",
    "            return 0\n",
    "        \n",
    "        timer_message = 'beep beep'\n",
    "        timer = Observable.timer(timeout).map(lambda x: timer_message)\n",
    "        lasty = self.stream.last_or_default(0)\\\n",
    "            .amb(timer)\\\n",
    "            .observe_on(CurrentThreadScheduler())\\\n",
    "            .to_blocking()\\\n",
    "            .first()\n",
    "        return timer_message if lasty == timer_message else 0\n",
    "    def abort(self):\n",
    "        \"\"\"\n",
    "        Отменяет расчет,\n",
    "        врзвращает количество отмененных задач\n",
    "        \"\"\"\n",
    "        try:  \n",
    "            if self.async_res is None:\n",
    "                return 0\n",
    "            if self.stream is None:\n",
    "                return 0\n",
    "           # if self.async_res.\n",
    "            results = []\n",
    "            self.stream\\\n",
    "                .observe_on(CurrentThreadScheduler())\\\n",
    "                .filter(lambda x: not isinstance(x,tuple))\\\n",
    "                .subscribe(on_next = lambda x: results.append(x))\n",
    "\n",
    "            self.async_res.abort()\n",
    "\n",
    "            self.wait()\n",
    "            return len(results)\n",
    "        except:\n",
    "            return 0\n",
    "            \n",
    "if __name__ == '__main__':\n",
    "    from ipyparallel import Client\n",
    "    cl = Client()\n",
    "    lbv = cl.load_balanced_view()\n",
    "    \n",
    "    with cl[:].sync_imports():\n",
    "        import time\n",
    "        import random\n",
    "        \n",
    "    def tst_fun(par):\n",
    "        tm = random.random()*3+1\n",
    "        time.sleep(tm)\n",
    "        return f\"result of {par}, time {tm}\"\n",
    "    \n",
    "    print('запущено ' , len(cl[:]), ' ядер')\n",
    "    ex = ExecParallel(cl,tst_fun)\n",
    "    n = 33\n",
    "    obs = ex.execute(range(n))\n",
    "    results = []\n",
    "    def onnext(x):\n",
    "        print(x)\n",
    "        results.append(x)\n",
    "    \n",
    "    obs.filter(lambda x: isinstance(x,tuple))\\\n",
    "        .subscribe(on_next=onnext,\n",
    "                   on_completed = lambda: print('done'),\n",
    "                   on_error=lambda e: print('error ',e))\n",
    "        \n",
    "    print('запущено ' , n, ' задач')\n",
    "    t = 2000\n",
    "    res = ex.wait(t)\n",
    "    print('отменено спустя' , t, ' мс, код = ', res)\n",
    "    aborted = ex.abort()\n",
    "    print('отменено (не посчитано) ' , aborted, ' шт.')\n",
    "    print('посчитано               ' , len(results), ' шт.')\n",
    "    print('всего                   ' , aborted+len(results), ' шт.')"
   ]
  },
  {
   "cell_type": "code",
   "execution_count": 11,
   "metadata": {},
   "outputs": [
    {
     "name": "stdout",
     "output_type": "stream",
     "text": [
      "importing time on engine(s)\n",
      "importing random on engine(s)\n",
      "запущено  22  шт.\n",
      "(2, 'result of 2, time 1.5291243270912127') ExState.playing None\n",
      "(3, 'result of 3, time 1.8269372725750472') ExState.playing None\n",
      "отменено спустя 2000  мс, код =  beep beep\n",
      "(5, 'result of 5, time 2.1058941732529277') ExState.playing None\n",
      "(7, 'result of 7, time 2.2400392504406774') ExState.playing None\n",
      "(4, 'result of 4, time 2.850995926237483') ExState.playing None\n",
      "(8, 'result of 8, time 1.6611461865838462') ExState.playing None\n",
      "(0, 'result of 0, time 3.4586165670715374') ExState.playing None\n",
      "(6, 'result of 6, time 3.6966983883273885') ExState.playing None\n",
      "(1, 'result of 1, time 3.929813843997981') ExState.playing None\n",
      "(9, 'result of 9, time 3.639481302504251') ExState.playing None\n",
      "done\n",
      "отменено (не посчитано)  12  шт.\n",
      "посчитано                10  шт.\n",
      "всего                    22  шт.\n"
     ]
    }
   ],
   "source": [
    "from ipyparallel import Client\n",
    "cl = Client()\n",
    "lbv = cl.load_balanced_view()\n",
    "\n",
    "with cl[:].sync_imports():\n",
    "    import time\n",
    "    import random\n",
    "\n",
    "def tst_fun(par):\n",
    "    tm = random.random()*3+1\n",
    "    time.sleep(tm)\n",
    "    return f\"result of {par}, time {tm}\"\n",
    "\n",
    "ex = ExecParallel(cl,tst_fun)\n",
    "n = 22\n",
    "obs = ex.execute(range(n))\n",
    "results = []\n",
    "obs.filter(lambda x: isinstance(x,tuple))\\\n",
    "    .subscribe(on_next=lambda x: print(x, ex.state(), results.append(x)),\n",
    "               on_completed = lambda: print('done'),\n",
    "               on_error=lambda e: print('error ',e))\n",
    "print('запущено ' , n, ' шт.')\n",
    "t = 2000\n",
    "res = ex.wait(t)\n",
    "print('отменено спустя' , t, ' мс, код = ', res)\n",
    "aborted = ex.abort()\n",
    "print('отменено (не посчитано) ' , aborted, ' шт.')\n",
    "print('посчитано               ' , len(results), ' шт.')\n",
    "print('всего                   ' , aborted+len(results), ' шт.')\n"
   ]
  },
  {
   "cell_type": "code",
   "execution_count": 15,
   "metadata": {},
   "outputs": [
    {
     "data": {
      "text/plain": [
       "False"
      ]
     },
     "execution_count": 15,
     "metadata": {},
     "output_type": "execute_result"
    }
   ],
   "source": [
    "ex.stream."
   ]
  },
  {
   "cell_type": "code",
   "execution_count": 32,
   "metadata": {},
   "outputs": [
    {
     "data": {
      "text/plain": [
       "<rx.disposables.anonymousdisposable.AnonymousDisposable at 0x27178a64588>"
      ]
     },
     "execution_count": 32,
     "metadata": {},
     "output_type": "execute_result"
    },
    {
     "name": "stdout",
     "output_type": "stream",
     "text": [
      "0\n",
      "done\n"
     ]
    }
   ],
   "source": [
    "Observable.timer(1000).subscribe(on_next=lambda x: print(x), on_completed=lambda:print('done'))"
   ]
  },
  {
   "cell_type": "code",
   "execution_count": 112,
   "metadata": {},
   "outputs": [
    {
     "ename": "TypeError",
     "evalue": "'TaskAborted' object is not iterable",
     "output_type": "error",
     "traceback": [
      "\u001b[1;31m---------------------------------------------------------------------------\u001b[0m",
      "\u001b[1;31mTypeError\u001b[0m                                 Traceback (most recent call last)",
      "\u001b[1;32m<ipython-input-112-0748a9bcef88>\u001b[0m in \u001b[0;36m<module>\u001b[1;34m()\u001b[0m\n\u001b[1;32m----> 1\u001b[1;33m \u001b[0mex\u001b[0m\u001b[1;33m.\u001b[0m\u001b[0masync_res\u001b[0m\u001b[1;33m.\u001b[0m\u001b[0mget\u001b[0m\u001b[1;33m(\u001b[0m\u001b[1;33m)\u001b[0m\u001b[1;33m\u001b[0m\u001b[0m\n\u001b[0m",
      "\u001b[1;32m~\\Anaconda3\\lib\\site-packages\\ipyparallel\\client\\asyncresult.py\u001b[0m in \u001b[0;36mget\u001b[1;34m(self, timeout)\u001b[0m\n\u001b[0;32m    165\u001b[0m                 \u001b[1;32mreturn\u001b[0m \u001b[0mself\u001b[0m\u001b[1;33m.\u001b[0m\u001b[0mresult\u001b[0m\u001b[1;33m(\u001b[0m\u001b[1;33m)\u001b[0m\u001b[1;33m\u001b[0m\u001b[0m\n\u001b[0;32m    166\u001b[0m             \u001b[1;32melse\u001b[0m\u001b[1;33m:\u001b[0m\u001b[1;33m\u001b[0m\u001b[0m\n\u001b[1;32m--> 167\u001b[1;33m                 \u001b[1;32mraise\u001b[0m \u001b[0mself\u001b[0m\u001b[1;33m.\u001b[0m\u001b[0mexception\u001b[0m\u001b[1;33m(\u001b[0m\u001b[1;33m)\u001b[0m\u001b[1;33m\u001b[0m\u001b[0m\n\u001b[0m\u001b[0;32m    168\u001b[0m         \u001b[1;32melse\u001b[0m\u001b[1;33m:\u001b[0m\u001b[1;33m\u001b[0m\u001b[0m\n\u001b[0;32m    169\u001b[0m             \u001b[1;32mraise\u001b[0m \u001b[0merror\u001b[0m\u001b[1;33m.\u001b[0m\u001b[0mTimeoutError\u001b[0m\u001b[1;33m(\u001b[0m\u001b[1;34m\"Result not ready.\"\u001b[0m\u001b[1;33m)\u001b[0m\u001b[1;33m\u001b[0m\u001b[0m\n",
      "\u001b[1;32m~\\Anaconda3\\lib\\site-packages\\ipyparallel\\client\\asyncresult.py\u001b[0m in \u001b[0;36m_resolve_result\u001b[1;34m(self, f)\u001b[0m\n\u001b[0;32m    226\u001b[0m                 \u001b[0mresults\u001b[0m \u001b[1;33m=\u001b[0m \u001b[0merror\u001b[0m\u001b[1;33m.\u001b[0m\u001b[0mcollect_exceptions\u001b[0m\u001b[1;33m(\u001b[0m\u001b[0mresults\u001b[0m\u001b[1;33m,\u001b[0m \u001b[0mself\u001b[0m\u001b[1;33m.\u001b[0m\u001b[0m_fname\u001b[0m\u001b[1;33m)\u001b[0m\u001b[1;33m\u001b[0m\u001b[0m\n\u001b[0;32m    227\u001b[0m             \u001b[0mself\u001b[0m\u001b[1;33m.\u001b[0m\u001b[0m_success\u001b[0m \u001b[1;33m=\u001b[0m \u001b[1;32mTrue\u001b[0m\u001b[1;33m\u001b[0m\u001b[0m\n\u001b[1;32m--> 228\u001b[1;33m             \u001b[0mself\u001b[0m\u001b[1;33m.\u001b[0m\u001b[0mset_result\u001b[0m\u001b[1;33m(\u001b[0m\u001b[0mself\u001b[0m\u001b[1;33m.\u001b[0m\u001b[0m_reconstruct_result\u001b[0m\u001b[1;33m(\u001b[0m\u001b[0mresults\u001b[0m\u001b[1;33m)\u001b[0m\u001b[1;33m)\u001b[0m\u001b[1;33m\u001b[0m\u001b[0m\n\u001b[0m\u001b[0;32m    229\u001b[0m         \u001b[1;32mexcept\u001b[0m \u001b[0mException\u001b[0m \u001b[1;32mas\u001b[0m \u001b[0me\u001b[0m\u001b[1;33m:\u001b[0m\u001b[1;33m\u001b[0m\u001b[0m\n\u001b[0;32m    230\u001b[0m             \u001b[0mself\u001b[0m\u001b[1;33m.\u001b[0m\u001b[0m_success\u001b[0m \u001b[1;33m=\u001b[0m \u001b[1;32mFalse\u001b[0m\u001b[1;33m\u001b[0m\u001b[0m\n",
      "\u001b[1;32m~\\Anaconda3\\lib\\site-packages\\ipyparallel\\client\\asyncresult.py\u001b[0m in \u001b[0;36m_reconstruct_result\u001b[1;34m(self, res)\u001b[0m\n\u001b[0;32m    666\u001b[0m     \u001b[1;32mdef\u001b[0m \u001b[0m_reconstruct_result\u001b[0m\u001b[1;33m(\u001b[0m\u001b[0mself\u001b[0m\u001b[1;33m,\u001b[0m \u001b[0mres\u001b[0m\u001b[1;33m)\u001b[0m\u001b[1;33m:\u001b[0m\u001b[1;33m\u001b[0m\u001b[0m\n\u001b[0;32m    667\u001b[0m         \u001b[1;34m\"\"\"Perform the gather on the actual results.\"\"\"\u001b[0m\u001b[1;33m\u001b[0m\u001b[0m\n\u001b[1;32m--> 668\u001b[1;33m         \u001b[1;32mreturn\u001b[0m \u001b[0mself\u001b[0m\u001b[1;33m.\u001b[0m\u001b[0m_mapObject\u001b[0m\u001b[1;33m.\u001b[0m\u001b[0mjoinPartitions\u001b[0m\u001b[1;33m(\u001b[0m\u001b[0mres\u001b[0m\u001b[1;33m)\u001b[0m\u001b[1;33m\u001b[0m\u001b[0m\n\u001b[0m\u001b[0;32m    669\u001b[0m \u001b[1;33m\u001b[0m\u001b[0m\n\u001b[0;32m    670\u001b[0m     \u001b[1;31m# asynchronous iterator:\u001b[0m\u001b[1;33m\u001b[0m\u001b[1;33m\u001b[0m\u001b[0m\n",
      "\u001b[1;32m~\\Anaconda3\\lib\\site-packages\\ipyparallel\\client\\map.py\u001b[0m in \u001b[0;36mjoinPartitions\u001b[1;34m(self, listOfPartitions)\u001b[0m\n\u001b[0;32m     64\u001b[0m \u001b[1;33m\u001b[0m\u001b[0m\n\u001b[0;32m     65\u001b[0m     \u001b[1;32mdef\u001b[0m \u001b[0mjoinPartitions\u001b[0m\u001b[1;33m(\u001b[0m\u001b[0mself\u001b[0m\u001b[1;33m,\u001b[0m \u001b[0mlistOfPartitions\u001b[0m\u001b[1;33m)\u001b[0m\u001b[1;33m:\u001b[0m\u001b[1;33m\u001b[0m\u001b[0m\n\u001b[1;32m---> 66\u001b[1;33m         \u001b[1;32mreturn\u001b[0m \u001b[0mself\u001b[0m\u001b[1;33m.\u001b[0m\u001b[0mconcatenate\u001b[0m\u001b[1;33m(\u001b[0m\u001b[0mlistOfPartitions\u001b[0m\u001b[1;33m)\u001b[0m\u001b[1;33m\u001b[0m\u001b[0m\n\u001b[0m\u001b[0;32m     67\u001b[0m \u001b[1;33m\u001b[0m\u001b[0m\n\u001b[0;32m     68\u001b[0m     \u001b[1;32mdef\u001b[0m \u001b[0mconcatenate\u001b[0m\u001b[1;33m(\u001b[0m\u001b[0mself\u001b[0m\u001b[1;33m,\u001b[0m \u001b[0mlistOfPartitions\u001b[0m\u001b[1;33m)\u001b[0m\u001b[1;33m:\u001b[0m\u001b[1;33m\u001b[0m\u001b[0m\n",
      "\u001b[1;32m~\\Anaconda3\\lib\\site-packages\\ipyparallel\\client\\map.py\u001b[0m in \u001b[0;36mconcatenate\u001b[1;34m(self, listOfPartitions)\u001b[0m\n\u001b[0;32m     73\u001b[0m         \u001b[1;31m# Next try for Python sequence types\u001b[0m\u001b[1;33m\u001b[0m\u001b[1;33m\u001b[0m\u001b[0m\n\u001b[0;32m     74\u001b[0m         \u001b[1;32mif\u001b[0m \u001b[0misinstance\u001b[0m\u001b[1;33m(\u001b[0m\u001b[0mtestObject\u001b[0m\u001b[1;33m,\u001b[0m \u001b[1;33m(\u001b[0m\u001b[0mlist\u001b[0m\u001b[1;33m,\u001b[0m \u001b[0mtuple\u001b[0m\u001b[1;33m)\u001b[0m\u001b[1;33m)\u001b[0m\u001b[1;33m:\u001b[0m\u001b[1;33m\u001b[0m\u001b[0m\n\u001b[1;32m---> 75\u001b[1;33m             \u001b[1;32mreturn\u001b[0m \u001b[0mlist\u001b[0m\u001b[1;33m(\u001b[0m\u001b[0mchain\u001b[0m\u001b[1;33m.\u001b[0m\u001b[0mfrom_iterable\u001b[0m\u001b[1;33m(\u001b[0m\u001b[0mlistOfPartitions\u001b[0m\u001b[1;33m)\u001b[0m\u001b[1;33m)\u001b[0m\u001b[1;33m\u001b[0m\u001b[0m\n\u001b[0m\u001b[0;32m     76\u001b[0m         \u001b[1;31m# If we have scalars, just return listOfPartitions\u001b[0m\u001b[1;33m\u001b[0m\u001b[1;33m\u001b[0m\u001b[0m\n\u001b[0;32m     77\u001b[0m         \u001b[1;32mreturn\u001b[0m \u001b[0mlistOfPartitions\u001b[0m\u001b[1;33m\u001b[0m\u001b[0m\n",
      "\u001b[1;31mTypeError\u001b[0m: 'TaskAborted' object is not iterable"
     ]
    }
   ],
   "source": [
    "ex.async_res.\n"
   ]
  },
  {
   "cell_type": "code",
   "execution_count": 100,
   "metadata": {},
   "outputs": [
    {
     "data": {
      "text/plain": [
       "0"
      ]
     },
     "execution_count": 100,
     "metadata": {},
     "output_type": "execute_result"
    }
   ],
   "source": [
    "a = 0\n",
    "def inita(b):\n",
    "    a = b\n",
    "c = obs.observe_on(CurrentThreadScheduler())\\\n",
    "    .to_blocking().count().subscribe(on_next=lambda x: inita(x))\n",
    "a"
   ]
  },
  {
   "cell_type": "code",
   "execution_count": null,
   "metadata": {},
   "outputs": [],
   "source": []
  }
 ],
 "metadata": {
  "kernelspec": {
   "display_name": "Python 3",
   "language": "python",
   "name": "python3"
  },
  "language_info": {
   "codemirror_mode": {
    "name": "ipython",
    "version": 3
   },
   "file_extension": ".py",
   "mimetype": "text/x-python",
   "name": "python",
   "nbconvert_exporter": "python",
   "pygments_lexer": "ipython3",
   "version": "3.6.6"
  }
 },
 "nbformat": 4,
 "nbformat_minor": 2
}
