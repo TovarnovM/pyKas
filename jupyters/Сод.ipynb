{
 "cells": [
  {
   "cell_type": "code",
   "execution_count": 3,
   "metadata": {},
   "outputs": [],
   "source": [
    "import os\n",
    "wd = os.getcwd()\n",
    "wd = os.path.dirname(wd)\n",
    "import sys\n",
    "sys.path.append(wd+\"\\\\src\\\\\")"
   ]
  },
  {
   "cell_type": "code",
   "execution_count": 4,
   "metadata": {},
   "outputs": [],
   "source": [
    "from tube import InterpXY,Tube,BorderSimple\n",
    "from math import *\n",
    "import numpy as np\n",
    "import numpy.random as rnd\n",
    "from powderlayer import PowderBD, PowderOvLayer, Powder\n",
    "from gaslayer import GasEOS, GasLayer\n",
    "from pistonlayer import ElPistEOS, ElPistLayer\n",
    "import pprint as pp"
   ]
  },
  {
   "cell_type": "code",
   "execution_count": 5,
   "metadata": {},
   "outputs": [],
   "source": [
    "from tqdm import tqdm_notebook\n",
    "from matplotlib.patches import Polygon\n",
    "import matplotlib as mpl\n",
    "import matplotlib.pyplot as plt\n",
    "\n",
    "from ipywidgets import interact, interactive, fixed\n",
    "import ipywidgets\n",
    "mpl.rcParams['figure.figsize'] = (5,3) \n",
    "\n",
    "import json\n",
    "from functional import seq"
   ]
  },
  {
   "cell_type": "code",
   "execution_count": 7,
   "metadata": {},
   "outputs": [],
   "source": [
    "from opti.Chromosome import DRange, SRange,ChromoController\n",
    "# from conegene import ConeGene\n",
    "import numpy.random as rnd\n",
    "from copy import deepcopy\n",
    "from scipy.special import softmax\n",
    "import pickle"
   ]
  },
  {
   "cell_type": "code",
   "execution_count": 89,
   "metadata": {},
   "outputs": [],
   "source": [
    "sandwich_dict = {'tube': {'tube_points': [\n",
    "    (0, 0.023),\n",
    "    (1, 0.023)]},\n",
    " 'x_left': 0,\n",
    " 'layers': [{'type': 'gas',\n",
    "   'name': 'Some',\n",
    "   'gamma': 1.4,\n",
    "   'kappa': 0.0,\n",
    "   'R': 283,\n",
    "   'T_0': 283,\n",
    "   'W_0' :0.023**2/4*np.pi,\n",
    "   'p_0': 1,\n",
    "   'u_0': 0}],\n",
    " 'borders': [{'mass': 1000,\n",
    "   'p_f': 100000000000.0,\n",
    "   't_init': -1,\n",
    "   'w_border': 0.0},\n",
    "  {'mass': 1000,\n",
    "   'p_f': 100000000000,\n",
    "   't_init': -1,\n",
    "   'w_border': 0}],\n",
    " 'calc_settings': {'powder_settings': {'cell_dx': 0.0025,\n",
    "   'n_cells_min': 13,\n",
    "   'n_cells_max': 2000,\n",
    "   'GasFluxCalculator_kwargs': {'flux_type': 2},\n",
    "   'GridStrecher_kwargs': {}},\n",
    "  'gas_settings': {'cell_dx': 0.0025,\n",
    "   'n_cells_min': 13,\n",
    "   'n_cells_max': 200,\n",
    "   'GasFluxCalculator_kwargs': {'flux_type': 1},\n",
    "   'GridStrecher_kwargs': {}},\n",
    "  'pist_settings': {'cell_dx': 0.0025,\n",
    "   'n_cells_min': 13,\n",
    "   'n_cells_max': 2000,\n",
    "   'GasFluxCalculator_kwargs': {'flux_type': 1},\n",
    "   'GridStrecher_kwargs': {}}}}"
   ]
  },
  {
   "cell_type": "code",
   "execution_count": 90,
   "metadata": {},
   "outputs": [
    {
     "data": {
      "image/png": "[encoded data removed]",
      "text/plain": [
       "<Figure size 720x288 with 2 Axes>"
      ]
     },
     "metadata": {
      "needs_background": "light"
     },
     "output_type": "display_data"
    },
    {
     "data": {
      "text/plain": [
       "Sandwich i=0; t=0.0 ms;  vel=0.0 m/s;  p_max=1e-06 MPa\n",
       "layers:\n",
       "0) GasLayer(n_cells=200); \n",
       "        {'p_max':1.0, 'tau_min': 1.4932053970468174e-05, \n",
       "        'u_max': 0.0, 'cs_max': 334.85011572343825, 'dx_min': 0.004999999999999893, \n",
       "        'x_1': 0.0, 'x_2': 1.0,\n",
       "        'V_1':  0.0, 'V_2':  0.0  }"
      ]
     },
     "execution_count": 90,
     "metadata": {},
     "output_type": "execute_result"
    }
   ],
   "source": [
    "from tube import InterpXY,Tube,BorderSimple\n",
    "import numpy as np\n",
    "from gaslayer import GasEOS, GasLayer\n",
    "from powderlayer import PowderOvLayer\n",
    "from pistonlayer import ElPistLayer\n",
    "\n",
    "class Sandwich(object):\n",
    "    @classmethod\n",
    "    def get_standart(cls, sandwich_dict):\n",
    "        tube = Tube.get_standart(sandwich_dict['tube'])\n",
    "        res = cls(tube)\n",
    "        x_left = sandwich_dict.get('x_left', 0)\n",
    "        b = BorderSimple.get_standart(sandwich_dict['borders'][0])\n",
    "        res.borders.append(b)\n",
    "        for lr_dict, b_right_dict in zip(sandwich_dict['layers'], sandwich_dict['borders'][1:]):\n",
    "            if lr_dict['type'] == 'gas':\n",
    "                lr = GasLayer.get_standart(tube, x_left, lr_dict, sandwich_dict['calc_settings']['gas_settings'])\n",
    "            elif lr_dict['type'] == 'powder':\n",
    "                lr = PowderOvLayer.get_standart(tube, x_left, lr_dict, sandwich_dict['calc_settings']['powder_settings'])\n",
    "            elif lr_dict['type'] == 'pist':\n",
    "                lr = ElPistLayer.get_standart(tube, x_left, lr_dict, sandwich_dict['calc_settings']['pist_settings'])\n",
    "            else:\n",
    "                t = lr_dict[\"type\"]\n",
    "                raise AttributeError(f'Неправильный тип области {t}')\n",
    "            b = BorderSimple.get_standart(b_right_dict)\n",
    "            res.layers.append(lr)\n",
    "            res.borders.append(b)\n",
    "            x_left = lr.xs_borders[-1] + b.w_border\n",
    "        res.connect_borders_layers()\n",
    "        return res\n",
    "\n",
    "    def __init__(self, tube: Tube, i=0):\n",
    "        self.tube = tube\n",
    "        self.i = i\n",
    "        self.layers = []\n",
    "        self.borders= []\n",
    "\n",
    "    def connect_borders_layers(self):\n",
    "        if len(self.layers)+1 != len(self.borders):\n",
    "            raise AttributeError(f'Неправильное количество границ и слоев len(self.layers)={len(self.layers)}  len(self.borders)={len(self.borders)}')\n",
    "        all_layers = [None] + self.layers + [None]\n",
    "        for b, lr_left, lr_right in zip(self.borders, all_layers[:-1], all_layers[1:]):\n",
    "            b.lr_left = lr_left\n",
    "            b.lr_right = lr_right\n",
    "\n",
    "    def simple_step(self, courant):\n",
    "        tau = min([lr.get_tau_min() for lr in self.layers]) * courant\n",
    "        for b in self.borders:\n",
    "            b.update_xs()\n",
    "        for b in self.borders:\n",
    "            b.update_Vs(tau)\n",
    "        result = Sandwich(self.tube, self.i+1)\n",
    "        result.layers = [lr.step_up(tau) for lr in self.layers]\n",
    "        result.borders= [b.copy() for b in self.borders]\n",
    "        result.connect_borders_layers()\n",
    "        return result\n",
    "\n",
    "    def plot(self, fig, ax, **kwargs):\n",
    "        self.tube.plot(fig, ax, **kwargs)\n",
    "        for lr in self.layers:\n",
    "            lr.plot(fig, ax, **kwargs)\n",
    "        for b in self.borders:\n",
    "            b.plot(fig, ax, **kwargs)\n",
    "\n",
    "    def plot_param(self, fig, ax, param_name, **kwargs):\n",
    "        for lr in self.layers:\n",
    "            xs = np.array(lr.xs_cells)\n",
    "            ys = np.array(getattr(lr, param_name))\n",
    "            color = lr.color_4_plot\n",
    "            lw = kwargs.get('lw', 2)\n",
    "            ax.plot(xs, ys, color=color, lw=lw)\n",
    "\n",
    "    def get_t(self):\n",
    "        ts = [lr.time for lr in self.layers]\n",
    "        if abs(min(ts) - max(ts)) > 1e-14:\n",
    "            print(f'Слои не синхронизированны {ts}')\n",
    "        return ts[0]\n",
    "\n",
    "    def get_vel(self):\n",
    "        return self.layers[-1].Vs_borders[-1]\n",
    "\n",
    "    def get_x_projectile(self):\n",
    "        return self.layers[-1].xs_borders[-1]\n",
    "\n",
    "\n",
    "    def get_p_max(self):\n",
    "        p_max = -1\n",
    "        for lr in self.layers:\n",
    "            p = np.asarray(lr.ps)\n",
    "            p_sum = np.max(p[5:] + p[4:-1] + p[3:-2] + p[2:-3] + p[1:-4] + p[:-5]) / 6\n",
    "            if p_sum > p_max:\n",
    "                p_max = p_sum\n",
    "        return p_max\n",
    "\n",
    "    def __str__(self):\n",
    "        res = f'Sandwich i={self.i}; t={self.get_t()*1000} ms;  vel={self.get_vel()} m/s;  p_max={self.get_p_max()*1e-6} MPa\\nlayers:\\n'\n",
    "        for i, lr in enumerate(self.layers):\n",
    "            res += f'{i}) {lr}\\n'\n",
    "        return res\n",
    "\n",
    "    def __repr__(self):\n",
    "        return str(self)\n",
    "\n",
    "\n",
    "\n",
    "sandw0 = Sandwich.get_standart(sandwich_dict)\n",
    "\n",
    "\n",
    "fig, (ax1, ax2) = plt.subplots(nrows=2, sharex=True, figsize=(10,4), gridspec_kw={'height_ratios':[2, 1]})\n",
    "sandw0.plot_param(fig, ax1, 'ps')\n",
    "sandw0.plot(fig, ax2)\n",
    "ax2.set_ylim(-0.1,0.15)\n",
    "ax1.grid(True)\n",
    "plt.subplots_adjust(hspace=.0)\n",
    "\n",
    "plt.show()\n",
    "\n",
    "sandw0"
   ]
  },
  {
   "cell_type": "code",
   "execution_count": 91,
   "metadata": {},
   "outputs": [],
   "source": [
    "# sandw0.layers[0].ps[:150] = 1\n",
    "# sandw0.layers[0].ps[150:] = 0.1\n",
    "# sandw0.layers[0].ros[:150] = 1\n",
    "# sandw0.layers[0].ros[150:] =0.125\n",
    "# sandw0.layers[0].es = 1/(1.4-1)* np.asarray(sandw0.layers[0].ps)/np.asarray(sandw0.layers[0].ros)\n",
    "def ropu(x, *args):\n",
    "    return (1,1,0) if x < 0.5 else (0.125, 0.1, 0)\n",
    "sandw0.layers[0].init_ropue_fromfoo(ropu)"
   ]
  },
  {
   "cell_type": "code",
   "execution_count": 92,
   "metadata": {},
   "outputs": [
    {
     "data": {
      "image/png": "[encoded data removed]",
      "text/plain": [
       "<Figure size 720x288 with 2 Axes>"
      ]
     },
     "metadata": {
      "needs_background": "light"
     },
     "output_type": "display_data"
    },
    {
     "data": {
      "text/plain": [
       "Sandwich i=0; t=0.0 ms;  vel=0.0 m/s;  p_max=1e-06 MPa\n",
       "layers:\n",
       "0) GasLayer(n_cells=200); \n",
       "        {'p_max':1.0, 'tau_min': 0.00422577127364254, \n",
       "        'u_max': 0.0, 'cs_max': 1.1832159566199232, 'dx_min': 0.004999999999999893, \n",
       "        'x_1': 0.0, 'x_2': 1.0,\n",
       "        'V_1':  0.0, 'V_2':  0.0  }"
      ]
     },
     "execution_count": 92,
     "metadata": {},
     "output_type": "execute_result"
    }
   ],
   "source": [
    "fig, (ax1, ax2) = plt.subplots(nrows=2, sharex=True, figsize=(10,4), gridspec_kw={'height_ratios':[2, 1]})\n",
    "sandw0.plot_param(fig, ax1, 'es')\n",
    "sandw0.plot(fig, ax2)\n",
    "ax2.set_ylim(-0.1,0.15)\n",
    "ax1.grid(True)\n",
    "plt.subplots_adjust(hspace=.0)\n",
    "\n",
    "plt.show()\n",
    "\n",
    "sandw0"
   ]
  },
  {
   "cell_type": "code",
   "execution_count": 95,
   "metadata": {},
   "outputs": [],
   "source": [
    "sandws = [sandw0]\n",
    "for i in range(200):\n",
    "    sandw = sandws[-1].simple_step(0.49)\n",
    "    sandws.append(sandw)\n"
   ]
  },
  {
   "cell_type": "code",
   "execution_count": 96,
   "metadata": {},
   "outputs": [
    {
     "data": {
      "application/vnd.jupyter.widget-view+json": {
       "model_id": "25345555b89a40899d0b1bafe063799c",
       "version_major": 2,
       "version_minor": 0
      },
      "text/plain": [
       "interactive(children=(IntSlider(value=0, description='ind', max=200), Output()), _dom_classes=('widget-interac…"
      ]
     },
     "metadata": {},
     "output_type": "display_data"
    }
   ],
   "source": [
    "collect = sandws\n",
    "@interact(ind=ipywidgets.IntSlider(min=0,max=len(collect)-1,step=1, value=0))\n",
    "def fooz(ind):\n",
    "    sandw = sandws[ind]\n",
    "    fig, (ax1, ax2) = plt.subplots(nrows=2, sharex=True, figsize=(10,4), gridspec_kw={'height_ratios':[2, 1]})\n",
    "    sandw.plot_param(fig, ax1, 'ps')\n",
    "    sandw.plot(fig, ax2)\n",
    "    ax2.set_ylim(-0.1,0.15)\n",
    "    ax1.grid(True)\n",
    "    plt.subplots_adjust(hspace=.0)\n",
    "\n",
    "    plt.show()"
   ]
  },
  {
   "cell_type": "code",
   "execution_count": 97,
   "metadata": {},
   "outputs": [],
   "source": [
    "sys.path.append(wd+\"\\\\src\\\\include\\\\godunov\")\n",
    "from riman_python import get_distrs_to_time"
   ]
  },
  {
   "cell_type": "code",
   "execution_count": 98,
   "metadata": {},
   "outputs": [],
   "source": [
    "def get_init_conds_4_tsts():\n",
    "    # из статьи ОДНОМЕРНЫЕ ЗАДАЧИ ГАЗОВОЙ ДИНАМИКИ И ИХ РЕШЕНИЕ  ПРИ ПОМОЩИ РАЗНОСТНЫХ СХЕМ ВЫСОКОЙ  РАЗРЕШАЮЩЕЙ СПОСОБНОСТИ \n",
    "    #           LEFT          RIGHT              \n",
    "    #      ro       u       p       ro      u       p       t\n",
    "    v = [\n",
    "         ( 1,       0,      1,      0.125,  0,      0.1,    0.2 ),\n",
    "         ( 0.445,   0.698,  3.528,  0.5,    0,      0.571,  0.15  ),       \n",
    "         ( 1,       0,      1,      0.02,   3.55,   1,      0.15  ),\n",
    "         ( 3.857,   0.920,  10.333, 1,      3.55,   1,      0.09  ),\n",
    "         ( 1,       0,      0.5,    0.5,    0,      0.5,    0.42  ),\n",
    "         ( 1,       0.5,    0.5,    0.5,    0.5,    0.5,    0.43  ),\n",
    "         ( 1,       -1,     1,      0.9275, -1.0781,0.9,    0.18  ),\n",
    "         ( 1,       0,      1000,   1,      0,      0.01,   0.012  ),\n",
    "         ( 10,      2000,   500,    20,     0,      500,    0.012  ),\n",
    "         ( 1,       -2,     0.4,    1,      2,      0.4,    0.15  )\n",
    "        ]\n",
    "    for ro_1, u_1, p_1, ro_2, u_2, p_2, t in v:\n",
    "        yield {\n",
    "            'p_1' : p_1,          # давление слева\n",
    "            'ro_1' : ro_1,         # плотность слева   \n",
    "            'u_1' : u_1,          # скорость слева      \n",
    "            'p_2' : p_2,        # давление справа     \n",
    "            'ro_2': ro_2,      # плотность справа    \n",
    "            'u_2' : u_2,          # скорость справа        \n",
    "            'p_0' : 0,          # параметр в ур-ии состояния        \n",
    "            'gamma' : 1.4,      # параметр в ур-ии состояния          \n",
    "            'c_0' : 0,          # параметр в ур-ии состояния     \n",
    "            'eps_F':1e-12,       # точность определения решения           \n",
    "            'n_iter_max':300,   # максимальное количество итераций при определении решения              \n",
    "            'x0' : 0.5,         # положение разрыва в момент t=0        \n",
    "            'ts': [t],        # времена, в которых нужно построить графики распределения параметров         \n",
    "            'n': 3000,         # кол-во точек, в которых ищутся параметры волны разрежения         \n",
    "           # 'save_to': r'sod.txt'\n",
    "        } "
   ]
  },
  {
   "cell_type": "code",
   "execution_count": 99,
   "metadata": {},
   "outputs": [
    {
     "data": {
      "text/plain": [
       "{'p_1': 1,\n",
       " 'ro_1': 1,\n",
       " 'u_1': 0,\n",
       " 'p_2': 0.1,\n",
       " 'ro_2': 0.125,\n",
       " 'u_2': 0,\n",
       " 'p_0': 0,\n",
       " 'gamma': 1.4,\n",
       " 'c_0': 0,\n",
       " 'eps_F': 1e-12,\n",
       " 'n_iter_max': 300,\n",
       " 'x0': 0.5,\n",
       " 'ts': [0.2],\n",
       " 'n': 3000}"
      ]
     },
     "execution_count": 99,
     "metadata": {},
     "output_type": "execute_result"
    }
   ],
   "source": [
    "init_cond = [d for d in get_init_conds_4_tsts()][0]\n",
    "init_cond"
   ]
  },
  {
   "cell_type": "code",
   "execution_count": 100,
   "metadata": {},
   "outputs": [
    {
     "data": {
      "text/plain": [
       "{'xs': array([0.00000000e+00, 3.33444481e-04, 6.66888963e-04, ...,\n",
       "        9.99333111e-01, 9.99666556e-01, 1.00000000e+00]),\n",
       " 'ros': array([1.   , 1.   , 1.   , ..., 0.125, 0.125, 0.125]),\n",
       " 'ps': array([1. , 1. , 1. , ..., 0.1, 0.1, 0.1]),\n",
       " 'us': array([0., 0., 0., ..., 0., 0., 0.]),\n",
       " 'es': array([2.5, 2.5, 2.5, ..., 2. , 2. , 2. ]),\n",
       " 'ms': array([0., 0., 0., ..., 0., 0., 0.])}"
      ]
     },
     "execution_count": 100,
     "metadata": {},
     "output_type": "execute_result"
    }
   ],
   "source": [
    "res = get_distrs_to_time(0.15, **init_cond)\n",
    "res"
   ]
  },
  {
   "cell_type": "code",
   "execution_count": 101,
   "metadata": {},
   "outputs": [],
   "source": [
    "results = []\n",
    "for sandw in sandws:\n",
    "    res = {\n",
    "        'time': sandw.layers[0].time,\n",
    "        'ps': np.array(sandw.layers[0].ps),\n",
    "        'es': np.array(sandw.layers[0].es),\n",
    "        'ros': np.array(sandw.layers[0].ros),\n",
    "        'us': np.array(sandw.layers[0].us),\n",
    "        'xs': np.array(sandw.layers[0].xs_cells)\n",
    "    }\n",
    "    if res['time'] > 0:\n",
    "        res['ideal'] = get_distrs_to_time(sandw.layers[0].time, **init_cond)\n",
    "    results.append(res)"
   ]
  },
  {
   "cell_type": "code",
   "execution_count": 102,
   "metadata": {},
   "outputs": [
    {
     "data": {
      "application/vnd.jupyter.widget-view+json": {
       "model_id": "0e1705cbc7b1407e896be974bdcf765b",
       "version_major": 2,
       "version_minor": 0
      },
      "text/plain": [
       "interactive(children=(IntSlider(value=1, description='ind', max=200, min=1), Output()), _dom_classes=('widget-…"
      ]
     },
     "metadata": {},
     "output_type": "display_data"
    }
   ],
   "source": [
    "collect = results\n",
    "@interact(ind=ipywidgets.IntSlider(min=1,max=len(collect)-1,step=1, value=1))\n",
    "def fooz(ind):\n",
    "    res = collect[ind]\n",
    "    col='red'\n",
    "    col2 = 'blue'\n",
    "    lw = 2\n",
    "    t = res['time']\n",
    "    fig, ((ax1, ax2), (ax3,ax4)) = plt.subplots(nrows=2, ncols=2, figsize=(10,10))#, gridspec_kw={'height_ratios':[1, 1, 1]})\n",
    "    ax1.plot(res['xs'], res['ros'], c=col, lw=lw, label=f't = {t}', alpha=0.7)\n",
    "    ax1.plot(res['ideal']['xs'], res['ideal']['ros'], c=col2, lw=lw, label=f't = {t}', alpha=0.7)\n",
    "    ax1.grid(True)\n",
    "#     ax1.legend()\n",
    "    ax1.set_ylabel(r'$\\rho$')\n",
    "    \n",
    "    ax2.plot(res['xs'], res['ps'], c=col, lw=lw, label=f't = {t}')\n",
    "    ax2.plot(res['ideal']['xs'], res['ideal']['ps'], c=col2, lw=lw, label=f't = {t}')\n",
    "    ax2.grid(True)\n",
    "#     ax2.legend()\n",
    "    ax2.set_ylabel(r'$p$')\n",
    "    \n",
    "    ax3.plot(res['xs'], res['us'], c=col, lw=lw, label=f't = {t}', alpha=0.7)\n",
    "    ax3.plot(res['ideal']['xs'], res['ideal']['us'], c=col2, lw=lw, label=f't = {t}', alpha=0.7)\n",
    "    ax3.grid(True)\n",
    "#     ax3.legend()\n",
    "    ax3.set_xlabel(r'$x$')\n",
    "    \n",
    "    ax4.plot(res['xs'], res['es'], c=col, lw=lw, label=f't = {t}')\n",
    "    ax4.plot(res['ideal']['xs'], res['ideal']['es'], c=col2, lw=lw, label=f't = {t}', alpha=0.7)\n",
    "    ax4.grid(True)\n",
    "#     ax4.legend()\n",
    "    ax4.set_ylabel(r'$e$')\n",
    "    ax4.set_xlabel(r'$x$')\n",
    "    plt.show()"
   ]
  },
  {
   "cell_type": "code",
   "execution_count": 103,
   "metadata": {},
   "outputs": [],
   "source": [
    "with open('sod.bin', 'wb') as f:\n",
    "    pickle.dump(results, f)"
   ]
  },
  {
   "cell_type": "code",
   "execution_count": null,
   "metadata": {},
   "outputs": [],
   "source": []
  }
 ],
 "metadata": {
  "kernelspec": {
   "display_name": "env_pykas",
   "language": "python",
   "name": "env_pykas"
  },
  "language_info": {
   "codemirror_mode": {
    "name": "ipython",
    "version": 3
   },
   "file_extension": ".py",
   "mimetype": "text/x-python",
   "name": "python",
   "nbconvert_exporter": "python",
   "pygments_lexer": "ipython3",
   "version": "3.8.5"
  }
 },
 "nbformat": 4,
 "nbformat_minor": 4
}
