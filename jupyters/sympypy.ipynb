{
 "cells": [
  {
   "cell_type": "code",
   "execution_count": 1,
   "metadata": {},
   "outputs": [],
   "source": [
    "from sympy.solvers.solveset import linsolve\n",
    "import sympy as sp"
   ]
  },
  {
   "cell_type": "markdown",
   "metadata": {},
   "source": [
    "### Богданов Миллер    рисунок 3, линейная экстраполяция"
   ]
  },
  {
   "cell_type": "code",
   "execution_count": 3,
   "metadata": {},
   "outputs": [],
   "source": [
    "v2, v3 = sp.symbols('v2, v3')\n",
    "k, b = sp.symbols('k, b')"
   ]
  },
  {
   "cell_type": "code",
   "execution_count": 4,
   "metadata": {},
   "outputs": [],
   "source": [
    "res = linsolve(\n",
    "    [k*2+b-v2,\n",
    "     k*3+b-v3], \n",
    "    (k,b))"
   ]
  },
  {
   "cell_type": "code",
   "execution_count": 7,
   "metadata": {},
   "outputs": [
    {
     "data": {
      "text/latex": [
       "$\\displaystyle 1.5 v_{2} - 0.5 v_{3}$"
      ],
      "text/plain": [
       "1.5*v2 - 0.5*v3"
      ]
     },
     "execution_count": 7,
     "metadata": {},
     "output_type": "execute_result"
    }
   ],
   "source": [
    "kr, br = res.args[0]\n",
    "1.5*kr+br"
   ]
  },
  {
   "cell_type": "markdown",
   "metadata": {},
   "source": [
    "### Богданов Миллер    рисунок 3, квадратичная экстраполяция"
   ]
  },
  {
   "cell_type": "code",
   "execution_count": 3,
   "metadata": {},
   "outputs": [],
   "source": [
    "a,b,c = sp.symbols('a, b, c')"
   ]
  },
  {
   "cell_type": "code",
   "execution_count": 4,
   "metadata": {},
   "outputs": [],
   "source": [
    "v_2, v_3, v_4 =  sp.symbols('v_2, v_3, v_4')"
   ]
  },
  {
   "cell_type": "code",
   "execution_count": 7,
   "metadata": {},
   "outputs": [],
   "source": [
    "res = linsolve([4*a+2*b+c-v_2,  9*a+3*b+c-v_3, 16*a+4*b+c-v_4], (a,b,c))"
   ]
  },
  {
   "cell_type": "code",
   "execution_count": 20,
   "metadata": {},
   "outputs": [],
   "source": [
    "a1,b1,c1 = res.args[0]"
   ]
  },
  {
   "cell_type": "code",
   "execution_count": 21,
   "metadata": {},
   "outputs": [
    {
     "data": {
      "text/latex": [
       "$\\displaystyle v_{2}$"
      ],
      "text/plain": [
       "v_2"
      ]
     },
     "execution_count": 21,
     "metadata": {},
     "output_type": "execute_result"
    }
   ],
   "source": [
    "a1*4 + b1*2 + c1 "
   ]
  },
  {
   "cell_type": "code",
   "execution_count": 22,
   "metadata": {},
   "outputs": [
    {
     "data": {
      "text/latex": [
       "$\\displaystyle v_{3}$"
      ],
      "text/plain": [
       "v_3"
      ]
     },
     "execution_count": 22,
     "metadata": {},
     "output_type": "execute_result"
    }
   ],
   "source": [
    "9*a1+3*b1+c1"
   ]
  },
  {
   "cell_type": "code",
   "execution_count": 23,
   "metadata": {},
   "outputs": [
    {
     "data": {
      "text/latex": [
       "$\\displaystyle v_{4}$"
      ],
      "text/plain": [
       "v_4"
      ]
     },
     "execution_count": 23,
     "metadata": {},
     "output_type": "execute_result"
    }
   ],
   "source": [
    "16*a1+4*b1+c1"
   ]
  },
  {
   "cell_type": "code",
   "execution_count": 24,
   "metadata": {},
   "outputs": [
    {
     "data": {
      "text/latex": [
       "$\\displaystyle 1.875 v_{2} - 1.25 v_{3} + 0.375 v_{4}$"
      ],
      "text/plain": [
       "1.875*v_2 - 1.25*v_3 + 0.375*v_4"
      ]
     },
     "execution_count": 24,
     "metadata": {},
     "output_type": "execute_result"
    }
   ],
   "source": [
    "1.5**2*a1+1.5*b1+c1"
   ]
  },
  {
   "cell_type": "code",
   "execution_count": 25,
   "metadata": {},
   "outputs": [
    {
     "data": {
      "text/plain": [
       "'1.875*v_2 - 1.25*v_3 + 0.375*v_4'"
      ]
     },
     "execution_count": 25,
     "metadata": {},
     "output_type": "execute_result"
    }
   ],
   "source": [
    "str(_)"
   ]
  },
  {
   "cell_type": "code",
   "execution_count": 26,
   "metadata": {},
   "outputs": [
    {
     "data": {
      "text/latex": [
       "$\\displaystyle 0.375 v_{2} + 0.75 v_{3} - 0.125 v_{4}$"
      ],
      "text/plain": [
       "0.375*v_2 + 0.75*v_3 - 0.125*v_4"
      ]
     },
     "execution_count": 26,
     "metadata": {},
     "output_type": "execute_result"
    }
   ],
   "source": [
    "2.5**2*a1+2.5*b1+c1"
   ]
  },
  {
   "cell_type": "code",
   "execution_count": 27,
   "metadata": {},
   "outputs": [
    {
     "data": {
      "text/plain": [
       "'0.375*v_2 + 0.75*v_3 - 0.125*v_4'"
      ]
     },
     "execution_count": 27,
     "metadata": {},
     "output_type": "execute_result"
    }
   ],
   "source": [
    "str(_)"
   ]
  },
  {
   "cell_type": "markdown",
   "metadata": {},
   "source": [
    "### Богданов Миллер    рисунок 4, сглаживание "
   ]
  },
  {
   "cell_type": "code",
   "execution_count": 9,
   "metadata": {},
   "outputs": [],
   "source": [
    "k0, k1, k2, k3, x = sp.symbols('k0, k1, k2, k3, x')"
   ]
  },
  {
   "cell_type": "code",
   "execution_count": 10,
   "metadata": {},
   "outputs": [],
   "source": [
    "p3 = k3*x**3 + k2*x**2+k1*x + k0"
   ]
  },
  {
   "cell_type": "code",
   "execution_count": 11,
   "metadata": {},
   "outputs": [],
   "source": [
    "p2 = p3.diff(x)"
   ]
  },
  {
   "cell_type": "code",
   "execution_count": 14,
   "metadata": {},
   "outputs": [
    {
     "data": {
      "text/latex": [
       "$\\displaystyle 3 \\delta^{2} k_{3} + 2 \\delta k_{2} + k_{1}$"
      ],
      "text/plain": [
       "3*delta**2*k3 + 2*delta*k2 + k1"
      ]
     },
     "execution_count": 14,
     "metadata": {},
     "output_type": "execute_result"
    }
   ],
   "source": [
    "p2.subs(x, delta)"
   ]
  },
  {
   "cell_type": "code",
   "execution_count": 13,
   "metadata": {},
   "outputs": [],
   "source": [
    "v_min, v_max, delta, L = sp.symbols('v_min, v_max, delta, L')"
   ]
  },
  {
   "cell_type": "code",
   "execution_count": 15,
   "metadata": {},
   "outputs": [
    {
     "data": {
      "text/latex": [
       "$\\displaystyle \\left\\{\\left( \\frac{\\delta}{4} + \\frac{v_{min}}{2} + \\frac{v_{min}^{2}}{4 \\delta}, \\  \\frac{\\delta - v_{min}}{2 \\delta}, \\  \\frac{1}{4 \\delta}, \\  0\\right)\\right\\}$"
      ],
      "text/plain": [
       "{(delta/4 + v_min/2 + v_min**2/(4*delta), (delta - v_min)/(2*delta), 1/(4*delta), 0)}"
      ]
     },
     "execution_count": 15,
     "metadata": {},
     "output_type": "execute_result"
    }
   ],
   "source": [
    "res = linsolve(\n",
    "    [p3.subs(x, v_min-delta) - v_min,\n",
    "     p3.subs(x, v_min+delta) - (v_min+delta),\n",
    "     p2.subs(x, v_min-delta),\n",
    "     p2.subs(x, v_min+delta) - 1], \n",
    "    \n",
    "    (k0, k1, k2, k3))\n",
    "res"
   ]
  },
  {
   "cell_type": "code",
   "execution_count": 23,
   "metadata": {},
   "outputs": [
    {
     "data": {
      "text/latex": [
       "$\\displaystyle v_{min}$"
      ],
      "text/plain": [
       "v_min"
      ]
     },
     "execution_count": 23,
     "metadata": {},
     "output_type": "execute_result"
    }
   ],
   "source": [
    "prov1 = p3.subs(zip((k0, k1, k2, k3), res.args[0])).subs(x, v_min-delta)\n",
    "sp.expand(prov1)"
   ]
  },
  {
   "cell_type": "code",
   "execution_count": 24,
   "metadata": {},
   "outputs": [
    {
     "data": {
      "text/latex": [
       "$\\displaystyle \\delta + v_{min}$"
      ],
      "text/plain": [
       "delta + v_min"
      ]
     },
     "execution_count": 24,
     "metadata": {},
     "output_type": "execute_result"
    }
   ],
   "source": [
    "prov1 = p3.subs(zip((k0, k1, k2, k3), res.args[0])).subs(x, v_min+delta)\n",
    "sp.expand(prov1)"
   ]
  },
  {
   "cell_type": "code",
   "execution_count": 25,
   "metadata": {},
   "outputs": [
    {
     "data": {
      "text/latex": [
       "$\\displaystyle 0$"
      ],
      "text/plain": [
       "0"
      ]
     },
     "execution_count": 25,
     "metadata": {},
     "output_type": "execute_result"
    }
   ],
   "source": [
    "prov1 = p2.subs(zip((k0, k1, k2, k3), res.args[0])).subs(x, v_min-delta)\n",
    "sp.expand(prov1)"
   ]
  },
  {
   "cell_type": "code",
   "execution_count": 26,
   "metadata": {},
   "outputs": [
    {
     "data": {
      "text/latex": [
       "$\\displaystyle 1$"
      ],
      "text/plain": [
       "1"
      ]
     },
     "execution_count": 26,
     "metadata": {},
     "output_type": "execute_result"
    }
   ],
   "source": [
    "prov1 = p2.subs(zip((k0, k1, k2, k3), res.args[0])).subs(x, v_min+delta)\n",
    "sp.expand(prov1)"
   ]
  },
  {
   "cell_type": "code",
   "execution_count": null,
   "metadata": {},
   "outputs": [],
   "source": []
  },
  {
   "cell_type": "code",
   "execution_count": 27,
   "metadata": {},
   "outputs": [
    {
     "data": {
      "text/latex": [
       "$\\displaystyle \\left\\{\\left( - \\frac{\\delta}{4} + \\frac{v_{max}}{2} - \\frac{v_{max}^{2}}{4 \\delta}, \\  \\frac{\\delta + v_{max}}{2 \\delta}, \\  - \\frac{1}{4 \\delta}, \\  0\\right)\\right\\}$"
      ],
      "text/plain": [
       "{(-delta/4 + v_max/2 - v_max**2/(4*delta), (delta + v_max)/(2*delta), -1/(4*delta), 0)}"
      ]
     },
     "execution_count": 27,
     "metadata": {},
     "output_type": "execute_result"
    }
   ],
   "source": [
    "res = linsolve(\n",
    "    [p3.subs(x, v_max+delta) - v_max,\n",
    "     p3.subs(x, v_max-delta) - (v_max-delta),\n",
    "     p2.subs(x, v_max+delta),\n",
    "     p2.subs(x, v_max-delta) - 1], \n",
    "    \n",
    "    (k0, k1, k2, k3))\n",
    "res"
   ]
  },
  {
   "cell_type": "code",
   "execution_count": 32,
   "metadata": {},
   "outputs": [
    {
     "data": {
      "text/plain": [
       "'(-delta/4 + v_max/2 - v_max**2/(4*delta), (delta + v_max)/(2*delta), -1/(4*delta), 0)'"
      ]
     },
     "execution_count": 32,
     "metadata": {},
     "output_type": "execute_result"
    }
   ],
   "source": [
    "str(res.args[0])"
   ]
  },
  {
   "cell_type": "code",
   "execution_count": 28,
   "metadata": {},
   "outputs": [
    {
     "data": {
      "text/latex": [
       "$\\displaystyle v_{max}$"
      ],
      "text/plain": [
       "v_max"
      ]
     },
     "execution_count": 28,
     "metadata": {},
     "output_type": "execute_result"
    }
   ],
   "source": [
    "prov1 = p3.subs(zip((k0, k1, k2, k3), res.args[0])).subs(x, v_max+delta)\n",
    "sp.expand(prov1)"
   ]
  },
  {
   "cell_type": "code",
   "execution_count": 29,
   "metadata": {},
   "outputs": [
    {
     "data": {
      "text/latex": [
       "$\\displaystyle - \\delta + v_{max}$"
      ],
      "text/plain": [
       "-delta + v_max"
      ]
     },
     "execution_count": 29,
     "metadata": {},
     "output_type": "execute_result"
    }
   ],
   "source": [
    "prov1 = p3.subs(zip((k0, k1, k2, k3), res.args[0])).subs(x, v_max-delta)\n",
    "sp.expand(prov1)"
   ]
  },
  {
   "cell_type": "code",
   "execution_count": 30,
   "metadata": {},
   "outputs": [
    {
     "data": {
      "text/latex": [
       "$\\displaystyle 0$"
      ],
      "text/plain": [
       "0"
      ]
     },
     "execution_count": 30,
     "metadata": {},
     "output_type": "execute_result"
    }
   ],
   "source": [
    "prov1 = p2.subs(zip((k0, k1, k2, k3), res.args[0])).subs(x, v_max+delta)\n",
    "sp.expand(prov1)"
   ]
  },
  {
   "cell_type": "code",
   "execution_count": 31,
   "metadata": {},
   "outputs": [
    {
     "data": {
      "text/latex": [
       "$\\displaystyle 1$"
      ],
      "text/plain": [
       "1"
      ]
     },
     "execution_count": 31,
     "metadata": {},
     "output_type": "execute_result"
    }
   ],
   "source": [
    "prov1 = p2.subs(zip((k0, k1, k2, k3), res.args[0])).subs(x, v_max-delta)\n",
    "sp.expand(prov1)"
   ]
  },
  {
   "cell_type": "code",
   "execution_count": null,
   "metadata": {},
   "outputs": [],
   "source": []
  },
  {
   "cell_type": "code",
   "execution_count": null,
   "metadata": {},
   "outputs": [],
   "source": []
  },
  {
   "cell_type": "code",
   "execution_count": 7,
   "metadata": {},
   "outputs": [],
   "source": [
    "e,p,gamma,p_0,ro,c_0 = sp.symbols('e,p,gamma,p_0,ro,c_0')"
   ]
  },
  {
   "cell_type": "code",
   "execution_count": 8,
   "metadata": {},
   "outputs": [],
   "source": [
    "e1 = (p+gamma*p_0)/((gamma-1)*ro)-c_0*c_0/(gamma-1)-e"
   ]
  },
  {
   "cell_type": "code",
   "execution_count": 12,
   "metadata": {},
   "outputs": [],
   "source": [
    "p1=sp.solve(e1, p)"
   ]
  },
  {
   "cell_type": "code",
   "execution_count": 10,
   "metadata": {},
   "outputs": [
    {
     "data": {
      "text/latex": [
       "$\\displaystyle - \\frac{c_{0}^{2}}{\\gamma - 1} - e + \\frac{\\gamma p_{0} + 10}{ro \\left(\\gamma - 1\\right)}$"
      ],
      "text/plain": [
       "-c_0**2/(gamma - 1) - e + (gamma*p_0 + 10)/(ro*(gamma - 1))"
      ]
     },
     "execution_count": 10,
     "metadata": {},
     "output_type": "execute_result"
    }
   ],
   "source": [
    "e1.subs({'p':10})"
   ]
  },
  {
   "cell_type": "code",
   "execution_count": 18,
   "metadata": {},
   "outputs": [
    {
     "data": {
      "text/latex": [
       "$\\displaystyle \\frac{c_{0}^{2} ro}{\\gamma ro - ro} - \\frac{c_{0}^{2}}{\\gamma - 1} + \\frac{e \\gamma ro}{\\gamma ro - ro} - \\frac{e ro}{\\gamma ro - ro} - e$"
      ],
      "text/plain": [
       "c_0**2*ro/(gamma*ro - ro) - c_0**2/(gamma - 1) + e*gamma*ro/(gamma*ro - ro) - e*ro/(gamma*ro - ro) - e"
      ]
     },
     "execution_count": 18,
     "metadata": {},
     "output_type": "execute_result"
    }
   ],
   "source": [
    "e1.subs({'p':p1[0]}).expand()"
   ]
  },
  {
   "cell_type": "code",
   "execution_count": 15,
   "metadata": {},
   "outputs": [
    {
     "data": {
      "text/latex": [
       "$\\displaystyle c_{0}^{2} ro + e \\gamma ro - e ro - \\gamma p_{0}$"
      ],
      "text/plain": [
       "c_0**2*ro + e*gamma*ro - e*ro - gamma*p_0"
      ]
     },
     "execution_count": 15,
     "metadata": {},
     "output_type": "execute_result"
    }
   ],
   "source": [
    "p1[0]"
   ]
  },
  {
   "cell_type": "code",
   "execution_count": null,
   "metadata": {},
   "outputs": [],
   "source": []
  }
 ],
 "metadata": {
  "kernelspec": {
   "display_name": "env_pykas",
   "language": "python",
   "name": "env_pykas"
  },
  "language_info": {
   "codemirror_mode": {
    "name": "ipython",
    "version": 3
   },
   "file_extension": ".py",
   "mimetype": "text/x-python",
   "name": "python",
   "nbconvert_exporter": "python",
   "pygments_lexer": "ipython3",
   "version": "3.7.3"
  }
 },
 "nbformat": 4,
 "nbformat_minor": 2
}
