{
 "cells": [
  {
   "cell_type": "code",
   "execution_count": 1,
   "metadata": {},
   "outputs": [],
   "source": [
    "from sympy.solvers.solveset import linsolve\n",
    "import sympy as sp"
   ]
  },
  {
   "cell_type": "code",
   "execution_count": 3,
   "metadata": {},
   "outputs": [],
   "source": [
    "a,b,c = sp.symbols('a, b, c')"
   ]
  },
  {
   "cell_type": "code",
   "execution_count": 4,
   "metadata": {},
   "outputs": [],
   "source": [
    "v_2, v_3, v_4 =  sp.symbols('v_2, v_3, v_4')"
   ]
  },
  {
   "cell_type": "code",
   "execution_count": 7,
   "metadata": {},
   "outputs": [],
   "source": [
    "res = linsolve([4*a+2*b+c-v_2,  9*a+3*b+c-v_3, 16*a+4*b+c-v_4], (a,b,c))"
   ]
  },
  {
   "cell_type": "code",
   "execution_count": 20,
   "metadata": {},
   "outputs": [],
   "source": [
    "a1,b1,c1 = res.args[0]"
   ]
  },
  {
   "cell_type": "code",
   "execution_count": 21,
   "metadata": {},
   "outputs": [
    {
     "data": {
      "text/latex": [
       "$\\displaystyle v_{2}$"
      ],
      "text/plain": [
       "v_2"
      ]
     },
     "execution_count": 21,
     "metadata": {},
     "output_type": "execute_result"
    }
   ],
   "source": [
    "a1*4 + b1*2 + c1 "
   ]
  },
  {
   "cell_type": "code",
   "execution_count": 22,
   "metadata": {},
   "outputs": [
    {
     "data": {
      "text/latex": [
       "$\\displaystyle v_{3}$"
      ],
      "text/plain": [
       "v_3"
      ]
     },
     "execution_count": 22,
     "metadata": {},
     "output_type": "execute_result"
    }
   ],
   "source": [
    "9*a1+3*b1+c1"
   ]
  },
  {
   "cell_type": "code",
   "execution_count": 23,
   "metadata": {},
   "outputs": [
    {
     "data": {
      "text/latex": [
       "$\\displaystyle v_{4}$"
      ],
      "text/plain": [
       "v_4"
      ]
     },
     "execution_count": 23,
     "metadata": {},
     "output_type": "execute_result"
    }
   ],
   "source": [
    "16*a1+4*b1+c1"
   ]
  },
  {
   "cell_type": "code",
   "execution_count": 24,
   "metadata": {},
   "outputs": [
    {
     "data": {
      "text/latex": [
       "$\\displaystyle 1.875 v_{2} - 1.25 v_{3} + 0.375 v_{4}$"
      ],
      "text/plain": [
       "1.875*v_2 - 1.25*v_3 + 0.375*v_4"
      ]
     },
     "execution_count": 24,
     "metadata": {},
     "output_type": "execute_result"
    }
   ],
   "source": [
    "1.5**2*a1+1.5*b1+c1"
   ]
  },
  {
   "cell_type": "code",
   "execution_count": 25,
   "metadata": {},
   "outputs": [
    {
     "data": {
      "text/plain": [
       "'1.875*v_2 - 1.25*v_3 + 0.375*v_4'"
      ]
     },
     "execution_count": 25,
     "metadata": {},
     "output_type": "execute_result"
    }
   ],
   "source": [
    "str(_)"
   ]
  },
  {
   "cell_type": "code",
   "execution_count": 26,
   "metadata": {},
   "outputs": [
    {
     "data": {
      "text/latex": [
       "$\\displaystyle 0.375 v_{2} + 0.75 v_{3} - 0.125 v_{4}$"
      ],
      "text/plain": [
       "0.375*v_2 + 0.75*v_3 - 0.125*v_4"
      ]
     },
     "execution_count": 26,
     "metadata": {},
     "output_type": "execute_result"
    }
   ],
   "source": [
    "2.5**2*a1+2.5*b1+c1"
   ]
  },
  {
   "cell_type": "code",
   "execution_count": 27,
   "metadata": {},
   "outputs": [
    {
     "data": {
      "text/plain": [
       "'0.375*v_2 + 0.75*v_3 - 0.125*v_4'"
      ]
     },
     "execution_count": 27,
     "metadata": {},
     "output_type": "execute_result"
    }
   ],
   "source": [
    "str(_)"
   ]
  },
  {
   "cell_type": "code",
   "execution_count": null,
   "metadata": {},
   "outputs": [],
   "source": []
  },
  {
   "cell_type": "code",
   "execution_count": 29,
   "metadata": {},
   "outputs": [],
   "source": [
    "k0, k1, k2, k3, k4 ,k5, x = sp.symbols('k0, k1, k2, k3, k4 ,k5, x')"
   ]
  },
  {
   "cell_type": "code",
   "execution_count": 31,
   "metadata": {},
   "outputs": [],
   "source": [
    "p5 = k5*x**5 + k4*x**4+ k3*x**3 + k2*x**2+k1*x + k0"
   ]
  },
  {
   "cell_type": "code",
   "execution_count": 32,
   "metadata": {},
   "outputs": [],
   "source": [
    "p4 = p5.diff(x)"
   ]
  },
  {
   "cell_type": "code",
   "execution_count": 45,
   "metadata": {},
   "outputs": [
    {
     "data": {
      "text/plain": [
       "'k1 + 2*k2*x + 3*k3*x**2 + 4*k4*x**3 + 5*k5*x**4'"
      ]
     },
     "execution_count": 45,
     "metadata": {},
     "output_type": "execute_result"
    }
   ],
   "source": [
    "str(p4)"
   ]
  },
  {
   "cell_type": "code",
   "execution_count": 44,
   "metadata": {},
   "outputs": [],
   "source": [
    "v_min, v_max, delta, L = sp.symbols('v_min, v_max, delta, L')"
   ]
  },
  {
   "cell_type": "code",
   "execution_count": 47,
   "metadata": {},
   "outputs": [],
   "source": [
    "res = linsolve(\n",
    "    [k5*(v_min-delta)**5 + k4*(v_min-delta)**4+ k3*(v_min-delta)**3 + k2*(v_min-delta)**2+k1*(v_min-delta) + k0 - v_min,  \n",
    "     k5*(v_max+delta)**5 + k4*(v_max+delta)**4+ k3*(v_max+delta)**3 + k2*(v_max+delta)**2+k1*(v_max+delta) + k0 - v_max, \n",
    "     k1 + 2*k2*(v_min-delta) + 3*k3*(v_min-delta)**2 + 4*k4*(v_min-delta)**3 + 5*k5*(v_min-delta)**4,\n",
    "     k1 + 2*k2*(v_max+delta) + 3*k3*(v_max+delta)**2 + 4*k4*(v_max+delta)**3 + 5*k5*(v_max+delta)**4,\n",
    "     k1 + 2*k2*(v_min+delta) + 3*k3*(v_min+delta)**2 + 4*k4*(v_min+delta)**3 + 5*k5*(v_min+delta)**4 - 1,\n",
    "     k1 + 2*k2*(v_max-delta) + 3*k3*(v_max-delta)**2 + 4*k4*(v_max-delta)**3 + 5*k5*(v_max-delta)**4 - 1], \n",
    "    \n",
    "    (k0, k1, k2, k3, k4 ,k5))"
   ]
  },
  {
   "cell_type": "code",
   "execution_count": 50,
   "metadata": {},
   "outputs": [],
   "source": [
    "k00 = res.args[0][0]"
   ]
  },
  {
   "cell_type": "code",
   "execution_count": 58,
   "metadata": {},
   "outputs": [
    {
     "data": {
      "text/latex": [
       "$\\displaystyle \\frac{8 \\delta^{7} v_{max} + 8 \\delta^{7} v_{min} + 92 \\delta^{6} v_{max}^{2} - 92 \\delta^{6} v_{min}^{2} - 22 \\delta^{5} v_{max}^{3} + 6 \\delta^{5} v_{max}^{2} v_{min} + 6 \\delta^{5} v_{max} v_{min}^{2} - 22 \\delta^{5} v_{min}^{3} - 55 \\delta^{4} v_{max}^{4} + 70 \\delta^{4} v_{max}^{3} v_{min} - 70 \\delta^{4} v_{max} v_{min}^{3} + 55 \\delta^{4} v_{min}^{4} + 8 \\delta^{3} v_{max}^{5} - 20 \\delta^{3} v_{max}^{4} v_{min} + 20 \\delta^{3} v_{max}^{3} v_{min}^{2} + 20 \\delta^{3} v_{max}^{2} v_{min}^{3} - 20 \\delta^{3} v_{max} v_{min}^{4} + 8 \\delta^{3} v_{min}^{5} + \\delta^{2} v_{max}^{6} - 18 \\delta^{2} v_{max}^{5} v_{min} + 45 \\delta^{2} v_{max}^{4} v_{min}^{2} - 45 \\delta^{2} v_{max}^{2} v_{min}^{4} + 18 \\delta^{2} v_{max} v_{min}^{5} - \\delta^{2} v_{min}^{6} + 2 \\delta v_{max}^{6} v_{min} - 12 \\delta v_{max}^{5} v_{min}^{2} + 10 \\delta v_{max}^{4} v_{min}^{3} + 10 \\delta v_{max}^{3} v_{min}^{4} - 12 \\delta v_{max}^{2} v_{min}^{5} + 2 \\delta v_{max} v_{min}^{6} + v_{max}^{6} v_{min}^{2} - 2 v_{max}^{5} v_{min}^{3} + 2 v_{max}^{3} v_{min}^{5} - v_{max}^{2} v_{min}^{6}}{4 \\delta \\left(32 \\delta^{5} v_{max} - 32 \\delta^{5} v_{min} - 40 \\delta^{3} v_{max}^{3} + 120 \\delta^{3} v_{max}^{2} v_{min} - 120 \\delta^{3} v_{max} v_{min}^{2} + 40 \\delta^{3} v_{min}^{3} - 20 \\delta^{2} v_{max}^{4} + 80 \\delta^{2} v_{max}^{3} v_{min} - 120 \\delta^{2} v_{max}^{2} v_{min}^{2} + 80 \\delta^{2} v_{max} v_{min}^{3} - 20 \\delta^{2} v_{min}^{4} + v_{max}^{6} - 6 v_{max}^{5} v_{min} + 15 v_{max}^{4} v_{min}^{2} - 20 v_{max}^{3} v_{min}^{3} + 15 v_{max}^{2} v_{min}^{4} - 6 v_{max} v_{min}^{5} + v_{min}^{6}\\right)}$"
      ],
      "text/plain": [
       "(8*delta**7*v_max + 8*delta**7*v_min + 92*delta**6*v_max**2 - 92*delta**6*v_min**2 - 22*delta**5*v_max**3 + 6*delta**5*v_max**2*v_min + 6*delta**5*v_max*v_min**2 - 22*delta**5*v_min**3 - 55*delta**4*v_max**4 + 70*delta**4*v_max**3*v_min - 70*delta**4*v_max*v_min**3 + 55*delta**4*v_min**4 + 8*delta**3*v_max**5 - 20*delta**3*v_max**4*v_min + 20*delta**3*v_max**3*v_min**2 + 20*delta**3*v_max**2*v_min**3 - 20*delta**3*v_max*v_min**4 + 8*delta**3*v_min**5 + delta**2*v_max**6 - 18*delta**2*v_max**5*v_min + 45*delta**2*v_max**4*v_min**2 - 45*delta**2*v_max**2*v_min**4 + 18*delta**2*v_max*v_min**5 - delta**2*v_min**6 + 2*delta*v_max**6*v_min - 12*delta*v_max**5*v_min**2 + 10*delta*v_max**4*v_min**3 + 10*delta*v_max**3*v_min**4 - 12*delta*v_max**2*v_min**5 + 2*delta*v_max*v_min**6 + v_max**6*v_min**2 - 2*v_max**5*v_min**3 + 2*v_max**3*v_min**5 - v_max**2*v_min**6)/(4*delta*(32*delta**5*v_max - 32*delta**5*v_min - 40*delta**3*v_max**3 + 120*delta**3*v_max**2*v_min - 120*delta**3*v_max*v_min**2 + 40*delta**3*v_min**3 - 20*delta**2*v_max**4 + 80*delta**2*v_max**3*v_min - 120*delta**2*v_max**2*v_min**2 + 80*delta**2*v_max*v_min**3 - 20*delta**2*v_min**4 + v_max**6 - 6*v_max**5*v_min + 15*v_max**4*v_min**2 - 20*v_max**3*v_min**3 + 15*v_max**2*v_min**4 - 6*v_max*v_min**5 + v_min**6))"
      ]
     },
     "execution_count": 58,
     "metadata": {},
     "output_type": "execute_result"
    }
   ],
   "source": [
    "k00."
   ]
  }
 ],
 "metadata": {
  "kernelspec": {
   "display_name": "env_pykas",
   "language": "python",
   "name": "env_pykas"
  },
  "language_info": {
   "codemirror_mode": {
    "name": "ipython",
    "version": 3
   },
   "file_extension": ".py",
   "mimetype": "text/x-python",
   "name": "python",
   "nbconvert_exporter": "python",
   "pygments_lexer": "ipython3",
   "version": "3.7.3"
  }
 },
 "nbformat": 4,
 "nbformat_minor": 2
}
