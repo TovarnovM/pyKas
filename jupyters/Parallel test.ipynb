{
 "cells": [
  {
   "cell_type": "code",
   "execution_count": 1,
   "metadata": {},
   "outputs": [],
   "source": [
    "%load_ext Cython"
   ]
  },
  {
   "cell_type": "code",
   "execution_count": 14,
   "metadata": {},
   "outputs": [
    {
     "name": "stderr",
     "output_type": "stream",
     "text": [
      "warning: C:\\Users\\User\\.ipython\\cython\\_cython_magic_af7c7e86d79fb3f8d6d5aca6914894e0.pyx:10:8: Unsigned index type not allowed before OpenMP 3.0\n",
      "warning: C:\\Users\\User\\.ipython\\cython\\_cython_magic_af7c7e86d79fb3f8d6d5aca6914894e0.pyx:11:15: Use boundscheck(False) for faster access\n",
      "warning: C:\\Users\\User\\.ipython\\cython\\_cython_magic_af7c7e86d79fb3f8d6d5aca6914894e0.pyx:33:11: Use boundscheck(False) for faster access\n"
     ]
    }
   ],
   "source": [
    "%%cython\n",
    "import numpy as np\n",
    "from cython.parallel import prange\n",
    "\n",
    "\n",
    "cdef double[:] parallel_tst():\n",
    "    cdef int n = 10000000\n",
    "    cdef double[:] res = np.ones(n)\n",
    "    cdef size_t i\n",
    "    cdef double v\n",
    "    for i in prange(n, nogil=True):\n",
    "        v = res[i]\n",
    "        v = v*33\n",
    "        v = v*3300000 + 10000\n",
    "        v = v**2\n",
    "        v= v**0.5\n",
    "        v = v**2\n",
    "        v= v**0.5\n",
    "        v = v**2\n",
    "        v= v**0.5\n",
    "        v = v**2\n",
    "        v= v**0.5\n",
    "        v = v**2\n",
    "        v= v**0.5\n",
    "        v = v**2\n",
    "        v= v**0.5\n",
    "        v = v**2\n",
    "        v= v**0.5\n",
    "        v = v**2\n",
    "        v= v**0.5\n",
    "        v = v - 10000\n",
    "        v = v/3300000\n",
    "        v = v/ 33\n",
    "        res[i] = v\n",
    "    return res\n",
    "\n",
    "def foo():\n",
    "    return np.array(parallel_tst())\n",
    "        "
   ]
  },
  {
   "cell_type": "code",
   "execution_count": 15,
   "metadata": {},
   "outputs": [
    {
     "data": {
      "text/plain": [
       "True"
      ]
     },
     "execution_count": 15,
     "metadata": {},
     "output_type": "execute_result"
    }
   ],
   "source": [
    "res = foo()\n",
    "np.all(res==1.0)"
   ]
  },
  {
   "cell_type": "code",
   "execution_count": null,
   "metadata": {},
   "outputs": [],
   "source": []
  }
 ],
 "metadata": {
  "kernelspec": {
   "display_name": "env_pykas",
   "language": "python",
   "name": "env_pykas"
  },
  "language_info": {
   "codemirror_mode": {
    "name": "ipython",
    "version": 3
   },
   "file_extension": ".py",
   "mimetype": "text/x-python",
   "name": "python",
   "nbconvert_exporter": "python",
   "pygments_lexer": "ipython3",
   "version": "3.7.3"
  }
 },
 "nbformat": 4,
 "nbformat_minor": 2
}
