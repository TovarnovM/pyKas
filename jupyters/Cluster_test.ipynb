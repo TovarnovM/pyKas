{
 "cells": [
  {
   "cell_type": "code",
   "execution_count": 1,
   "metadata": {},
   "outputs": [],
   "source": [
    "from dask.distributed import Client"
   ]
  },
  {
   "cell_type": "code",
   "execution_count": 2,
   "metadata": {},
   "outputs": [
    {
     "data": {
      "text/html": [
       "<table style=\"border: 2px solid white;\">\n",
       "<tr>\n",
       "<td style=\"vertical-align: top; border: 0px solid white\">\n",
       "<h3>Client</h3>\n",
       "<ul>\n",
       "  <li><b>Scheduler: </b>tcp://172.16.50.134:8786\n",
       "  <li><b>Dashboard: </b><a href='http://172.16.50.134:8787/status' target='_blank'>http://172.16.50.134:8787/status</a>\n",
       "</ul>\n",
       "</td>\n",
       "<td style=\"vertical-align: top; border: 0px solid white\">\n",
       "<h3>Cluster</h3>\n",
       "<ul>\n",
       "  <li><b>Workers: </b>120</li>\n",
       "  <li><b>Cores: </b>128</li>\n",
       "  <li><b>Memory: </b>264.80 GB</li>\n",
       "</ul>\n",
       "</td>\n",
       "</tr>\n",
       "</table>"
      ],
      "text/plain": [
       "<Client: scheduler='tcp://195.19.34.201:8786' processes=120 cores=128>"
      ]
     },
     "execution_count": 2,
     "metadata": {},
     "output_type": "execute_result"
    }
   ],
   "source": [
    "cl = Client('172.16.50.134:8786')\n",
    "cl"
   ]
  },
  {
   "cell_type": "code",
   "execution_count": 3,
   "metadata": {},
   "outputs": [],
   "source": [
    "import os\n",
    "wd = os.getcwd()\n",
    "wd = os.path.dirname(wd)\n",
    "import sys\n",
    "sys.path.append(wd+\"\\\\src\\\\\")"
   ]
  },
  {
   "cell_type": "code",
   "execution_count": 85,
   "metadata": {},
   "outputs": [],
   "source": [
    "from tube import InterpXY,Tube\n",
    "from math import *\n",
    "import numpy as np\n",
    "from pistonlayer import ElPistEOS, ElPistLayer\n",
    "import pprint as pp\n",
    "import time\n",
    "from functional import seq"
   ]
  },
  {
   "cell_type": "code",
   "execution_count": 79,
   "metadata": {},
   "outputs": [],
   "source": [
    "# функция для импорта в кластере\n",
    "def path_add(foo):\n",
    "    def inner(*args, **kwargs):\n",
    "        import sys\n",
    "        dirs = [\"D:\\\\.cluster\\\\src\\\\\", \"E:\\\\.cluster\\\\src\\\\\"]\n",
    "        for d in dirs:\n",
    "            while d in sys.path:\n",
    "                sys.path.remove(d)\n",
    "            sys.path.append(d)\n",
    "        return foo(*args, **kwargs)\n",
    "    return inner"
   ]
  },
  {
   "cell_type": "code",
   "execution_count": 90,
   "metadata": {},
   "outputs": [],
   "source": [
    "@path_add\n",
    "def tst_foo(i):\n",
    "    \n",
    "    from tube import InterpXY,Tube\n",
    "#     import numpy as np\n",
    "#     from pistonlayer import ElPistEOS, ElPistLayer\n",
    "#     import pprint as pp\n",
    "#     import time\n",
    "    tube_dict = {\n",
    "        'tube_points': [[0, 0.023],[1.0, 0.01]]\n",
    "    }\n",
    "    t = Tube.get_standart(tube_dict)\n",
    "    w = t.get_W_between(0,0.5)\n",
    "    if i>=0:\n",
    "        time.sleep(np.random.random())\n",
    "    return wd, i, sys.path, w"
   ]
  },
  {
   "cell_type": "code",
   "execution_count": 91,
   "metadata": {},
   "outputs": [],
   "source": [
    "results = [cl.submit(tst_foo, i) for i in range(130)]"
   ]
  },
  {
   "cell_type": "code",
   "execution_count": 92,
   "metadata": {},
   "outputs": [],
   "source": [
    "r0 = results[0].result()"
   ]
  },
  {
   "cell_type": "code",
   "execution_count": 93,
   "metadata": {},
   "outputs": [
    {
     "data": {
      "text/plain": [
       "True"
      ]
     },
     "execution_count": 93,
     "metadata": {},
     "output_type": "execute_result"
    }
   ],
   "source": [
    "seq(cl.gather(results)).map(lambda r: r[3] == tst_foo(-1)[3]).all()"
   ]
  },
  {
   "cell_type": "code",
   "execution_count": 94,
   "metadata": {},
   "outputs": [
    {
     "data": {
      "text/plain": [
       "('D:\\\\pyKas',\n",
       " 0,\n",
       " ['D:\\\\.cluster\\\\workers_dir\\\\worker-x_5l2kpx',\n",
       "  'D:\\\\.cluster\\\\python37\\\\Scripts\\\\dask-worker.exe',\n",
       "  'd:\\\\.cluster\\\\python37\\\\python37.zip',\n",
       "  'd:\\\\.cluster\\\\python37\\\\DLLs',\n",
       "  'd:\\\\.cluster\\\\python37\\\\lib',\n",
       "  'd:\\\\.cluster\\\\python37',\n",
       "  'd:\\\\.cluster\\\\python37\\\\lib\\\\site-packages',\n",
       "  'D:\\\\.cluster\\\\src\\\\',\n",
       "  'E:\\\\.cluster\\\\src\\\\'],\n",
       " 0.00011244283705974523)"
      ]
     },
     "execution_count": 94,
     "metadata": {},
     "output_type": "execute_result"
    }
   ],
   "source": [
    "r0"
   ]
  }
 ],
 "metadata": {
  "kernelspec": {
   "display_name": "env_pykas",
   "language": "python",
   "name": "env_pykas"
  },
  "language_info": {
   "codemirror_mode": {
    "name": "ipython",
    "version": 3
   },
   "file_extension": ".py",
   "mimetype": "text/x-python",
   "name": "python",
   "nbconvert_exporter": "python",
   "pygments_lexer": "ipython3",
   "version": "3.7.3"
  }
 },
 "nbformat": 4,
 "nbformat_minor": 4
}
