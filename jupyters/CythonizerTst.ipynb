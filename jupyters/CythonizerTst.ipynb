{
 "cells": [
  {
   "cell_type": "markdown",
   "metadata": {},
   "source": [
    "#### Введи имя модуля"
   ]
  },
  {
   "cell_type": "code",
   "execution_count": 7,
   "metadata": {},
   "outputs": [],
   "source": [
    "true_mod_name = 'tst'\n",
    "pyx_name = true_mod_name+'.pyx'\n",
    "pxd_name = true_mod_name+'.pxd'"
   ]
  },
  {
   "cell_type": "markdown",
   "metadata": {},
   "source": [
    "#### ниже строчки *'%%writefile tmp_module.pyx'* вставь Cython код"
   ]
  },
  {
   "cell_type": "code",
   "execution_count": 8,
   "metadata": {},
   "outputs": [
    {
     "name": "stdout",
     "output_type": "stream",
     "text": [
      "Writing tst.pyx\n"
     ]
    }
   ],
   "source": [
    "%%writefile $pyx_name\n",
    "\n",
    "import sys\n",
    "import os\n",
    "sys.path.append(os.path.dirname(sys.path[0])+\"\\\\invariants\")\n",
    "cimport tube as tb\n",
    "\n",
    "cpdef void foo():\n",
    "    cdef tb.Tube t = tb.Tube([1,2,3], [2,2,3])\n",
    "    print(t)"
   ]
  },
  {
   "cell_type": "code",
   "execution_count": 6,
   "metadata": {},
   "outputs": [
    {
     "name": "stdout",
     "output_type": "stream",
     "text": [
      "Writing tube.pxd\n"
     ]
    }
   ],
   "source": [
    "%%writefile $pxd_name\n",
    "\n",
    "\n",
    "cdef class InterpXY:\n",
    "    cdef public double[:] xs, ys, ks, bs\n",
    "    cdef int length, n\n",
    "    cpdef double get_v(self, double x)\n",
    "    cpdef double[:] get_vs(self, double[:] xs)\n",
    "    cdef int set_n(self, double t)\n",
    "    cdef void sync_ks_bs(self)\n",
    "\n",
    "cdef class Tube:\n",
    "    cdef InterpXY d, s, w, w_reverse\n",
    "    cpdef double get_d(self, double x)\n",
    "    cpdef double[:] get_ds(self, double[:] xs)\n",
    "    cpdef double[:] get_xs(self)\n",
    "    cpdef double[:] get_dsdx(self, double[:] xs)    \n",
    "    cpdef double[:] get_W(self, double[:] xs)\n",
    "    cpdef double[:] get_S(self, double[:] xs)\n",
    "    cpdef double get_x2(self, double x1, double w)\n",
    "    cpdef double get_W_between(self, double x1, double x2)"
   ]
  },
  {
   "cell_type": "code",
   "execution_count": 9,
   "metadata": {},
   "outputs": [],
   "source": [
    "setup_string = \\\n",
    "f\"\"\"\n",
    "from distutils.core import setup\n",
    "from Cython.Build import cythonize\n",
    "import sys\n",
    "import os\n",
    "sys.path.append(os.path.dirname(sys.path[0])+\"\\\\invariants\")\n",
    "if __name__ == '__main__':\n",
    "    setup(\n",
    "        name='{true_mod_name}',\n",
    "        ext_modules = cythonize(\"{pyx_name}\", language=\"c++\")\n",
    ")\n",
    "\"\"\"\n",
    "setup_name = true_mod_name+'_setup.py'\n",
    "with open(setup_name, mode='w') as f:\n",
    "    f.write(setup_string)"
   ]
  },
  {
   "cell_type": "code",
   "execution_count": 10,
   "metadata": {},
   "outputs": [
    {
     "name": "stdout",
     "output_type": "stream",
     "text": [
      "Warning: passing language='c++' to cythonize() is deprecated. Instead, put \"# distutils: language=c++\" in your .pyx or .pxd file(s)\n",
      "Compiling tst.pyx because it changed.\n",
      "[1/1] Cythonizing tst.pyx\n",
      "running build_ext\n",
      "building 'tst' extension\n",
      "creating build\n",
      "creating build\\temp.win-amd64-3.7\n",
      "creating build\\temp.win-amd64-3.7\\Release\n",
      "C:\\Program Files (x86)\\Microsoft Visual Studio\\2017\\Community\\VC\\Tools\\MSVC\\14.15.26726\\bin\\HostX86\\x64\\cl.exe /c /nologo /Ox /W3 /GL /DNDEBUG /MD -IC:\\ProgramData\\Anaconda3\\include -IC:\\ProgramData\\Anaconda3\\include \"-IC:\\Program Files (x86)\\Microsoft Visual Studio\\2017\\Community\\VC\\Tools\\MSVC\\14.15.26726\\ATLMFC\\include\" \"-IC:\\Program Files (x86)\\Microsoft Visual Studio\\2017\\Community\\VC\\Tools\\MSVC\\14.15.26726\\include\" \"-IC:\\Program Files (x86)\\Windows Kits\\NETFXSDK\\4.6.1\\include\\um\" \"-IC:\\Program Files (x86)\\Windows Kits\\10\\include\\10.0.17134.0\\ucrt\" \"-IC:\\Program Files (x86)\\Windows Kits\\10\\include\\10.0.17134.0\\shared\" \"-IC:\\Program Files (x86)\\Windows Kits\\10\\include\\10.0.17134.0\\um\" \"-IC:\\Program Files (x86)\\Windows Kits\\10\\include\\10.0.17134.0\\winrt\" \"-IC:\\Program Files (x86)\\Windows Kits\\10\\include\\10.0.17134.0\\cppwinrt\" /EHsc /Tptst.cpp /Fobuild\\temp.win-amd64-3.7\\Release\\tst.obj\n",
      "tst.cpp\n",
      "C:\\Program Files (x86)\\Microsoft Visual Studio\\2017\\Community\\VC\\Tools\\MSVC\\14.15.26726\\bin\\HostX86\\x64\\link.exe /nologo /INCREMENTAL:NO /LTCG /DLL /MANIFEST:EMBED,ID=2 /MANIFESTUAC:NO /LIBPATH:C:\\ProgramData\\Anaconda3\\libs /LIBPATH:C:\\ProgramData\\Anaconda3\\PCbuild\\amd64 \"/LIBPATH:C:\\Program Files (x86)\\Microsoft Visual Studio\\2017\\Community\\VC\\Tools\\MSVC\\14.15.26726\\ATLMFC\\lib\\x64\" \"/LIBPATH:C:\\Program Files (x86)\\Microsoft Visual Studio\\2017\\Community\\VC\\Tools\\MSVC\\14.15.26726\\lib\\x64\" \"/LIBPATH:C:\\Program Files (x86)\\Windows Kits\\NETFXSDK\\4.6.1\\lib\\um\\x64\" \"/LIBPATH:C:\\Program Files (x86)\\Windows Kits\\10\\lib\\10.0.17134.0\\ucrt\\x64\" \"/LIBPATH:C:\\Program Files (x86)\\Windows Kits\\10\\lib\\10.0.17134.0\\um\\x64\" /EXPORT:PyInit_tst build\\temp.win-amd64-3.7\\Release\\tst.obj /OUT:D:\\PyKas\\jupyters\\tst.cp37-win_amd64.pyd /IMPLIB:build\\temp.win-amd64-3.7\\Release\\tst.cp37-win_amd64.lib\n",
      "   Создается библиотека build\\temp.win-amd64-3.7\\Release\\tst.cp37-win_amd64.lib и объект build\\temp.win-amd64-3.7\\Release\\tst.cp37-win_amd64.exp\n",
      "Создание кода\n",
      "Создание кода завершено\n"
     ]
    },
    {
     "name": "stderr",
     "output_type": "stream",
     "text": [
      "C:\\ProgramData\\Anaconda3\\lib\\site-packages\\Cython\\Compiler\\Main.py:367: FutureWarning: Cython directive 'language_level' not set, using 2 for now (Py2). This will change in a later release! File: D:\\PyKas\\jupyters\\tst.pyx\n",
      "  tree = Parsing.p_module(s, pxd, full_module_name)\n"
     ]
    }
   ],
   "source": [
    "!python $setup_name build_ext --inplace"
   ]
  },
  {
   "cell_type": "markdown",
   "metadata": {},
   "source": [
    "### Чистим, переименовываем"
   ]
  },
  {
   "cell_type": "code",
   "execution_count": 11,
   "metadata": {},
   "outputs": [
    {
     "name": "stdout",
     "output_type": "stream",
     "text": [
      "list index out of range\n"
     ]
    }
   ],
   "source": [
    "import glob\n",
    "import os\n",
    "import shutil\n",
    "\n",
    "\n",
    "try:\n",
    "    f2 = glob.glob(true_mod_name+'.pyd')\n",
    "    os.remove(f2[0])\n",
    "except Exception as e:\n",
    "    print(e)\n",
    "\n",
    "f = glob.glob(true_mod_name+'*.pyd')\n",
    "os.rename(f[0], true_mod_name+'.pyd')\n",
    "# os.remove(pyx_name)\n",
    "os.remove(true_mod_name+'.cpp')\n",
    "os.remove(setup_name)\n",
    "shutil.rmtree('build')"
   ]
  },
  {
   "cell_type": "markdown",
   "metadata": {},
   "source": [
    "### Done!"
   ]
  },
  {
   "cell_type": "code",
   "execution_count": null,
   "metadata": {},
   "outputs": [],
   "source": []
  }
 ],
 "metadata": {
  "kernelspec": {
   "display_name": "Python 3",
   "language": "python",
   "name": "python3"
  },
  "language_info": {
   "codemirror_mode": {
    "name": "ipython",
    "version": 3
   },
   "file_extension": ".py",
   "mimetype": "text/x-python",
   "name": "python",
   "nbconvert_exporter": "python",
   "pygments_lexer": "ipython3",
   "version": "3.7.3"
  }
 },
 "nbformat": 4,
 "nbformat_minor": 2
}
