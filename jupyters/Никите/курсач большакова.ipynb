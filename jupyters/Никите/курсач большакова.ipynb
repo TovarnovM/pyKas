{
 "cells": [
  {
   "cell_type": "code",
   "execution_count": 1,
   "metadata": {},
   "outputs": [],
   "source": [
    "import os\n",
    "wd = os.getcwd()\n",
    "wd = os.path.dirname(os.path.dirname(wd))\n",
    "import sys\n",
    "sys.path.append(wd+\"\\\\src\\\\\")"
   ]
  },
  {
   "cell_type": "code",
   "execution_count": 24,
   "metadata": {},
   "outputs": [],
   "source": [
    "from powderlayer import PowderBD, PowderOvLayer, Powder\n",
    "from tube import Tube\n",
    "import numpy as np"
   ]
  },
  {
   "cell_type": "code",
   "execution_count": 22,
   "metadata": {},
   "outputs": [],
   "source": [
    "def get_layer0(powder_name, om_q, delta):\n",
    "    d = 125e-3\n",
    "    q = 5.2\n",
    "    tube = Tube([0,d*50], [d,d])\n",
    "    opts =  powder_layer_dict_sample = {\n",
    "            'type': 'powder',\n",
    "            'powder': powder_name,\n",
    "            'omega': om_q * q * 1000,  # грамм\n",
    "            'delta': delta, # г/cm^3\n",
    "            'p_0': 30e6, # начальное давление\n",
    "            't_ign': 0.0, # начало горения\n",
    "            'u_0': 0,     #начальная скорость\n",
    "        }\n",
    "    calc_settings_sample = {\n",
    "        'cell_dx': 0.005,\n",
    "        'n_cells_min': 50,\n",
    "        'n_cells_max': 300,\n",
    "        'GasFluxCalculator_kwargs': {'flux_type':2},\n",
    "        'GridStrecher_kwargs': {}\n",
    "    }\n",
    "    return PowderOvLayer.get_standart(tube, 0, opts, calc_settings_sample)"
   ]
  },
  {
   "cell_type": "code",
   "execution_count": 23,
   "metadata": {},
   "outputs": [
    {
     "data": {
      "text/plain": [
       "PowderOvLayer(n_cells=121); \n",
       "        {'p_max':5000000.0, 'tau_min': 4.006232259839776e-05, \n",
       "        'u_max': 0.0, 'cs_max': 124.87454021397153, 'dx_min': 0.005002764114378722, \n",
       "        'x_1': 0.0, 'x_2': 0.605334457839831,\n",
       "        'V_1':  0.0, 'V_2':  0.0  }\n",
       "        { 'powder': r'4\\7', 'z_max': 0.0, 't_ign'=0.0 }"
      ]
     },
     "execution_count": 23,
     "metadata": {},
     "output_type": "execute_result"
    }
   ],
   "source": [
    "get_layer0('4\\\\7', 1, 700)"
   ]
  },
  {
   "cell_type": "code",
   "execution_count": 103,
   "metadata": {},
   "outputs": [],
   "source": [
    "def get_border(layer, tau, m1, pf_1):\n",
    "    p = layer.ps[-1]\n",
    "    v = layer.Vs_borders[-1]\n",
    "    tube = layer.tube\n",
    "    s = np.pi * 0.125**2/4 * 1.04\n",
    "    pa = 0\n",
    "    if p > pf_1 or abs(v) > 1E-3:\n",
    "        f1 = (p - pa) * s\n",
    "        v1 = v + (f1 / m1)*tau\n",
    "        return v1\n",
    "    else:\n",
    "        return v\n",
    "\n",
    "def forw_full(powder_name, om_q, delta, courant_number = 0.4):\n",
    "    lr: PowderOvLayer = get_layer0(powder_name, om_q, delta)\n",
    "    layers = [lr]\n",
    "    for i in range(10000):\n",
    "        if lr.xs_borders[-1] >= 50*0.125:\n",
    "            break\n",
    "        if lr.Vs_borders[-1] > 1900:\n",
    "            break\n",
    "        if lr.time > 0.1:\n",
    "            return None\n",
    "        tau = lr.get_tau_min() *courant_number\n",
    "        v1 = get_border(lr, tau, 5.2, 100)\n",
    "        lr = lr.step_simple(tau, 0, v1)\n",
    "        layers.append(lr)\n",
    "    else:\n",
    "        return None\n",
    "    return layers\n",
    "#     return lr\n",
    "    \n",
    "def forw_one(powder_name, om_q, delta, courant_number = 0.4):\n",
    "    om = om_q * 5.2\n",
    "    w0=om / delta\n",
    "    lrs = forw_full(powder_name, om_q, delta, courant_number)\n",
    "    if lrs is None:\n",
    "        return False, w0, 100, 600, 0\n",
    "    v = lrs[-1].Vs_borders[-1]\n",
    "    \n",
    "    suc = True\n",
    "    if v < 1900:\n",
    "        suc = False\n",
    "        \n",
    "    p_max = 0\n",
    "    for lr in lrs:\n",
    "        pm = np.max(lr.ps)\n",
    "        if pm > p_max:\n",
    "            p_max = pm\n",
    "    if p_max > 400e6:\n",
    "        suc = False\n",
    "    \n",
    "    return suc, w0, v, p_max/1e6, len(lrs)"
   ]
  },
  {
   "cell_type": "code",
   "execution_count": 108,
   "metadata": {},
   "outputs": [
    {
     "data": {
      "text/plain": [
       "0.01673406059274617"
      ]
     },
     "execution_count": 108,
     "metadata": {},
     "output_type": "execute_result"
    }
   ],
   "source": [
    "9.75/582.644"
   ]
  },
  {
   "cell_type": "code",
   "execution_count": 104,
   "metadata": {},
   "outputs": [
    {
     "data": {
      "text/plain": [
       "(True, 0.014068554396423249, 1900.4132474215285, 394.820796577644, 2461)"
      ]
     },
     "execution_count": 104,
     "metadata": {},
     "output_type": "execute_result"
    }
   ],
   "source": [
    "forw_one('14\\\\1 тр В\\\\А', 9.44/5.2, 671)"
   ]
  },
  {
   "cell_type": "code",
   "execution_count": 105,
   "metadata": {},
   "outputs": [],
   "source": [
    "def get_opt_foo(powder_name):\n",
    "    results = []\n",
    "    def inner(x):\n",
    "        om_q = x[0]\n",
    "        delta= x[1]\n",
    "        suc, w0, v, p_max, i = forw_one(powder_name, om_q, delta, courant_number = 0.4)\n",
    "        results.append((x, suc, w0, v, p_max, i))\n",
    "        shtraf = 0\n",
    "        if v > 1900:\n",
    "            shtraf += abs(1900-v)/1\n",
    "        if p_max > 400:\n",
    "            shtraf += abs(p_max-400)/1\n",
    "        return w0 + shtraf\n",
    "    return inner, results"
   ]
  },
  {
   "cell_type": "code",
   "execution_count": 100,
   "metadata": {},
   "outputs": [
    {
     "data": {
      "text/plain": [
       "['5\\\\1 д-25',\n",
       " '7\\\\1 УГ',\n",
       " '8\\\\1 УГ',\n",
       " '9\\\\7 МН',\n",
       " '9\\\\7 БП',\n",
       " '11\\\\1 БП',\n",
       " '12\\\\1 Тр',\n",
       " '12\\\\1 тр БП',\n",
       " '12\\\\1 тр МН',\n",
       " '12\\\\7',\n",
       " '12\\\\7 В\\\\А',\n",
       " '14\\\\1 тр В\\\\А',\n",
       " '14\\\\7',\n",
       " '14\\\\7 В\\\\А',\n",
       " '15\\\\1 тр В\\\\А',\n",
       " '15\\\\7',\n",
       " '16\\\\1 тр',\n",
       " '16\\\\1 тр В\\\\А',\n",
       " '17\\\\7',\n",
       " '18\\\\1 тр',\n",
       " 'НДТ-3 16\\\\1',\n",
       " 'ДГ-3 13\\\\1',\n",
       " 'ДГ-3 14\\\\1',\n",
       " 'ДГ-4 13\\\\1',\n",
       " '100\\\\70',\n",
       " 'ДГ-4 14\\\\1',\n",
       " 'ДГ-4 15\\\\1',\n",
       " ' АПЦ-235 П 16\\\\1',\n",
       " 'БНГ-1355 25\\\\1',\n",
       " 'МАП-1 23\\\\1']"
      ]
     },
     "execution_count": 100,
     "metadata": {},
     "output_type": "execute_result"
    }
   ],
   "source": [
    "good_powders = []\n",
    "for name in bd.all_powders_dict:\n",
    "    p = bd.all_powders_dict[name]\n",
    "    if p['I_k'] and 0.7 < p['I_k'] < 1.3:\n",
    "        good_powders.append(name)\n",
    "good_powders"
   ]
  },
  {
   "cell_type": "code",
   "execution_count": 101,
   "metadata": {},
   "outputs": [],
   "source": [
    "from scipy.optimize import differential_evolution"
   ]
  },
  {
   "cell_type": "code",
   "execution_count": 102,
   "metadata": {},
   "outputs": [],
   "source": [
    "bounds = [(1,4), (500, 900)]"
   ]
  },
  {
   "cell_type": "code",
   "execution_count": 97,
   "metadata": {},
   "outputs": [
    {
     "name": "stdout",
     "output_type": "stream",
     "text": [
      "suc 455\n",
      "suc 455\n",
      "suc 455\n",
      "suc 455\n",
      "suc 455\n",
      "suc 455\n",
      "suc 455\n",
      "suc 455\n",
      "suc 455\n",
      "suc 455\n",
      "suc 455\n",
      "suc 455\n",
      "suc 455\n",
      "suc 455\n",
      "suc 455\n",
      "suc 455\n",
      "suc 455\n",
      "suc 455\n",
      "suc 455\n",
      "suc 455\n",
      "suc 455\n",
      "suc 455\n",
      "suc 455\n",
      "suc 455\n"
     ]
    },
    {
     "data": {
      "text/plain": [
       "(array([  1.00000906, 899.97618119]), 0.005777983062030247)"
      ]
     },
     "execution_count": 97,
     "metadata": {},
     "output_type": "execute_result"
    }
   ],
   "source": [
    "foo, results = get_opt_foo('16\\\\1 тр В\\\\А')\n",
    "result = differential_evolution(foo, bounds)\n",
    "result.x, result.fun"
   ]
  },
  {
   "cell_type": "code",
   "execution_count": 98,
   "metadata": {},
   "outputs": [
    {
     "data": {
      "text/plain": [
       "(False, 0.005777777777777778, 1234.3416737912537, 202.79980062514167, 1541)"
      ]
     },
     "execution_count": 98,
     "metadata": {},
     "output_type": "execute_result"
    }
   ],
   "source": [
    "forw_one('16\\\\1 тр В\\\\А', 1, 900)"
   ]
  }
 ],
 "metadata": {
  "kernelspec": {
   "display_name": "env_pykas",
   "language": "python",
   "name": "env_pykas"
  },
  "language_info": {
   "codemirror_mode": {
    "name": "ipython",
    "version": 3
   },
   "file_extension": ".py",
   "mimetype": "text/x-python",
   "name": "python",
   "nbconvert_exporter": "python",
   "pygments_lexer": "ipython3",
   "version": "3.7.3"
  }
 },
 "nbformat": 4,
 "nbformat_minor": 4
}
