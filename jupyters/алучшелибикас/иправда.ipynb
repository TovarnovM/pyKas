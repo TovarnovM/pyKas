{
 "cells": [
  {
   "cell_type": "markdown",
   "metadata": {},
   "source": [
    "### Задача\n",
    "\n",
    "Правда ли бикас дает преимущество? Или лучше разгонять без всяких там бикасов"
   ]
  },
  {
   "cell_type": "code",
   "execution_count": 1,
   "metadata": {},
   "outputs": [],
   "source": [
    "import os\n",
    "wd = os.getcwd()\n",
    "wd = os.path.dirname(os.path.dirname(wd))\n",
    "import sys\n",
    "sys.path.append(wd+\"\\\\src\\\\\")"
   ]
  },
  {
   "cell_type": "code",
   "execution_count": 5,
   "metadata": {},
   "outputs": [],
   "source": [
    "from tube import InterpXY,Tube,BorderSimple\n",
    "from math import *\n",
    "import numpy as np\n",
    "from powderlayer import PowderBD, PowderOvLayer, Powder\n",
    "from gaslayer import GasEOS, GasLayer\n",
    "from pistonlayer import ElPistEOS, ElPistLayer\n",
    "import pprint as pp"
   ]
  },
  {
   "cell_type": "code",
   "execution_count": 3,
   "metadata": {},
   "outputs": [],
   "source": [
    "from tqdm import tqdm_notebook\n",
    "from matplotlib.patches import Polygon\n",
    "import matplotlib as mpl\n",
    "import matplotlib.pyplot as plt\n",
    "\n",
    "from ipywidgets import interact, interactive, fixed\n",
    "import ipywidgets\n",
    "\n",
    "%matplotlib inline \n",
    "%config InlineBackend.figure_format = 'svg' \n",
    "\n",
    "mpl.rcParams['figure.figsize'] = (5,3) "
   ]
  },
  {
   "cell_type": "code",
   "execution_count": 4,
   "metadata": {},
   "outputs": [],
   "source": [
    "import json\n",
    "from functional import seq"
   ]
  },
  {
   "cell_type": "code",
   "execution_count": null,
   "metadata": {},
   "outputs": [],
   "source": [
    "d = 23e-3\n",
    "tube_dict = {\n",
    "    'tube_points': [[0, 0.023], [0.5, 0.023], [1, 0.023*0.5], [2.5, 0.023*0.5]]\n",
    "}"
   ]
  }
 ],
 "metadata": {
  "kernelspec": {
   "display_name": "env_pykas",
   "language": "python",
   "name": "env_pykas"
  },
  "language_info": {
   "codemirror_mode": {
    "name": "ipython",
    "version": 3
   },
   "file_extension": ".py",
   "mimetype": "text/x-python",
   "name": "python",
   "nbconvert_exporter": "python",
   "pygments_lexer": "ipython3",
   "version": "3.7.3"
  }
 },
 "nbformat": 4,
 "nbformat_minor": 2
}
