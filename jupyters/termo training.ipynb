{
 "cells": [
  {
   "cell_type": "code",
   "execution_count": 2,
   "metadata": {},
   "outputs": [],
   "source": [
    "import sympy as sp"
   ]
  },
  {
   "cell_type": "code",
   "execution_count": 3,
   "metadata": {},
   "outputs": [],
   "source": [
    "T_k, T_k_i0, T_km1, T_kp1, tau, Cons, x_k, x_km1, x_kp1 = sp.symbols('T_k, T_k_i0, T_km1, T_kp1, tau, Cons, x_k, x_km1, x_kp1')"
   ]
  },
  {
   "cell_type": "code",
   "execution_count": 4,
   "metadata": {},
   "outputs": [],
   "source": [
    "e = (T_k-T_k_i0)/tau - Cons*((T_kp1-T_k)/(x_kp1-x_k) - (T_k-T_km1)/(x_k-x_km1))/(0.5*(x_kp1-x_km1))"
   ]
  },
  {
   "cell_type": "code",
   "execution_count": 18,
   "metadata": {},
   "outputs": [
    {
     "data": {
      "text/latex": [
       "$\\displaystyle \\frac{Cons T_{km1}}{0.5 x_{k} x_{km1} - 0.5 x_{k} x_{kp1} - 0.5 x_{km1}^{2} + 0.5 x_{km1} x_{kp1}} - \\frac{Cons T_{kp1}}{0.5 x_{k} x_{km1} - 0.5 x_{k} x_{kp1} - 0.5 x_{km1} x_{kp1} + 0.5 x_{kp1}^{2}} + T_{k} \\left(\\frac{Cons}{0.5 x_{k} x_{km1} - 0.5 x_{k} x_{kp1} - 0.5 x_{km1} x_{kp1} + 0.5 x_{kp1}^{2}} - \\frac{Cons}{0.5 x_{k} x_{km1} - 0.5 x_{k} x_{kp1} - 0.5 x_{km1}^{2} + 0.5 x_{km1} x_{kp1}} + \\frac{1}{\\tau}\\right) - \\frac{T_{k i0}}{\\tau}$"
      ],
      "text/plain": [
       "Cons*T_km1/(0.5*x_k*x_km1 - 0.5*x_k*x_kp1 - 0.5*x_km1**2 + 0.5*x_km1*x_kp1) - Cons*T_kp1/(0.5*x_k*x_km1 - 0.5*x_k*x_kp1 - 0.5*x_km1*x_kp1 + 0.5*x_kp1**2) + T_k*(Cons/(0.5*x_k*x_km1 - 0.5*x_k*x_kp1 - 0.5*x_km1*x_kp1 + 0.5*x_kp1**2) - Cons/(0.5*x_k*x_km1 - 0.5*x_k*x_kp1 - 0.5*x_km1**2 + 0.5*x_km1*x_kp1) + 1/tau) - T_k_i0/tau"
      ]
     },
     "execution_count": 18,
     "metadata": {},
     "output_type": "execute_result"
    }
   ],
   "source": [
    "sp.collect(e.expand(), T_k).simplify()"
   ]
  },
  {
   "cell_type": "code",
   "execution_count": null,
   "metadata": {},
   "outputs": [],
   "source": []
  }
 ],
 "metadata": {
  "kernelspec": {
   "display_name": "env_pykas",
   "language": "python",
   "name": "env_pykas"
  },
  "language_info": {
   "codemirror_mode": {
    "name": "ipython",
    "version": 3
   },
   "file_extension": ".py",
   "mimetype": "text/x-python",
   "name": "python",
   "nbconvert_exporter": "python",
   "pygments_lexer": "ipython3",
   "version": "3.7.3"
  }
 },
 "nbformat": 4,
 "nbformat_minor": 2
}
