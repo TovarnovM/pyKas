{
 "cells": [
  {
   "cell_type": "code",
   "execution_count": 1,
   "metadata": {},
   "outputs": [],
   "source": [
    "import os\n",
    "wd = os.getcwd()\n",
    "wd = os.path.dirname(os.path.dirname(wd))\n",
    "import sys\n",
    "sys.path.append(wd+\"\\\\src\\\\\")"
   ]
  },
  {
   "cell_type": "code",
   "execution_count": 2,
   "metadata": {},
   "outputs": [],
   "source": [
    "from tube import InterpXY,Tube,BorderSimple\n",
    "from math import *\n",
    "import numpy as np\n",
    "from powderlayer import PowderBD, PowderOvLayer, Powder\n",
    "from gaslayer import GasEOS, GasLayer\n",
    "from pistonlayer import ElPistEOS, ElPistLayer\n",
    "import pprint as pp"
   ]
  },
  {
   "cell_type": "code",
   "execution_count": 3,
   "metadata": {},
   "outputs": [],
   "source": [
    "from tqdm import tqdm_notebook\n",
    "from matplotlib.patches import Polygon\n",
    "import matplotlib as mpl\n",
    "import matplotlib.pyplot as plt\n",
    "\n",
    "from ipywidgets import interact, interactive, fixed\n",
    "import ipywidgets\n",
    "mpl.rcParams['figure.figsize'] = (5,3) \n",
    "\n",
    "import json\n",
    "from functional import seq"
   ]
  },
  {
   "cell_type": "code",
   "execution_count": 4,
   "metadata": {},
   "outputs": [
    {
     "output_type": "execute_result",
     "data": {
      "text/plain": "dict_keys(['СФ 033', 'ВУ фл', 'ВТ', 'ВТМ', 'ВТХ-10', 'ВТХ-20', 'ВТД-25', '4\\\\1', '4\\\\1 фл', '4\\\\7', '4\\\\7 св', '4\\\\7 фл ВБП', '4\\\\7 ПТ-3 фл', '4\\\\7 Ц гр', '5\\\\1', '5\\\\1 х-10', '5\\\\1 х-20', '5\\\\1 д-20', '5\\\\1 д-25', '5\\\\7 св', '5\\\\7 н\\\\а', '5\\\\7 в\\\\а', '5\\\\7 Ц фл', '6\\\\7 гр', '6\\\\7 БП гр', '6\\\\7 фл В БП', '6\\\\7 П-5 БП фл', '6\\\\7 фл ', '7\\\\1', '7\\\\1 фл БП', '7\\\\7', '7\\\\14', '7\\\\1 УГ', '8\\\\1 тр', '8\\\\7', '8\\\\1 УГ', '9\\\\7', '9\\\\7 МН', '9\\\\7 БП', '11\\\\1 БП', '11\\\\7', '11\\\\1 УГ', '12\\\\1 Тр', '12\\\\1 тр БП', '12\\\\1 тр МН', '12\\\\7', '12\\\\7 В\\\\А', '12\\\\1 УГ', '14\\\\1 тр В\\\\А', '14\\\\7', '14\\\\7 В\\\\А', '14\\\\7 БП', '15\\\\1 тр В\\\\А', '15\\\\7', '16\\\\1 тр', '16\\\\1 тр В\\\\А', '17\\\\7', '18\\\\1 тр', '18\\\\1 тр БП', '22\\\\1 тр', '22\\\\7', '23\\\\7', '28\\\\1 тр', '37\\\\1 тр', 'НДТ-3 16\\\\1', 'НДТ-3 18\\\\1', 'НДТ-3 19\\\\1', 'НДТ-3 23\\\\1', 'НДТ-3 32\\\\1', 'НДТ-3 152\\\\57', 'ДГ-2 15\\\\1', 'ДГ-2 17\\\\1', 'ДГ-3 13\\\\1', 'ДГ-3 14\\\\1', 'ДГ-3 17\\\\1', 'ДГ-3 18\\\\1', 'ДГ-3 20\\\\1', 'ДГ-3 23\\\\1', 'ДГ-4 13\\\\1', '100\\\\56', '100\\\\70', '130\\\\50', '130\\\\58 БП', '152\\\\57', '152\\\\57 Ш', '152\\\\57 БП', '180\\\\57', '180\\\\57 БП', '180\\\\57 Ш3 БП', '180\\\\60', 'НДТ-2 16\\\\1', 'НДТ-2 19\\\\1', 'НДТ-2 25\\\\1', 'НДТ-2 130\\\\50', 'НДТ-2 152\\\\57', 'ДГ-4 14\\\\1', 'ДГ-4 15\\\\1', 'НДГ-5', 'НДГ-6', 'НБ', ' АПЦ-235 П 16\\\\1', 'БНГ-1355 25\\\\1', 'МАП-1 23\\\\1', 'УГ-1', 'УГ-2', 'УГФ-1', 'Cr', 'ДРП', 'КЗДП', 'Флегматизатор', 'Свинцовая проволка', 'K2SO4', 'АФ-30'])"
     },
     "metadata": {},
     "execution_count": 4
    }
   ],
   "source": [
    "with open(wd+\"\\\\src\\\\\" + 'gpowders.json') as f:\n",
    "    all_powders = json.load(f)\n",
    "all_powders.keys()"
   ]
  },
  {
   "cell_type": "code",
   "execution_count": 5,
   "metadata": {},
   "outputs": [],
   "source": [
    "tps = sorted([(I_k, k) for k, d in all_powders.items() if isinstance(I_k:=d['I_k'], float) and I_k > 0.1])\n",
    "good_marks = [name for I_k, name in tps]\n",
    "I_ks = [I_k for I_k, name in tps]"
   ]
  },
  {
   "cell_type": "code",
   "execution_count": 6,
   "metadata": {},
   "outputs": [
    {
     "output_type": "execute_result",
     "data": {
      "text/plain": "[(0.15, 'ВУ фл'),\n (0.17, 'СФ 033'),\n (0.22, 'ВТ'),\n (0.23, 'ВТМ'),\n (0.25, '5\\\\1'),\n (0.27, 'ВТХ-10'),\n (0.28, '4\\\\7 ПТ-3 фл'),\n (0.3, '4\\\\1'),\n (0.3, '4\\\\7 Ц гр'),\n (0.32, '4\\\\7'),\n (0.32, '5\\\\7 н\\\\а'),\n (0.33, '4\\\\7 св'),\n (0.35, '5\\\\7 Ц фл'),\n (0.35, '5\\\\7 св'),\n (0.37, '5\\\\7 в\\\\а'),\n (0.38, '4\\\\7 фл ВБП'),\n (0.39, 'ВТХ-20'),\n (0.4, '4\\\\1 фл'),\n (0.4, '7\\\\14'),\n (0.43, '6\\\\7 фл '),\n (0.43, '6\\\\7 фл В БП'),\n (0.45, 'ВТД-25'),\n (0.48, '6\\\\7 П-5 БП фл'),\n (0.5, '5\\\\1 х-10'),\n (0.5, '6\\\\7 гр'),\n (0.5, '7\\\\1'),\n (0.5, '7\\\\7'),\n (0.5, '8\\\\7'),\n (0.51, '7\\\\1 фл БП'),\n (0.56, '6\\\\7 БП гр'),\n (0.6, '9\\\\7'),\n (0.68, '11\\\\7'),\n (0.68, '5\\\\1 д-20'),\n (0.7, '5\\\\1 х-20'),\n (0.7, '8\\\\1 тр'),\n (0.72, '12\\\\7 В\\\\А'),\n (0.76, '9\\\\7 МН'),\n (0.81, '12\\\\7'),\n (0.82, '5\\\\1 д-25'),\n (0.83, '14\\\\7 В\\\\А'),\n (0.84, '14\\\\1 тр В\\\\А'),\n (0.87, '12\\\\1 Тр'),\n (0.88, '12\\\\1 тр МН'),\n (0.9, '7\\\\1 УГ'),\n (0.9, 'ДГ-4 13\\\\1'),\n (0.91, '15\\\\1 тр В\\\\А'),\n (0.93, '15\\\\7'),\n (0.94, '9\\\\7 БП'),\n (0.96, '14\\\\7'),\n (1.0, '8\\\\1 УГ'),\n (1.04, '16\\\\1 тр В\\\\А'),\n (1.05, 'ДГ-4 14\\\\1'),\n (1.075, 'ДГ-3 13\\\\1'),\n (1.09, '11\\\\1 БП'),\n (1.09, '12\\\\1 тр БП'),\n (1.1, '18\\\\1 тр'),\n (1.12, 'ДГ-4 15\\\\1'),\n (1.13, '16\\\\1 тр'),\n (1.14, ' АПЦ-235 П 16\\\\1'),\n (1.15, 'ДГ-3 14\\\\1'),\n (1.16, '100\\\\70'),\n (1.16, '17\\\\7'),\n (1.18, 'МАП-1 23\\\\1'),\n (1.26, 'БНГ-1355 25\\\\1'),\n (1.29, 'НДТ-3 16\\\\1'),\n (1.32, '28\\\\1 тр'),\n (1.33, '22\\\\1 тр'),\n (1.34, 'ДГ-2 15\\\\1'),\n (1.34, 'УГФ-1'),\n (1.35, 'УГ-1'),\n (1.38, '14\\\\7 БП'),\n (1.39, 'ДГ-3 17\\\\1'),\n (1.4, '180\\\\57 Ш3 БП'),\n (1.42, 'НДТ-2 16\\\\1'),\n (1.43, '11\\\\1 УГ'),\n (1.46, 'НДТ-3 18\\\\1'),\n (1.48, 'ДГ-3 18\\\\1'),\n (1.5, '12\\\\1 УГ'),\n (1.52, 'ДГ-2 17\\\\1'),\n (1.521, '100\\\\56'),\n (1.53, '18\\\\1 тр БП'),\n (1.53, '22\\\\7'),\n (1.54, 'НДТ-3 19\\\\1'),\n (1.64, 'ДГ-3 20\\\\1'),\n (1.67, '23\\\\7'),\n (1.69, 'НДТ-2 19\\\\1'),\n (1.73, '180\\\\57'),\n (1.82, '152\\\\57 БП'),\n (1.83, '152\\\\57 Ш'),\n (1.84, '130\\\\50'),\n (1.86, 'НДТ-3 23\\\\1'),\n (1.89, 'ДГ-3 23\\\\1'),\n (1.9, 'НДТ-2 130\\\\50'),\n (1.9, 'НДТ-2 152\\\\57'),\n (2.2, 'НДТ-2 25\\\\1'),\n (2.33, '130\\\\58 БП'),\n (2.44, 'НДТ-3 152\\\\57'),\n (2.47, '152\\\\57'),\n (2.48, '37\\\\1 тр'),\n (2.5, '180\\\\57 БП'),\n (2.59, 'НДТ-3 32\\\\1'),\n (2.7, '180\\\\60'),\n (2.71, 'УГ-2')]"
     },
     "metadata": {},
     "execution_count": 6
    }
   ],
   "source": [
    "tps"
   ]
  },
  {
   "cell_type": "code",
   "execution_count": 7,
   "metadata": {},
   "outputs": [],
   "source": [
    "from opti.Chromosome import DRange, SRange,ChromoController\n",
    "from zone import Zone"
   ]
  },
  {
   "cell_type": "code",
   "execution_count": 8,
   "metadata": {},
   "outputs": [],
   "source": [
    "L1 = DRange(2,6,'L1')\n",
    "L2 = DRange(1,4,'L2')\n",
    "Lcone = DRange(0.3,2.5,'Lcone')\n",
    "\n",
    "\n",
    "d2 = DRange(0.085,0.125, 'd2') \n",
    "chr_contr = ChromoController([L1, L2, Lcone, d2],)\n"
   ]
  },
  {
   "cell_type": "code",
   "execution_count": 9,
   "metadata": {},
   "outputs": [
    {
     "output_type": "execute_result",
     "data": {
      "text/plain": "{'L1': 2.117028960264826,\n 'L2': 3.806781453476675,\n 'Lcone': 1.896010883443061,\n 'd2': 0.11177395321255135}"
     },
     "metadata": {},
     "execution_count": 9
    }
   ],
   "source": [
    "chr_contr.get_chromo()"
   ]
  },
  {
   "cell_type": "code",
   "execution_count": 10,
   "metadata": {},
   "outputs": [],
   "source": [
    "d = {\n",
    "    'id': 'some_id',\n",
    "    'tube_points': [[0.0, 0.125], [5.0, 0.125]],\n",
    "    'layers': [\n",
    "        {\n",
    "            'type': 'gas',\n",
    "            'x_1': 0,\n",
    "            \n",
    "        }\n",
    "    ],\n",
    "    'borders': []\n",
    "    \n",
    "}"
   ]
  },
  {
   "cell_type": "code",
   "execution_count": 11,
   "metadata": {
    "tags": []
   },
   "outputs": [
    {
     "output_type": "stream",
     "name": "stdout",
     "text": "Tube(xs=[0.0, 5.0], ds=[0.125, 0.125])\n"
    },
    {
     "output_type": "execute_result",
     "data": {
      "text/plain": "{'id': 'some_id'}"
     },
     "metadata": {},
     "execution_count": 11
    }
   ],
   "source": [
    "def forward_foo(d):\n",
    "    t = Tube.get_standart({'tube_points': d['tube_points']})\n",
    "    print(t)\n",
    "    \n",
    "    return {'id': d['id']}\n",
    "forward_foo(d)"
   ]
  },
  {
   "cell_type": "code",
   "execution_count": 19,
   "metadata": {},
   "outputs": [
    {
     "output_type": "execute_result",
     "data": {
      "text/plain": "<Client: 'tcp://172.23.0.3:8786' processes=11 threads=11, memory=12.19 GB>",
      "text/html": "<table style=\"border: 2px solid white;\">\n<tr>\n<td style=\"vertical-align: top; border: 0px solid white\">\n<h3 style=\"text-align: left;\">Client</h3>\n<ul style=\"text-align: left; list-style: none; margin: 0; padding: 0;\">\n  <li><b>Scheduler: </b>tcp://172.16.49.81:8786</li>\n  <li><b>Dashboard: </b><a href='http://172.16.49.81:8787/status' target='_blank'>http://172.16.49.81:8787/status</a></li>\n</ul>\n</td>\n<td style=\"vertical-align: top; border: 0px solid white\">\n<h3 style=\"text-align: left;\">Cluster</h3>\n<ul style=\"text-align: left; list-style:none; margin: 0; padding: 0;\">\n  <li><b>Workers: </b>11</li>\n  <li><b>Cores: </b>11</li>\n  <li><b>Memory: </b>12.19 GB</li>\n</ul>\n</td>\n</tr>\n</table>"
     },
     "metadata": {},
     "execution_count": 19
    }
   ],
   "source": [
    "from distributed import Client\n",
    "\n",
    "cl = Client('172.16.49.81:8786')\n",
    "cl"
   ]
  },
  {
   "cell_type": "code",
   "execution_count": 17,
   "metadata": {},
   "outputs": [],
   "source": [
    "def foo_tst(sandwich_dict_sample):\n",
    "    from tube import InterpXY,Tube,BorderSimple\n",
    "    import numpy as np\n",
    "    from gaslayer import GasEOS, GasLayer\n",
    "    from powderlayer import PowderOvLayer\n",
    "    from pistonlayer import ElPistLayer\n",
    "    \n",
    "    class Sandwich(object):\n",
    "        @classmethod\n",
    "        def get_standart(cls, sandwich_dict):\n",
    "            tube = Tube.get_standart(sandwich_dict['tube'])\n",
    "            res = cls(tube)\n",
    "            x_left = sandwich_dict.get('x_left', 0)\n",
    "            b = BorderSimple.get_standart(sandwich_dict['borders'][0])\n",
    "            res.borders.append(b)\n",
    "            for lr_dict, b_right_dict in zip(sandwich_dict['layers'], sandwich_dict['borders'][1:]):\n",
    "                if lr_dict['type'] == 'gas':\n",
    "                    lr = GasLayer.get_standart(tube, x_left, lr_dict, sandwich_dict['calc_settings']['gas_settings'])\n",
    "                elif lr_dict['type'] == 'powder':\n",
    "                    lr = PowderOvLayer.get_standart(tube, x_left, lr_dict, sandwich_dict['calc_settings']['powder_settings'])\n",
    "                elif lr_dict['type'] == 'pist':\n",
    "                    lr = ElPistLayer.get_standart(tube, x_left, lr_dict, sandwich_dict['calc_settings']['pist_settings'])\n",
    "                else:\n",
    "                    t = lr_dict[\"type\"]\n",
    "                    raise AttributeError(f'Неправильный тип области {t}')\n",
    "                b = BorderSimple.get_standart(b_right_dict)\n",
    "                res.layers.append(lr)\n",
    "                res.borders.append(b)\n",
    "                x_left = lr.xs_borders[-1] + b.w_border\n",
    "            res.connect_borders_layers()\n",
    "            return res\n",
    "\n",
    "        def __init__(self, tube: Tube, i=0):\n",
    "            self.tube = tube\n",
    "            self.i = i\n",
    "            self.layers = []\n",
    "            self.borders= []\n",
    "\n",
    "        def connect_borders_layers(self):\n",
    "            if len(self.layers)+1 != len(self.borders):\n",
    "                raise AttributeError(f'Неправильное количество границ и слоев len(self.layers)={len(self.layers)}  len(self.borders)={len(self.borders)}')\n",
    "            all_layers = [None] + self.layers + [None]\n",
    "            for b, lr_left, lr_right in zip(self.borders, all_layers[:-1], all_layers[1:]):\n",
    "                b.lr_left = lr_left\n",
    "                b.lr_right = lr_right\n",
    "\n",
    "        def simple_step(self, courant):\n",
    "            tau = min([lr.get_tau_min() for lr in self.layers]) * courant\n",
    "            for b in self.borders:\n",
    "                b.update_xs()\n",
    "            for b in self.borders:\n",
    "                b.update_Vs(tau)\n",
    "            result = Sandwich(self.tube, self.i+1)\n",
    "            result.layers = [lr.step_up(tau) for lr in self.layers]\n",
    "            result.borders= [b.copy() for b in self.borders]\n",
    "            result.connect_borders_layers()\n",
    "            return result\n",
    "\n",
    "        def plot(self, fig, ax, **kwargs):\n",
    "            self.tube.plot(fig, ax, **kwargs)\n",
    "            for lr in self.layers:\n",
    "                lr.plot(fig, ax, **kwargs)\n",
    "            for b in self.borders:\n",
    "                b.plot(fig, ax, **kwargs)\n",
    "\n",
    "        def plot_param(self, fig, ax, param_name, **kwargs):\n",
    "            for lr in self.layers:\n",
    "                xs = np.array(lr.xs_cells)\n",
    "                ys = np.array(getattr(lr, param_name))\n",
    "                color = lr.color_4_plot\n",
    "                lw = kwargs.get('lw', 2)\n",
    "                ax.plot(xs, ys, color=color, lw=lw)\n",
    "\n",
    "        def get_t(self):\n",
    "            ts = [lr.time for lr in self.layers]\n",
    "            if abs(min(ts) - max(ts)) > 1e-14:\n",
    "                print(f'Слои не синхронизированны {ts}')\n",
    "            return ts[0]\n",
    "\n",
    "        def get_vel(self):\n",
    "            return self.layers[-1].Vs_borders[-1]\n",
    "\n",
    "        def get_x_projectile(self):\n",
    "            return self.layers[-1].xs_borders[-1]\n",
    "\n",
    "\n",
    "        def get_p_max(self):\n",
    "            return max([np.max(lr.ps) for lr in self.layers])\n",
    "\n",
    "        def __str__(self):\n",
    "            res = f'Sandwich i={self.i}; t={self.get_t()*1000} ms;  vel={self.get_vel()} m/s;  p_max={self.get_p_max()*1e-6} MPa\\nlayers:\\n'\n",
    "            for i, lr in enumerate(self.layers):\n",
    "                res += f'{i}) {lr}\\n'\n",
    "            return res\n",
    "\n",
    "        def __repr__(self):\n",
    "            return str(self)\n",
    "    try:\n",
    "        sandw = Sandwich.get_standart(sandwich_dict_sample)\n",
    "        for i in range(15000):\n",
    "            if sandw.get_x_projectile() > sandw.tube.get_x_right():\n",
    "                break\n",
    "            v = sandw.layers[-1].Vs_borders[-1]\n",
    "            sandw = sandw.simple_step(0.49)\n",
    "\n",
    "        return sandw.get_vel()\n",
    "    except Exception as e:\n",
    "        return str(e)\n"
   ]
  },
  {
   "cell_type": "code",
   "execution_count": 18,
   "metadata": {},
   "outputs": [
    {
     "output_type": "execute_result",
     "data": {
      "text/plain": "1599.1346749197262"
     },
     "metadata": {},
     "execution_count": 18
    }
   ],
   "source": [
    "sandwich_dict_sample = {\n",
    "    'tube': {\n",
    "#         'tube_points': [[-1.3, 0.8], [-0.32, 0.8], [-0.28, 0.265],[6.5, 0.265]]\n",
    "        'tube_points': [[-9.413427684822523, 0.125],[6.2, 0.125]]\n",
    "    },\n",
    "    'x_left': -9.413427684822523,\n",
    "    'layers': [\n",
    "         {\n",
    "            'type': 'gas',\n",
    "            'name': 'N_2',\n",
    "            'gamma': 1.4,\n",
    "            'kappa': 0, #0.0010838,\n",
    "            'R': 297,\n",
    "            'T_0': 283, # K\n",
    "            'W_0': 0.00003,  # м^3 объем газа\n",
    "            'p_0': 10e6, # начальное давление газа\n",
    "            'u_0': 0,     #начальная скорость\n",
    "            'x_2': 0\n",
    "        }, {\n",
    "            'type': 'pist',\n",
    "            'omega': 3.03,  # кг\n",
    "            'p_0': 5e6, # начальное давление в полиэтилене\n",
    "            'u_0': 0,     #начальная скорость\n",
    "            'ElPistEOS_kwargs': dict(\n",
    "                k=1.63098, \n",
    "                c_0=2308, \n",
    "                ro_0=919.03, \n",
    "                sigma_star=25.2, \n",
    "                k_0=0.054, \n",
    "                b_1=0.027, \n",
    "                b_2=0.00675, \n",
    "                tau_0=1.36, \n",
    "                mu=0.001, \n",
    "                tau_s=1,                 \n",
    "                zeroP=False, \n",
    "                zeroE=True)\n",
    "        },\n",
    "        {\n",
    "            'type': 'powder',\n",
    "            'powder': {\n",
    "                'name': '4\\\\7',\n",
    "                'f': 1.027,\n",
    "                'etta': 0.228,\n",
    "                'alpha_k': 1.008,\n",
    "                'T_1': 3006.0,\n",
    "                'ro': 1.6,\n",
    "                'I_k': 0.32,\n",
    "                'Z_k': 1.488,\n",
    "                'k_1': 0.811,\n",
    "                'lambda_1': 0.081,\n",
    "                'k_2': 0.505,\n",
    "                'lambda_2': -1.024,\n",
    "                'k_f': 0.0003,\n",
    "                'k_l': 0.0016\n",
    "            },\n",
    "            'omega': 10035,  # грамм\n",
    "            'delta': 700, # г/cm^3\n",
    "            'p_0': 5e6, # начальное давление\n",
    "            't_ign': 0.002, # начало горения\n",
    "            'u_0': 0,     #начальная скорость\n",
    "        }\n",
    "        \n",
    "    ],\n",
    "    'borders': [\n",
    "        {\n",
    "            'mass': 1000, # kg\n",
    "            'p_f': 100000e6, #Pa\n",
    "            't_init': -1,\n",
    "            'w_border': 0.05, #m\n",
    "        },\n",
    "        {\n",
    "            'mass': 0.1, # kg\n",
    "            'p_f': 1, #Pa\n",
    "            't_init': -1,\n",
    "            'w_border': 0, #m\n",
    "#             'p_a_right': 1e5\n",
    "        },\n",
    "        {\n",
    "            'mass': 0.9, # kg\n",
    "            'p_f': 1, #Pa\n",
    "            't_init': -1,\n",
    "            'w_border': 0, #m\n",
    "#             'p_a_right': 1e5\n",
    "        },\n",
    "        {\n",
    "            'mass': 5.3, # kg\n",
    "            'p_f': 30e6, #Pa\n",
    "            't_init': -1,\n",
    "            'w_border': 0, #m\n",
    "#             'p_a_right': 1e5\n",
    "        },\n",
    "    ],\n",
    "    'calc_settings': {\n",
    "        'powder_settings': {\n",
    "            'cell_dx': 0.0025,\n",
    "            'n_cells_min': 13,\n",
    "            'n_cells_max': 2000,\n",
    "            'GasFluxCalculator_kwargs': {'flux_type':2},\n",
    "            'GridStrecher_kwargs': {}\n",
    "        },\n",
    "        'gas_settings': {\n",
    "            'cell_dx': 0.0025,\n",
    "            'n_cells_min': 13,\n",
    "            'n_cells_max': 2000,\n",
    "            'GasFluxCalculator_kwargs': {'flux_type':2},\n",
    "            'GridStrecher_kwargs': {}\n",
    "        },\n",
    "        'pist_settings': {\n",
    "            'cell_dx': 0.0025,\n",
    "            'n_cells_min': 13,\n",
    "            'n_cells_max': 2000,\n",
    "            'GasFluxCalculator_kwargs': {'flux_type':2},\n",
    "            'GridStrecher_kwargs': {}\n",
    "        }\n",
    "    }\n",
    "}\n",
    "\n",
    "\n",
    "foo_tst(sandwich_dict_sample)"
   ]
  },
  {
   "cell_type": "code",
   "execution_count": 20,
   "metadata": {},
   "outputs": [],
   "source": [
    "futs = cl.map(foo_tst, [sandwich_dict_sample]*10)"
   ]
  },
  {
   "cell_type": "code",
   "execution_count": 10,
   "metadata": {
    "tags": []
   },
   "outputs": [
    {
     "output_type": "error",
     "ename": "KilledWorker",
     "evalue": "('foo_tst-6db5e28378fc0b13f10a5c30f1c5f955', <Worker 'tcp://172.21.0.2:36641', name: tcp://172.21.0.2:36641, memory: 0, processing: 1>)",
     "traceback": [
      "\u001b[1;31m---------------------------------------------------------------------------\u001b[0m",
      "\u001b[1;31mKilledWorker\u001b[0m                              Traceback (most recent call last)",
      "\u001b[1;32m<ipython-input-10-58e9ccc03c91>\u001b[0m in \u001b[0;36m<module>\u001b[1;34m\u001b[0m\n\u001b[1;32m----> 1\u001b[1;33m \u001b[0mress\u001b[0m \u001b[1;33m=\u001b[0m \u001b[0mcl\u001b[0m\u001b[1;33m.\u001b[0m\u001b[0mgather\u001b[0m\u001b[1;33m(\u001b[0m\u001b[0mfuts\u001b[0m\u001b[1;33m)\u001b[0m\u001b[1;33m\u001b[0m\u001b[1;33m\u001b[0m\u001b[0m\n\u001b[0m\u001b[0;32m      2\u001b[0m \u001b[0mlen\u001b[0m\u001b[1;33m(\u001b[0m\u001b[0mress\u001b[0m\u001b[1;33m)\u001b[0m\u001b[1;33m\u001b[0m\u001b[1;33m\u001b[0m\u001b[0m\n",
      "\u001b[1;32md:\\pykas\\env_pykas\\lib\\site-packages\\distributed\\client.py\u001b[0m in \u001b[0;36mgather\u001b[1;34m(self, futures, errors, direct, asynchronous)\u001b[0m\n\u001b[0;32m   1982\u001b[0m             \u001b[1;32melse\u001b[0m\u001b[1;33m:\u001b[0m\u001b[1;33m\u001b[0m\u001b[1;33m\u001b[0m\u001b[0m\n\u001b[0;32m   1983\u001b[0m                 \u001b[0mlocal_worker\u001b[0m \u001b[1;33m=\u001b[0m \u001b[1;32mNone\u001b[0m\u001b[1;33m\u001b[0m\u001b[1;33m\u001b[0m\u001b[0m\n\u001b[1;32m-> 1984\u001b[1;33m             return self.sync(\n\u001b[0m\u001b[0;32m   1985\u001b[0m                 \u001b[0mself\u001b[0m\u001b[1;33m.\u001b[0m\u001b[0m_gather\u001b[0m\u001b[1;33m,\u001b[0m\u001b[1;33m\u001b[0m\u001b[1;33m\u001b[0m\u001b[0m\n\u001b[0;32m   1986\u001b[0m                 \u001b[0mfutures\u001b[0m\u001b[1;33m,\u001b[0m\u001b[1;33m\u001b[0m\u001b[1;33m\u001b[0m\u001b[0m\n",
      "\u001b[1;32md:\\pykas\\env_pykas\\lib\\site-packages\\distributed\\client.py\u001b[0m in \u001b[0;36msync\u001b[1;34m(self, func, asynchronous, callback_timeout, *args, **kwargs)\u001b[0m\n\u001b[0;32m    830\u001b[0m             \u001b[1;32mreturn\u001b[0m \u001b[0mfuture\u001b[0m\u001b[1;33m\u001b[0m\u001b[1;33m\u001b[0m\u001b[0m\n\u001b[0;32m    831\u001b[0m         \u001b[1;32melse\u001b[0m\u001b[1;33m:\u001b[0m\u001b[1;33m\u001b[0m\u001b[1;33m\u001b[0m\u001b[0m\n\u001b[1;32m--> 832\u001b[1;33m             return sync(\n\u001b[0m\u001b[0;32m    833\u001b[0m                 \u001b[0mself\u001b[0m\u001b[1;33m.\u001b[0m\u001b[0mloop\u001b[0m\u001b[1;33m,\u001b[0m \u001b[0mfunc\u001b[0m\u001b[1;33m,\u001b[0m \u001b[1;33m*\u001b[0m\u001b[0margs\u001b[0m\u001b[1;33m,\u001b[0m \u001b[0mcallback_timeout\u001b[0m\u001b[1;33m=\u001b[0m\u001b[0mcallback_timeout\u001b[0m\u001b[1;33m,\u001b[0m \u001b[1;33m**\u001b[0m\u001b[0mkwargs\u001b[0m\u001b[1;33m\u001b[0m\u001b[1;33m\u001b[0m\u001b[0m\n\u001b[0;32m    834\u001b[0m             )\n",
      "\u001b[1;32md:\\pykas\\env_pykas\\lib\\site-packages\\distributed\\utils.py\u001b[0m in \u001b[0;36msync\u001b[1;34m(loop, func, callback_timeout, *args, **kwargs)\u001b[0m\n\u001b[0;32m    337\u001b[0m     \u001b[1;32mif\u001b[0m \u001b[0merror\u001b[0m\u001b[1;33m[\u001b[0m\u001b[1;36m0\u001b[0m\u001b[1;33m]\u001b[0m\u001b[1;33m:\u001b[0m\u001b[1;33m\u001b[0m\u001b[1;33m\u001b[0m\u001b[0m\n\u001b[0;32m    338\u001b[0m         \u001b[0mtyp\u001b[0m\u001b[1;33m,\u001b[0m \u001b[0mexc\u001b[0m\u001b[1;33m,\u001b[0m \u001b[0mtb\u001b[0m \u001b[1;33m=\u001b[0m \u001b[0merror\u001b[0m\u001b[1;33m[\u001b[0m\u001b[1;36m0\u001b[0m\u001b[1;33m]\u001b[0m\u001b[1;33m\u001b[0m\u001b[1;33m\u001b[0m\u001b[0m\n\u001b[1;32m--> 339\u001b[1;33m         \u001b[1;32mraise\u001b[0m \u001b[0mexc\u001b[0m\u001b[1;33m.\u001b[0m\u001b[0mwith_traceback\u001b[0m\u001b[1;33m(\u001b[0m\u001b[0mtb\u001b[0m\u001b[1;33m)\u001b[0m\u001b[1;33m\u001b[0m\u001b[1;33m\u001b[0m\u001b[0m\n\u001b[0m\u001b[0;32m    340\u001b[0m     \u001b[1;32melse\u001b[0m\u001b[1;33m:\u001b[0m\u001b[1;33m\u001b[0m\u001b[1;33m\u001b[0m\u001b[0m\n\u001b[0;32m    341\u001b[0m         \u001b[1;32mreturn\u001b[0m \u001b[0mresult\u001b[0m\u001b[1;33m[\u001b[0m\u001b[1;36m0\u001b[0m\u001b[1;33m]\u001b[0m\u001b[1;33m\u001b[0m\u001b[1;33m\u001b[0m\u001b[0m\n",
      "\u001b[1;32md:\\pykas\\env_pykas\\lib\\site-packages\\distributed\\utils.py\u001b[0m in \u001b[0;36mf\u001b[1;34m()\u001b[0m\n\u001b[0;32m    321\u001b[0m             \u001b[1;32mif\u001b[0m \u001b[0mcallback_timeout\u001b[0m \u001b[1;32mis\u001b[0m \u001b[1;32mnot\u001b[0m \u001b[1;32mNone\u001b[0m\u001b[1;33m:\u001b[0m\u001b[1;33m\u001b[0m\u001b[1;33m\u001b[0m\u001b[0m\n\u001b[0;32m    322\u001b[0m                 \u001b[0mfuture\u001b[0m \u001b[1;33m=\u001b[0m \u001b[0masyncio\u001b[0m\u001b[1;33m.\u001b[0m\u001b[0mwait_for\u001b[0m\u001b[1;33m(\u001b[0m\u001b[0mfuture\u001b[0m\u001b[1;33m,\u001b[0m \u001b[0mcallback_timeout\u001b[0m\u001b[1;33m)\u001b[0m\u001b[1;33m\u001b[0m\u001b[1;33m\u001b[0m\u001b[0m\n\u001b[1;32m--> 323\u001b[1;33m             \u001b[0mresult\u001b[0m\u001b[1;33m[\u001b[0m\u001b[1;36m0\u001b[0m\u001b[1;33m]\u001b[0m \u001b[1;33m=\u001b[0m \u001b[1;32myield\u001b[0m \u001b[0mfuture\u001b[0m\u001b[1;33m\u001b[0m\u001b[1;33m\u001b[0m\u001b[0m\n\u001b[0m\u001b[0;32m    324\u001b[0m         \u001b[1;32mexcept\u001b[0m \u001b[0mException\u001b[0m \u001b[1;32mas\u001b[0m \u001b[0mexc\u001b[0m\u001b[1;33m:\u001b[0m\u001b[1;33m\u001b[0m\u001b[1;33m\u001b[0m\u001b[0m\n\u001b[0;32m    325\u001b[0m             \u001b[0merror\u001b[0m\u001b[1;33m[\u001b[0m\u001b[1;36m0\u001b[0m\u001b[1;33m]\u001b[0m \u001b[1;33m=\u001b[0m \u001b[0msys\u001b[0m\u001b[1;33m.\u001b[0m\u001b[0mexc_info\u001b[0m\u001b[1;33m(\u001b[0m\u001b[1;33m)\u001b[0m\u001b[1;33m\u001b[0m\u001b[1;33m\u001b[0m\u001b[0m\n",
      "\u001b[1;32md:\\pykas\\env_pykas\\lib\\site-packages\\tornado\\gen.py\u001b[0m in \u001b[0;36mrun\u001b[1;34m(self)\u001b[0m\n\u001b[0;32m    733\u001b[0m \u001b[1;33m\u001b[0m\u001b[0m\n\u001b[0;32m    734\u001b[0m                     \u001b[1;32mtry\u001b[0m\u001b[1;33m:\u001b[0m\u001b[1;33m\u001b[0m\u001b[1;33m\u001b[0m\u001b[0m\n\u001b[1;32m--> 735\u001b[1;33m                         \u001b[0mvalue\u001b[0m \u001b[1;33m=\u001b[0m \u001b[0mfuture\u001b[0m\u001b[1;33m.\u001b[0m\u001b[0mresult\u001b[0m\u001b[1;33m(\u001b[0m\u001b[1;33m)\u001b[0m\u001b[1;33m\u001b[0m\u001b[1;33m\u001b[0m\u001b[0m\n\u001b[0m\u001b[0;32m    736\u001b[0m                     \u001b[1;32mexcept\u001b[0m \u001b[0mException\u001b[0m\u001b[1;33m:\u001b[0m\u001b[1;33m\u001b[0m\u001b[1;33m\u001b[0m\u001b[0m\n\u001b[0;32m    737\u001b[0m                         \u001b[0mexc_info\u001b[0m \u001b[1;33m=\u001b[0m \u001b[0msys\u001b[0m\u001b[1;33m.\u001b[0m\u001b[0mexc_info\u001b[0m\u001b[1;33m(\u001b[0m\u001b[1;33m)\u001b[0m\u001b[1;33m\u001b[0m\u001b[1;33m\u001b[0m\u001b[0m\n",
      "\u001b[1;32md:\\pykas\\env_pykas\\lib\\site-packages\\distributed\\client.py\u001b[0m in \u001b[0;36m_gather\u001b[1;34m(self, futures, errors, direct, local_worker)\u001b[0m\n\u001b[0;32m   1847\u001b[0m                             \u001b[0mexc\u001b[0m \u001b[1;33m=\u001b[0m \u001b[0mCancelledError\u001b[0m\u001b[1;33m(\u001b[0m\u001b[0mkey\u001b[0m\u001b[1;33m)\u001b[0m\u001b[1;33m\u001b[0m\u001b[1;33m\u001b[0m\u001b[0m\n\u001b[0;32m   1848\u001b[0m                         \u001b[1;32melse\u001b[0m\u001b[1;33m:\u001b[0m\u001b[1;33m\u001b[0m\u001b[1;33m\u001b[0m\u001b[0m\n\u001b[1;32m-> 1849\u001b[1;33m                             \u001b[1;32mraise\u001b[0m \u001b[0mexception\u001b[0m\u001b[1;33m.\u001b[0m\u001b[0mwith_traceback\u001b[0m\u001b[1;33m(\u001b[0m\u001b[0mtraceback\u001b[0m\u001b[1;33m)\u001b[0m\u001b[1;33m\u001b[0m\u001b[1;33m\u001b[0m\u001b[0m\n\u001b[0m\u001b[0;32m   1850\u001b[0m                         \u001b[1;32mraise\u001b[0m \u001b[0mexc\u001b[0m\u001b[1;33m\u001b[0m\u001b[1;33m\u001b[0m\u001b[0m\n\u001b[0;32m   1851\u001b[0m                     \u001b[1;32mif\u001b[0m \u001b[0merrors\u001b[0m \u001b[1;33m==\u001b[0m \u001b[1;34m\"skip\"\u001b[0m\u001b[1;33m:\u001b[0m\u001b[1;33m\u001b[0m\u001b[1;33m\u001b[0m\u001b[0m\n",
      "\u001b[1;31mKilledWorker\u001b[0m: ('foo_tst-6db5e28378fc0b13f10a5c30f1c5f955', <Worker 'tcp://172.21.0.2:36641', name: tcp://172.21.0.2:36641, memory: 0, processing: 1>)"
     ]
    }
   ],
   "source": [
    "ress = cl.gather(futs)\n",
    "len(ress)"
   ]
  },
  {
   "cell_type": "code",
   "execution_count": 11,
   "metadata": {},
   "outputs": [
    {
     "output_type": "error",
     "ename": "NameError",
     "evalue": "name 'ress' is not defined",
     "traceback": [
      "\u001b[1;31m---------------------------------------------------------------------------\u001b[0m",
      "\u001b[1;31mNameError\u001b[0m                                 Traceback (most recent call last)",
      "\u001b[1;32m<ipython-input-11-0695a4be69ca>\u001b[0m in \u001b[0;36m<module>\u001b[1;34m\u001b[0m\n\u001b[1;32m----> 1\u001b[1;33m \u001b[0mress\u001b[0m\u001b[1;33m\u001b[0m\u001b[1;33m\u001b[0m\u001b[0m\n\u001b[0m",
      "\u001b[1;31mNameError\u001b[0m: name 'ress' is not defined"
     ]
    }
   ],
   "source": [
    "ress"
   ]
  },
  {
   "cell_type": "code",
   "execution_count": null,
   "metadata": {},
   "outputs": [],
   "source": []
  }
 ],
 "metadata": {
  "kernelspec": {
   "display_name": "env_pykas",
   "language": "python",
   "name": "env_pykas"
  },
  "language_info": {
   "codemirror_mode": {
    "name": "ipython",
    "version": 3
   },
   "file_extension": ".py",
   "mimetype": "text/x-python",
   "name": "python",
   "nbconvert_exporter": "python",
   "pygments_lexer": "ipython3",
   "version": "3.8.5-final"
  }
 },
 "nbformat": 4,
 "nbformat_minor": 4
}