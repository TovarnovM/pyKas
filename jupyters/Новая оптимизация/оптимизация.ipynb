{
 "cells": [
  {
   "cell_type": "code",
   "execution_count": 1,
   "metadata": {},
   "outputs": [],
   "source": [
    "import os\n",
    "wd = os.getcwd()\n",
    "wd = os.path.dirname(os.path.dirname(wd))\n",
    "import sys\n",
    "sys.path.append(wd+\"\\\\src\\\\\")"
   ]
  },
  {
   "cell_type": "code",
   "execution_count": 2,
   "metadata": {},
   "outputs": [],
   "source": [
    "from tube import InterpXY,Tube,BorderSimple\n",
    "from math import *\n",
    "import numpy as np\n",
    "from powderlayer import PowderBD, PowderOvLayer, Powder\n",
    "from gaslayer import GasEOS, GasLayer\n",
    "from pistonlayer import ElPistEOS, ElPistLayer\n",
    "import pprint as pp"
   ]
  },
  {
   "cell_type": "code",
   "execution_count": 3,
   "metadata": {},
   "outputs": [],
   "source": [
    "from tqdm import tqdm_notebook\n",
    "from matplotlib.patches import Polygon\n",
    "import matplotlib as mpl\n",
    "import matplotlib.pyplot as plt\n",
    "\n",
    "from ipywidgets import interact, interactive, fixed\n",
    "import ipywidgets\n",
    "mpl.rcParams['figure.figsize'] = (5,3) \n",
    "\n",
    "import json\n",
    "from functional import seq"
   ]
  },
  {
   "cell_type": "code",
   "execution_count": 4,
   "metadata": {},
   "outputs": [
    {
     "data": {
      "text/plain": [
       "dict_keys(['СФ 033', 'ВУ фл', 'ВТ', 'ВТМ', 'ВТХ-10', 'ВТХ-20', 'ВТД-25', '4\\\\1', '4\\\\1 фл', '4\\\\7', '4\\\\7 св', '4\\\\7 фл ВБП', '4\\\\7 ПТ-3 фл', '4\\\\7 Ц гр', '5\\\\1', '5\\\\1 х-10', '5\\\\1 х-20', '5\\\\1 д-20', '5\\\\1 д-25', '5\\\\7 св', '5\\\\7 н\\\\а', '5\\\\7 в\\\\а', '5\\\\7 Ц фл', '6\\\\7 гр', '6\\\\7 БП гр', '6\\\\7 фл В БП', '6\\\\7 П-5 БП фл', '6\\\\7 фл ', '7\\\\1', '7\\\\1 фл БП', '7\\\\7', '7\\\\14', '7\\\\1 УГ', '8\\\\1 тр', '8\\\\7', '8\\\\1 УГ', '9\\\\7', '9\\\\7 МН', '9\\\\7 БП', '11\\\\1 БП', '11\\\\7', '11\\\\1 УГ', '12\\\\1 Тр', '12\\\\1 тр БП', '12\\\\1 тр МН', '12\\\\7', '12\\\\7 В\\\\А', '12\\\\1 УГ', '14\\\\1 тр В\\\\А', '14\\\\7', '14\\\\7 В\\\\А', '14\\\\7 БП', '15\\\\1 тр В\\\\А', '15\\\\7', '16\\\\1 тр', '16\\\\1 тр В\\\\А', '17\\\\7', '18\\\\1 тр', '18\\\\1 тр БП', '22\\\\1 тр', '22\\\\7', '23\\\\7', '28\\\\1 тр', '37\\\\1 тр', 'НДТ-3 16\\\\1', 'НДТ-3 18\\\\1', 'НДТ-3 19\\\\1', 'НДТ-3 23\\\\1', 'НДТ-3 32\\\\1', 'НДТ-3 152\\\\57', 'ДГ-2 15\\\\1', 'ДГ-2 17\\\\1', 'ДГ-3 13\\\\1', 'ДГ-3 14\\\\1', 'ДГ-3 17\\\\1', 'ДГ-3 18\\\\1', 'ДГ-3 20\\\\1', 'ДГ-3 23\\\\1', 'ДГ-4 13\\\\1', '100\\\\56', '100\\\\70', '130\\\\50', '130\\\\58 БП', '152\\\\57', '152\\\\57 Ш', '152\\\\57 БП', '180\\\\57', '180\\\\57 БП', '180\\\\57 Ш3 БП', '180\\\\60', 'НДТ-2 16\\\\1', 'НДТ-2 19\\\\1', 'НДТ-2 25\\\\1', 'НДТ-2 130\\\\50', 'НДТ-2 152\\\\57', 'ДГ-4 14\\\\1', 'ДГ-4 15\\\\1', 'НДГ-5', 'НДГ-6', 'НБ', ' АПЦ-235 П 16\\\\1', 'БНГ-1355 25\\\\1', 'МАП-1 23\\\\1', 'УГ-1', 'УГ-2', 'УГФ-1', 'Cr', 'ДРП', 'КЗДП', 'Флегматизатор', 'Свинцовая проволка', 'K2SO4', 'АФ-30'])"
      ]
     },
     "execution_count": 4,
     "metadata": {},
     "output_type": "execute_result"
    }
   ],
   "source": [
    "with open(wd+\"\\\\src\\\\\" + 'gpowders.json') as f:\n",
    "    all_powders = json.load(f)\n",
    "all_powders.keys()"
   ]
  },
  {
   "cell_type": "code",
   "execution_count": 5,
   "metadata": {},
   "outputs": [],
   "source": [
    "tps = sorted([(I_k, k) for k, d in all_powders.items() if isinstance(I_k:=d['I_k'], float) and I_k > 0.1])\n",
    "good_marks = [name for I_k, name in tps]\n",
    "I_ks = [I_k for I_k, name in tps]"
   ]
  },
  {
   "cell_type": "code",
   "execution_count": 6,
   "metadata": {},
   "outputs": [
    {
     "data": {
      "text/plain": [
       "[(0.15, 'ВУ фл'),\n",
       " (0.17, 'СФ 033'),\n",
       " (0.22, 'ВТ'),\n",
       " (0.23, 'ВТМ'),\n",
       " (0.25, '5\\\\1'),\n",
       " (0.27, 'ВТХ-10'),\n",
       " (0.28, '4\\\\7 ПТ-3 фл'),\n",
       " (0.3, '4\\\\1'),\n",
       " (0.3, '4\\\\7 Ц гр'),\n",
       " (0.32, '4\\\\7'),\n",
       " (0.32, '5\\\\7 н\\\\а'),\n",
       " (0.33, '4\\\\7 св'),\n",
       " (0.35, '5\\\\7 Ц фл'),\n",
       " (0.35, '5\\\\7 св'),\n",
       " (0.37, '5\\\\7 в\\\\а'),\n",
       " (0.38, '4\\\\7 фл ВБП'),\n",
       " (0.39, 'ВТХ-20'),\n",
       " (0.4, '4\\\\1 фл'),\n",
       " (0.4, '7\\\\14'),\n",
       " (0.43, '6\\\\7 фл '),\n",
       " (0.43, '6\\\\7 фл В БП'),\n",
       " (0.45, 'ВТД-25'),\n",
       " (0.48, '6\\\\7 П-5 БП фл'),\n",
       " (0.5, '5\\\\1 х-10'),\n",
       " (0.5, '6\\\\7 гр'),\n",
       " (0.5, '7\\\\1'),\n",
       " (0.5, '7\\\\7'),\n",
       " (0.5, '8\\\\7'),\n",
       " (0.51, '7\\\\1 фл БП'),\n",
       " (0.56, '6\\\\7 БП гр'),\n",
       " (0.6, '9\\\\7'),\n",
       " (0.68, '11\\\\7'),\n",
       " (0.68, '5\\\\1 д-20'),\n",
       " (0.7, '5\\\\1 х-20'),\n",
       " (0.7, '8\\\\1 тр'),\n",
       " (0.72, '12\\\\7 В\\\\А'),\n",
       " (0.76, '9\\\\7 МН'),\n",
       " (0.81, '12\\\\7'),\n",
       " (0.82, '5\\\\1 д-25'),\n",
       " (0.83, '14\\\\7 В\\\\А'),\n",
       " (0.84, '14\\\\1 тр В\\\\А'),\n",
       " (0.87, '12\\\\1 Тр'),\n",
       " (0.88, '12\\\\1 тр МН'),\n",
       " (0.9, '7\\\\1 УГ'),\n",
       " (0.9, 'ДГ-4 13\\\\1'),\n",
       " (0.91, '15\\\\1 тр В\\\\А'),\n",
       " (0.93, '15\\\\7'),\n",
       " (0.94, '9\\\\7 БП'),\n",
       " (0.96, '14\\\\7'),\n",
       " (1.0, '8\\\\1 УГ'),\n",
       " (1.04, '16\\\\1 тр В\\\\А'),\n",
       " (1.05, 'ДГ-4 14\\\\1'),\n",
       " (1.075, 'ДГ-3 13\\\\1'),\n",
       " (1.09, '11\\\\1 БП'),\n",
       " (1.09, '12\\\\1 тр БП'),\n",
       " (1.1, '18\\\\1 тр'),\n",
       " (1.12, 'ДГ-4 15\\\\1'),\n",
       " (1.13, '16\\\\1 тр'),\n",
       " (1.14, ' АПЦ-235 П 16\\\\1'),\n",
       " (1.15, 'ДГ-3 14\\\\1'),\n",
       " (1.16, '100\\\\70'),\n",
       " (1.16, '17\\\\7'),\n",
       " (1.18, 'МАП-1 23\\\\1'),\n",
       " (1.26, 'БНГ-1355 25\\\\1'),\n",
       " (1.29, 'НДТ-3 16\\\\1'),\n",
       " (1.32, '28\\\\1 тр'),\n",
       " (1.33, '22\\\\1 тр'),\n",
       " (1.34, 'ДГ-2 15\\\\1'),\n",
       " (1.34, 'УГФ-1'),\n",
       " (1.35, 'УГ-1'),\n",
       " (1.38, '14\\\\7 БП'),\n",
       " (1.39, 'ДГ-3 17\\\\1'),\n",
       " (1.4, '180\\\\57 Ш3 БП'),\n",
       " (1.42, 'НДТ-2 16\\\\1'),\n",
       " (1.43, '11\\\\1 УГ'),\n",
       " (1.46, 'НДТ-3 18\\\\1'),\n",
       " (1.48, 'ДГ-3 18\\\\1'),\n",
       " (1.5, '12\\\\1 УГ'),\n",
       " (1.52, 'ДГ-2 17\\\\1'),\n",
       " (1.521, '100\\\\56'),\n",
       " (1.53, '18\\\\1 тр БП'),\n",
       " (1.53, '22\\\\7'),\n",
       " (1.54, 'НДТ-3 19\\\\1'),\n",
       " (1.64, 'ДГ-3 20\\\\1'),\n",
       " (1.67, '23\\\\7'),\n",
       " (1.69, 'НДТ-2 19\\\\1'),\n",
       " (1.73, '180\\\\57'),\n",
       " (1.82, '152\\\\57 БП'),\n",
       " (1.83, '152\\\\57 Ш'),\n",
       " (1.84, '130\\\\50'),\n",
       " (1.86, 'НДТ-3 23\\\\1'),\n",
       " (1.89, 'ДГ-3 23\\\\1'),\n",
       " (1.9, 'НДТ-2 130\\\\50'),\n",
       " (1.9, 'НДТ-2 152\\\\57'),\n",
       " (2.2, 'НДТ-2 25\\\\1'),\n",
       " (2.33, '130\\\\58 БП'),\n",
       " (2.44, 'НДТ-3 152\\\\57'),\n",
       " (2.47, '152\\\\57'),\n",
       " (2.48, '37\\\\1 тр'),\n",
       " (2.5, '180\\\\57 БП'),\n",
       " (2.59, 'НДТ-3 32\\\\1'),\n",
       " (2.7, '180\\\\60'),\n",
       " (2.71, 'УГ-2')]"
      ]
     },
     "execution_count": 6,
     "metadata": {},
     "output_type": "execute_result"
    }
   ],
   "source": [
    "tps"
   ]
  },
  {
   "cell_type": "code",
   "execution_count": 7,
   "metadata": {},
   "outputs": [],
   "source": [
    "from opti.Chromosome import DRange, SRange,ChromoController\n",
    "from zone import Zone"
   ]
  },
  {
   "cell_type": "code",
   "execution_count": 8,
   "metadata": {},
   "outputs": [],
   "source": [
    "L1 = DRange(2,6,'L1')\n",
    "L2 = DRange(1,4,'L2')\n",
    "Lcone = DRange(0.3,2.5,'Lcone')\n",
    "\n",
    "\n",
    "d2 = DRange(0.085,0.125, 'd2') \n",
    "chr_contr = ChromoController([L1, L2, Lcone, d2],)\n"
   ]
  },
  {
   "cell_type": "code",
   "execution_count": 9,
   "metadata": {},
   "outputs": [
    {
     "data": {
      "text/plain": [
       "{'L1': 5.3221650452268925,\n",
       " 'L2': 1.372529120594666,\n",
       " 'Lcone': 2.3876247550094125,\n",
       " 'd2': 0.11922210267809327}"
      ]
     },
     "execution_count": 9,
     "metadata": {},
     "output_type": "execute_result"
    }
   ],
   "source": [
    "chr_contr.get_chromo()"
   ]
  },
  {
   "cell_type": "code",
   "execution_count": 10,
   "metadata": {},
   "outputs": [],
   "source": [
    "d = {\n",
    "    'id': 'some_id',\n",
    "    'tube_points': [[0.0, 0.125], [5.0, 0.125]],\n",
    "    'layers': [\n",
    "        {\n",
    "            'type': 'gas',\n",
    "            'x_1': 0,\n",
    "            \n",
    "        }\n",
    "    ],\n",
    "    'borders': []\n",
    "    \n",
    "}"
   ]
  },
  {
   "cell_type": "code",
   "execution_count": 11,
   "metadata": {
    "tags": []
   },
   "outputs": [
    {
     "name": "stdout",
     "output_type": "stream",
     "text": [
      "Tube(xs=[0.0, 5.0], ds=[0.125, 0.125])\n"
     ]
    },
    {
     "data": {
      "text/plain": [
       "{'id': 'some_id'}"
      ]
     },
     "execution_count": 11,
     "metadata": {},
     "output_type": "execute_result"
    }
   ],
   "source": [
    "def forward_foo(d):\n",
    "    t = Tube.get_standart({'tube_points': d['tube_points']})\n",
    "    print(t)\n",
    "    \n",
    "    return {'id': d['id']}\n",
    "forward_foo(d)"
   ]
  },
  {
   "cell_type": "code",
   "execution_count": 18,
   "metadata": {},
   "outputs": [],
   "source": [
    "def foo_tst(sandwich_dict_sample):\n",
    "    from tube import InterpXY,Tube,BorderSimple\n",
    "    import numpy as np\n",
    "    from gaslayer import GasEOS, GasLayer\n",
    "    from powderlayer import PowderOvLayer\n",
    "    from pistonlayer import ElPistLayer\n",
    "    \n",
    "    class Sandwich(object):\n",
    "        @classmethod\n",
    "        def get_standart(cls, sandwich_dict):\n",
    "            tube = Tube.get_standart(sandwich_dict['tube'])\n",
    "            res = cls(tube)\n",
    "            x_left = sandwich_dict.get('x_left', 0)\n",
    "            b = BorderSimple.get_standart(sandwich_dict['borders'][0])\n",
    "            res.borders.append(b)\n",
    "            for lr_dict, b_right_dict in zip(sandwich_dict['layers'], sandwich_dict['borders'][1:]):\n",
    "                if lr_dict['type'] == 'gas':\n",
    "                    lr = GasLayer.get_standart(tube, x_left, lr_dict, sandwich_dict['calc_settings']['gas_settings'])\n",
    "                elif lr_dict['type'] == 'powder':\n",
    "                    lr = PowderOvLayer.get_standart(tube, x_left, lr_dict, sandwich_dict['calc_settings']['powder_settings'])\n",
    "                elif lr_dict['type'] == 'pist':\n",
    "                    lr = ElPistLayer.get_standart(tube, x_left, lr_dict, sandwich_dict['calc_settings']['pist_settings'])\n",
    "                else:\n",
    "                    t = lr_dict[\"type\"]\n",
    "                    raise AttributeError(f'Неправильный тип области {t}')\n",
    "                b = BorderSimple.get_standart(b_right_dict)\n",
    "                res.layers.append(lr)\n",
    "                res.borders.append(b)\n",
    "                x_left = lr.xs_borders[-1] + b.w_border\n",
    "            res.connect_borders_layers()\n",
    "            return res\n",
    "\n",
    "        def __init__(self, tube: Tube, i=0):\n",
    "            self.tube = tube\n",
    "            self.i = i\n",
    "            self.layers = []\n",
    "            self.borders= []\n",
    "\n",
    "        def connect_borders_layers(self):\n",
    "            if len(self.layers)+1 != len(self.borders):\n",
    "                raise AttributeError(f'Неправильное количество границ и слоев len(self.layers)={len(self.layers)}  len(self.borders)={len(self.borders)}')\n",
    "            all_layers = [None] + self.layers + [None]\n",
    "            for b, lr_left, lr_right in zip(self.borders, all_layers[:-1], all_layers[1:]):\n",
    "                b.lr_left = lr_left\n",
    "                b.lr_right = lr_right\n",
    "\n",
    "        def simple_step(self, courant):\n",
    "            tau = min([lr.get_tau_min() for lr in self.layers]) * courant\n",
    "            for b in self.borders:\n",
    "                b.update_xs()\n",
    "            for b in self.borders:\n",
    "                b.update_Vs(tau)\n",
    "            result = Sandwich(self.tube, self.i+1)\n",
    "            result.layers = [lr.step_up(tau) for lr in self.layers]\n",
    "            result.borders= [b.copy() for b in self.borders]\n",
    "            result.connect_borders_layers()\n",
    "            return result\n",
    "\n",
    "        def plot(self, fig, ax, **kwargs):\n",
    "            self.tube.plot(fig, ax, **kwargs)\n",
    "            for lr in self.layers:\n",
    "                lr.plot(fig, ax, **kwargs)\n",
    "            for b in self.borders:\n",
    "                b.plot(fig, ax, **kwargs)\n",
    "\n",
    "        def plot_param(self, fig, ax, param_name, **kwargs):\n",
    "            for lr in self.layers:\n",
    "                xs = np.array(lr.xs_cells)\n",
    "                ys = np.array(getattr(lr, param_name))\n",
    "                color = lr.color_4_plot\n",
    "                lw = kwargs.get('lw', 2)\n",
    "                ax.plot(xs, ys, color=color, lw=lw)\n",
    "\n",
    "        def get_t(self):\n",
    "            ts = [lr.time for lr in self.layers]\n",
    "            if abs(min(ts) - max(ts)) > 1e-14:\n",
    "                print(f'Слои не синхронизированны {ts}')\n",
    "            return ts[0]\n",
    "\n",
    "        def get_vel(self):\n",
    "            return self.layers[-1].Vs_borders[-1]\n",
    "\n",
    "        def get_x_projectile(self):\n",
    "            return self.layers[-1].xs_borders[-1]\n",
    "\n",
    "\n",
    "        def get_p_max(self):\n",
    "            return max([np.max(lr.ps) for lr in self.layers])\n",
    "\n",
    "        def __str__(self):\n",
    "            res = f'Sandwich i={self.i}; t={self.get_t()*1000} ms;  vel={self.get_vel()} m/s;  p_max={self.get_p_max()*1e-6} MPa\\nlayers:\\n'\n",
    "            for i, lr in enumerate(self.layers):\n",
    "                res += f'{i}) {lr}\\n'\n",
    "            return res\n",
    "\n",
    "        def __repr__(self):\n",
    "            return str(self)\n",
    "    try:\n",
    "        sandw = Sandwich.get_standart(sandwich_dict_sample)\n",
    "        for i in range(1500):\n",
    "            if sandw.get_x_projectile() > sandw.tube.get_x_right():\n",
    "                break\n",
    "            v = sandw.layers[-1].Vs_borders[-1]\n",
    "            sandw = sandw.simple_step(np.random.uniform(0.2,0.49))\n",
    "\n",
    "        return sandw.layers[-1].time\n",
    "    except Exception as e:\n",
    "        return str(e)\n"
   ]
  },
  {
   "cell_type": "code",
   "execution_count": 19,
   "metadata": {},
   "outputs": [
    {
     "data": {
      "text/plain": [
       "0.0005618510905503651"
      ]
     },
     "execution_count": 19,
     "metadata": {},
     "output_type": "execute_result"
    }
   ],
   "source": [
    "sandwich_dict_sample = {\n",
    "    'tube': {\n",
    "#         'tube_points': [[-1.3, 0.8], [-0.32, 0.8], [-0.28, 0.265],[6.5, 0.265]]\n",
    "        'tube_points': [[-9.413427684822523, 0.125],[6.2, 0.125]]\n",
    "    },\n",
    "    'x_left': -9.413427684822523,\n",
    "    'layers': [\n",
    "         {\n",
    "            'type': 'gas',\n",
    "            'name': 'N_2',\n",
    "            'gamma': 1.4,\n",
    "            'kappa': 0, #0.0010838,\n",
    "            'R': 297,\n",
    "            'T_0': 283, # K\n",
    "            'W_0': 0.00003,  # м^3 объем газа\n",
    "            'p_0': 10e6, # начальное давление газа\n",
    "            'u_0': 0,     #начальная скорость\n",
    "            'x_2': 0\n",
    "        }, {\n",
    "            'type': 'pist',\n",
    "            'omega': 3.03,  # кг\n",
    "            'p_0': 5e6, # начальное давление в полиэтилене\n",
    "            'u_0': 0,     #начальная скорость\n",
    "            'ElPistEOS_kwargs': dict(\n",
    "                k=1.63098, \n",
    "                c_0=2308, \n",
    "                ro_0=919.03, \n",
    "                sigma_star=25.2, \n",
    "                k_0=0.054, \n",
    "                b_1=0.027, \n",
    "                b_2=0.00675, \n",
    "                tau_0=1.36, \n",
    "                mu=0.001, \n",
    "                tau_s=1,                 \n",
    "                zeroP=False, \n",
    "                zeroE=True)\n",
    "        },\n",
    "        {\n",
    "            'type': 'powder',\n",
    "            'powder': {\n",
    "                'name': '4\\\\7',\n",
    "                'f': 1.027,\n",
    "                'etta': 0.228,\n",
    "                'alpha_k': 1.008,\n",
    "                'T_1': 3006.0,\n",
    "                'ro': 1.6,\n",
    "                'I_k': 0.32,\n",
    "                'Z_k': 1.488,\n",
    "                'k_1': 0.811,\n",
    "                'lambda_1': 0.081,\n",
    "                'k_2': 0.505,\n",
    "                'lambda_2': -1.024,\n",
    "                'k_f': 0.0003,\n",
    "                'k_l': 0.0016\n",
    "            },\n",
    "            'omega': 10035,  # грамм\n",
    "            'delta': 700, # г/cm^3\n",
    "            'p_0': 5e6, # начальное давление\n",
    "            't_ign': 0.002, # начало горения\n",
    "            'u_0': 0,     #начальная скорость\n",
    "        }\n",
    "        \n",
    "    ],\n",
    "    'borders': [\n",
    "        {\n",
    "            'mass': 1000, # kg\n",
    "            'p_f': 100000e6, #Pa\n",
    "            't_init': -1,\n",
    "            'w_border': 0.05, #m\n",
    "        },\n",
    "        {\n",
    "            'mass': 0.1, # kg\n",
    "            'p_f': 1, #Pa\n",
    "            't_init': -1,\n",
    "            'w_border': 0, #m\n",
    "#             'p_a_right': 1e5\n",
    "        },\n",
    "        {\n",
    "            'mass': 0.9, # kg\n",
    "            'p_f': 1, #Pa\n",
    "            't_init': -1,\n",
    "            'w_border': 0, #m\n",
    "#             'p_a_right': 1e5\n",
    "        },\n",
    "        {\n",
    "            'mass': 5.3, # kg\n",
    "            'p_f': 30e6, #Pa\n",
    "            't_init': -1,\n",
    "            'w_border': 0, #m\n",
    "#             'p_a_right': 1e5\n",
    "        },\n",
    "    ],\n",
    "    'calc_settings': {\n",
    "        'powder_settings': {\n",
    "            'cell_dx': 0.0025,\n",
    "            'n_cells_min': 13,\n",
    "            'n_cells_max': 2000,\n",
    "            'GasFluxCalculator_kwargs': {'flux_type':2},\n",
    "            'GridStrecher_kwargs': {}\n",
    "        },\n",
    "        'gas_settings': {\n",
    "            'cell_dx': 0.0025,\n",
    "            'n_cells_min': 13,\n",
    "            'n_cells_max': 2000,\n",
    "            'GasFluxCalculator_kwargs': {'flux_type':2},\n",
    "            'GridStrecher_kwargs': {}\n",
    "        },\n",
    "        'pist_settings': {\n",
    "            'cell_dx': 0.0025,\n",
    "            'n_cells_min': 13,\n",
    "            'n_cells_max': 2000,\n",
    "            'GasFluxCalculator_kwargs': {'flux_type':2},\n",
    "            'GridStrecher_kwargs': {}\n",
    "        }\n",
    "    }\n",
    "}\n",
    "\n",
    "\n",
    "foo_tst(sandwich_dict_sample)"
   ]
  },
  {
   "cell_type": "code",
   "execution_count": 38,
   "metadata": {},
   "outputs": [
    {
     "data": {
      "text/html": [
       "<table style=\"border: 2px solid white;\">\n",
       "<tr>\n",
       "<td style=\"vertical-align: top; border: 0px solid white\">\n",
       "<h3 style=\"text-align: left;\">Client</h3>\n",
       "<ul style=\"text-align: left; list-style: none; margin: 0; padding: 0;\">\n",
       "  <li><b>Scheduler: </b>tcp://172.16.49.81:8786</li>\n",
       "  <li><b>Dashboard: </b><a href='http://172.16.49.81:8787/status' target='_blank'>http://172.16.49.81:8787/status</a></li>\n",
       "</ul>\n",
       "</td>\n",
       "<td style=\"vertical-align: top; border: 0px solid white\">\n",
       "<h3 style=\"text-align: left;\">Cluster</h3>\n",
       "<ul style=\"text-align: left; list-style:none; margin: 0; padding: 0;\">\n",
       "  <li><b>Workers: </b>111</li>\n",
       "  <li><b>Cores: </b>122</li>\n",
       "  <li><b>Memory: </b>196.54 GB</li>\n",
       "</ul>\n",
       "</td>\n",
       "</tr>\n",
       "</table>"
      ],
      "text/plain": [
       "<Client: 'tcp://172.17.0.2:8786' processes=111 threads=122, memory=196.54 GB>"
      ]
     },
     "execution_count": 38,
     "metadata": {},
     "output_type": "execute_result"
    }
   ],
   "source": [
    "from distributed import Client\n",
    "\n",
    "cl = Client('172.16.49.81:8786')\n",
    "cl"
   ]
  },
  {
   "cell_type": "code",
   "execution_count": 24,
   "metadata": {},
   "outputs": [],
   "source": [
    "from copy import deepcopy\n",
    "\n",
    "dicts = []\n",
    "for i in range(200):\n",
    "    r = deepcopy(sandwich_dict_sample)\n",
    "    r['i'] = i\n",
    "    dicts.append(r)\n",
    "\n",
    "futs = cl.map(foo_tst, dicts)"
   ]
  },
  {
   "cell_type": "code",
   "execution_count": 27,
   "metadata": {
    "tags": []
   },
   "outputs": [
    {
     "ename": "KilledWorker",
     "evalue": "('foo_tst-6f9ec743a9aa53fcc399e7c1b8a1472d', <Worker 'tcp://192.168.65.3:35239', name: tcp://192.168.65.3:35239, memory: 0, processing: 6>)",
     "output_type": "error",
     "traceback": [
      "\u001b[1;31m---------------------------------------------------------------------------\u001b[0m",
      "\u001b[1;31mKilledWorker\u001b[0m                              Traceback (most recent call last)",
      "\u001b[1;32m<ipython-input-27-58e9ccc03c91>\u001b[0m in \u001b[0;36m<module>\u001b[1;34m\u001b[0m\n\u001b[1;32m----> 1\u001b[1;33m \u001b[0mress\u001b[0m \u001b[1;33m=\u001b[0m \u001b[0mcl\u001b[0m\u001b[1;33m.\u001b[0m\u001b[0mgather\u001b[0m\u001b[1;33m(\u001b[0m\u001b[0mfuts\u001b[0m\u001b[1;33m)\u001b[0m\u001b[1;33m\u001b[0m\u001b[1;33m\u001b[0m\u001b[0m\n\u001b[0m\u001b[0;32m      2\u001b[0m \u001b[0mlen\u001b[0m\u001b[1;33m(\u001b[0m\u001b[0mress\u001b[0m\u001b[1;33m)\u001b[0m\u001b[1;33m\u001b[0m\u001b[1;33m\u001b[0m\u001b[0m\n",
      "\u001b[1;32md:\\pykas\\env_pykas\\lib\\site-packages\\distributed\\client.py\u001b[0m in \u001b[0;36mgather\u001b[1;34m(self, futures, errors, direct, asynchronous)\u001b[0m\n\u001b[0;32m   1982\u001b[0m             \u001b[1;32melse\u001b[0m\u001b[1;33m:\u001b[0m\u001b[1;33m\u001b[0m\u001b[1;33m\u001b[0m\u001b[0m\n\u001b[0;32m   1983\u001b[0m                 \u001b[0mlocal_worker\u001b[0m \u001b[1;33m=\u001b[0m \u001b[1;32mNone\u001b[0m\u001b[1;33m\u001b[0m\u001b[1;33m\u001b[0m\u001b[0m\n\u001b[1;32m-> 1984\u001b[1;33m             return self.sync(\n\u001b[0m\u001b[0;32m   1985\u001b[0m                 \u001b[0mself\u001b[0m\u001b[1;33m.\u001b[0m\u001b[0m_gather\u001b[0m\u001b[1;33m,\u001b[0m\u001b[1;33m\u001b[0m\u001b[1;33m\u001b[0m\u001b[0m\n\u001b[0;32m   1986\u001b[0m                 \u001b[0mfutures\u001b[0m\u001b[1;33m,\u001b[0m\u001b[1;33m\u001b[0m\u001b[1;33m\u001b[0m\u001b[0m\n",
      "\u001b[1;32md:\\pykas\\env_pykas\\lib\\site-packages\\distributed\\client.py\u001b[0m in \u001b[0;36msync\u001b[1;34m(self, func, asynchronous, callback_timeout, *args, **kwargs)\u001b[0m\n\u001b[0;32m    830\u001b[0m             \u001b[1;32mreturn\u001b[0m \u001b[0mfuture\u001b[0m\u001b[1;33m\u001b[0m\u001b[1;33m\u001b[0m\u001b[0m\n\u001b[0;32m    831\u001b[0m         \u001b[1;32melse\u001b[0m\u001b[1;33m:\u001b[0m\u001b[1;33m\u001b[0m\u001b[1;33m\u001b[0m\u001b[0m\n\u001b[1;32m--> 832\u001b[1;33m             return sync(\n\u001b[0m\u001b[0;32m    833\u001b[0m                 \u001b[0mself\u001b[0m\u001b[1;33m.\u001b[0m\u001b[0mloop\u001b[0m\u001b[1;33m,\u001b[0m \u001b[0mfunc\u001b[0m\u001b[1;33m,\u001b[0m \u001b[1;33m*\u001b[0m\u001b[0margs\u001b[0m\u001b[1;33m,\u001b[0m \u001b[0mcallback_timeout\u001b[0m\u001b[1;33m=\u001b[0m\u001b[0mcallback_timeout\u001b[0m\u001b[1;33m,\u001b[0m \u001b[1;33m**\u001b[0m\u001b[0mkwargs\u001b[0m\u001b[1;33m\u001b[0m\u001b[1;33m\u001b[0m\u001b[0m\n\u001b[0;32m    834\u001b[0m             )\n",
      "\u001b[1;32md:\\pykas\\env_pykas\\lib\\site-packages\\distributed\\utils.py\u001b[0m in \u001b[0;36msync\u001b[1;34m(loop, func, callback_timeout, *args, **kwargs)\u001b[0m\n\u001b[0;32m    337\u001b[0m     \u001b[1;32mif\u001b[0m \u001b[0merror\u001b[0m\u001b[1;33m[\u001b[0m\u001b[1;36m0\u001b[0m\u001b[1;33m]\u001b[0m\u001b[1;33m:\u001b[0m\u001b[1;33m\u001b[0m\u001b[1;33m\u001b[0m\u001b[0m\n\u001b[0;32m    338\u001b[0m         \u001b[0mtyp\u001b[0m\u001b[1;33m,\u001b[0m \u001b[0mexc\u001b[0m\u001b[1;33m,\u001b[0m \u001b[0mtb\u001b[0m \u001b[1;33m=\u001b[0m \u001b[0merror\u001b[0m\u001b[1;33m[\u001b[0m\u001b[1;36m0\u001b[0m\u001b[1;33m]\u001b[0m\u001b[1;33m\u001b[0m\u001b[1;33m\u001b[0m\u001b[0m\n\u001b[1;32m--> 339\u001b[1;33m         \u001b[1;32mraise\u001b[0m \u001b[0mexc\u001b[0m\u001b[1;33m.\u001b[0m\u001b[0mwith_traceback\u001b[0m\u001b[1;33m(\u001b[0m\u001b[0mtb\u001b[0m\u001b[1;33m)\u001b[0m\u001b[1;33m\u001b[0m\u001b[1;33m\u001b[0m\u001b[0m\n\u001b[0m\u001b[0;32m    340\u001b[0m     \u001b[1;32melse\u001b[0m\u001b[1;33m:\u001b[0m\u001b[1;33m\u001b[0m\u001b[1;33m\u001b[0m\u001b[0m\n\u001b[0;32m    341\u001b[0m         \u001b[1;32mreturn\u001b[0m \u001b[0mresult\u001b[0m\u001b[1;33m[\u001b[0m\u001b[1;36m0\u001b[0m\u001b[1;33m]\u001b[0m\u001b[1;33m\u001b[0m\u001b[1;33m\u001b[0m\u001b[0m\n",
      "\u001b[1;32md:\\pykas\\env_pykas\\lib\\site-packages\\distributed\\utils.py\u001b[0m in \u001b[0;36mf\u001b[1;34m()\u001b[0m\n\u001b[0;32m    321\u001b[0m             \u001b[1;32mif\u001b[0m \u001b[0mcallback_timeout\u001b[0m \u001b[1;32mis\u001b[0m \u001b[1;32mnot\u001b[0m \u001b[1;32mNone\u001b[0m\u001b[1;33m:\u001b[0m\u001b[1;33m\u001b[0m\u001b[1;33m\u001b[0m\u001b[0m\n\u001b[0;32m    322\u001b[0m                 \u001b[0mfuture\u001b[0m \u001b[1;33m=\u001b[0m \u001b[0masyncio\u001b[0m\u001b[1;33m.\u001b[0m\u001b[0mwait_for\u001b[0m\u001b[1;33m(\u001b[0m\u001b[0mfuture\u001b[0m\u001b[1;33m,\u001b[0m \u001b[0mcallback_timeout\u001b[0m\u001b[1;33m)\u001b[0m\u001b[1;33m\u001b[0m\u001b[1;33m\u001b[0m\u001b[0m\n\u001b[1;32m--> 323\u001b[1;33m             \u001b[0mresult\u001b[0m\u001b[1;33m[\u001b[0m\u001b[1;36m0\u001b[0m\u001b[1;33m]\u001b[0m \u001b[1;33m=\u001b[0m \u001b[1;32myield\u001b[0m \u001b[0mfuture\u001b[0m\u001b[1;33m\u001b[0m\u001b[1;33m\u001b[0m\u001b[0m\n\u001b[0m\u001b[0;32m    324\u001b[0m         \u001b[1;32mexcept\u001b[0m \u001b[0mException\u001b[0m \u001b[1;32mas\u001b[0m \u001b[0mexc\u001b[0m\u001b[1;33m:\u001b[0m\u001b[1;33m\u001b[0m\u001b[1;33m\u001b[0m\u001b[0m\n\u001b[0;32m    325\u001b[0m             \u001b[0merror\u001b[0m\u001b[1;33m[\u001b[0m\u001b[1;36m0\u001b[0m\u001b[1;33m]\u001b[0m \u001b[1;33m=\u001b[0m \u001b[0msys\u001b[0m\u001b[1;33m.\u001b[0m\u001b[0mexc_info\u001b[0m\u001b[1;33m(\u001b[0m\u001b[1;33m)\u001b[0m\u001b[1;33m\u001b[0m\u001b[1;33m\u001b[0m\u001b[0m\n",
      "\u001b[1;32md:\\pykas\\env_pykas\\lib\\site-packages\\tornado\\gen.py\u001b[0m in \u001b[0;36mrun\u001b[1;34m(self)\u001b[0m\n\u001b[0;32m    733\u001b[0m \u001b[1;33m\u001b[0m\u001b[0m\n\u001b[0;32m    734\u001b[0m                     \u001b[1;32mtry\u001b[0m\u001b[1;33m:\u001b[0m\u001b[1;33m\u001b[0m\u001b[1;33m\u001b[0m\u001b[0m\n\u001b[1;32m--> 735\u001b[1;33m                         \u001b[0mvalue\u001b[0m \u001b[1;33m=\u001b[0m \u001b[0mfuture\u001b[0m\u001b[1;33m.\u001b[0m\u001b[0mresult\u001b[0m\u001b[1;33m(\u001b[0m\u001b[1;33m)\u001b[0m\u001b[1;33m\u001b[0m\u001b[1;33m\u001b[0m\u001b[0m\n\u001b[0m\u001b[0;32m    736\u001b[0m                     \u001b[1;32mexcept\u001b[0m \u001b[0mException\u001b[0m\u001b[1;33m:\u001b[0m\u001b[1;33m\u001b[0m\u001b[1;33m\u001b[0m\u001b[0m\n\u001b[0;32m    737\u001b[0m                         \u001b[0mexc_info\u001b[0m \u001b[1;33m=\u001b[0m \u001b[0msys\u001b[0m\u001b[1;33m.\u001b[0m\u001b[0mexc_info\u001b[0m\u001b[1;33m(\u001b[0m\u001b[1;33m)\u001b[0m\u001b[1;33m\u001b[0m\u001b[1;33m\u001b[0m\u001b[0m\n",
      "\u001b[1;32md:\\pykas\\env_pykas\\lib\\site-packages\\distributed\\client.py\u001b[0m in \u001b[0;36m_gather\u001b[1;34m(self, futures, errors, direct, local_worker)\u001b[0m\n\u001b[0;32m   1847\u001b[0m                             \u001b[0mexc\u001b[0m \u001b[1;33m=\u001b[0m \u001b[0mCancelledError\u001b[0m\u001b[1;33m(\u001b[0m\u001b[0mkey\u001b[0m\u001b[1;33m)\u001b[0m\u001b[1;33m\u001b[0m\u001b[1;33m\u001b[0m\u001b[0m\n\u001b[0;32m   1848\u001b[0m                         \u001b[1;32melse\u001b[0m\u001b[1;33m:\u001b[0m\u001b[1;33m\u001b[0m\u001b[1;33m\u001b[0m\u001b[0m\n\u001b[1;32m-> 1849\u001b[1;33m                             \u001b[1;32mraise\u001b[0m \u001b[0mexception\u001b[0m\u001b[1;33m.\u001b[0m\u001b[0mwith_traceback\u001b[0m\u001b[1;33m(\u001b[0m\u001b[0mtraceback\u001b[0m\u001b[1;33m)\u001b[0m\u001b[1;33m\u001b[0m\u001b[1;33m\u001b[0m\u001b[0m\n\u001b[0m\u001b[0;32m   1850\u001b[0m                         \u001b[1;32mraise\u001b[0m \u001b[0mexc\u001b[0m\u001b[1;33m\u001b[0m\u001b[1;33m\u001b[0m\u001b[0m\n\u001b[0;32m   1851\u001b[0m                     \u001b[1;32mif\u001b[0m \u001b[0merrors\u001b[0m \u001b[1;33m==\u001b[0m \u001b[1;34m\"skip\"\u001b[0m\u001b[1;33m:\u001b[0m\u001b[1;33m\u001b[0m\u001b[1;33m\u001b[0m\u001b[0m\n",
      "\u001b[1;31mKilledWorker\u001b[0m: ('foo_tst-6f9ec743a9aa53fcc399e7c1b8a1472d', <Worker 'tcp://192.168.65.3:35239', name: tcp://192.168.65.3:35239, memory: 0, processing: 6>)"
     ]
    }
   ],
   "source": [
    "ress = cl.gather(futs)\n",
    "len(ress)"
   ]
  },
  {
   "cell_type": "code",
   "execution_count": 39,
   "metadata": {},
   "outputs": [],
   "source": [
    "def foo2(i):\n",
    "    import time\n",
    "    time.sleep(1)\n",
    "    return i\n",
    "\n",
    "futs2 = cl.map(foo2, range(200))"
   ]
  },
  {
   "cell_type": "code",
   "execution_count": 40,
   "metadata": {},
   "outputs": [
    {
     "name": "stderr",
     "output_type": "stream",
     "text": [
      "distributed.client - WARNING - Couldn't gather 187 keys, rescheduling {'foo2-136629198dcd1961c9d34618b409fd88': ('tcp://192.168.65.3:40027',), 'foo2-a1ed6c8c7af1f5a21fad0916de351ddb': ('tcp://192.168.65.3:43755',), 'foo2-0a8b5b0cc5e07bbd7dc22416be78d42c': ('tcp://192.168.65.3:38369',), 'foo2-62e77075939204aa35c38c48d60719f6': ('tcp://192.168.65.3:38171',), 'foo2-83ec6c6b73557487e9b04102c2ed91a2': ('tcp://192.168.65.3:43427',), 'foo2-bc95241113cf0a95d40c76e692d64db7': ('tcp://192.168.65.3:38369',), 'foo2-eaef7b158e55438c027a577cbffb834a': ('tcp://192.168.65.3:40531',), 'foo2-6a0704e78c5de565e5d64e5697be74cd': ('tcp://192.168.65.3:35099',), 'foo2-ff5f2eef97f0a2424fddd6a762505ba9': ('tcp://192.168.65.3:42991',), 'foo2-0d2923f96de0432538502c0281f027b4': ('tcp://192.168.65.3:37003',), 'foo2-44c97938f49254531ed92ba145289ae2': ('tcp://192.168.65.3:36043',), 'foo2-ce1a945fc76211e829ef94af5b6cb492': ('tcp://192.168.65.3:42851',), 'foo2-e1df151f733042d4abeb261b62667bbe': ('tcp://192.168.65.3:41843',), 'foo2-4911477d0953245fbb924536fb716044': ('tcp://192.168.65.3:35099',), 'foo2-636c965a29dc6828bd33e47bc80e4f68': ('tcp://192.168.65.3:43755',), 'foo2-c6e52e89ba477db316690c6e72c617d1': ('tcp://192.168.65.3:35047',), 'foo2-57dd1ab3375fa587386e8df6a5b2a7fe': ('tcp://192.168.65.3:42851',), 'foo2-228430b1db3706c341b5c3e09e207d15': ('tcp://192.168.65.3:46419',), 'foo2-6f64fa0a89d17b22036c119e0ca72afc': ('tcp://192.168.65.3:36371',), 'foo2-adafd5ea20f700622c4c43dc5359666b': ('tcp://192.168.65.3:33007',), 'foo2-4529e9231a7178ac5e363269411cb49a': ('tcp://192.168.65.3:46085',), 'foo2-96ae4a95bbb3ad86683cbd4576caad0e': ('tcp://192.168.65.3:45923',), 'foo2-de954dbb15e15beb708c77346b9ea603': ('tcp://192.168.65.3:45185',), 'foo2-565a75081113494ba03f639c222d4108': ('tcp://192.168.65.3:37351',), 'foo2-fb84ed9d9858683793717cdb4affc6b0': ('tcp://192.168.65.3:42879',), 'foo2-5b49d26444d7f61542eacde5ca9f2b8c': ('tcp://192.168.65.3:35971',), 'foo2-ee482c583241049bb294515734a06150': ('tcp://192.168.65.3:35037',), 'foo2-32e681406b9c09ec9a022d8c0b7b2a4b': ('tcp://192.168.65.3:38843',), 'foo2-48f9866ac9aa889ba1e56baf77c05bcb': ('tcp://192.168.65.3:32987',), 'foo2-976c18fc2860b06fb2adfdce62a50957': ('tcp://192.168.65.3:39513',), 'foo2-4dec6716f3d4ca8ced33d0be133a9148': ('tcp://192.168.65.3:35911',), 'foo2-18824b44afc7e5ba643a05a66f508d60': ('tcp://192.168.65.3:40531',), 'foo2-5b2d5c4bf29faa7d392408efa08ccc50': ('tcp://192.168.65.3:45185',), 'foo2-06adb1d1b89715e70045f5a0288a2917': ('tcp://192.168.65.3:45965',), 'foo2-1cd7a1bc06695cd7e324c590d4a25b7f': ('tcp://192.168.65.3:41347',), 'foo2-f94a2bd2ff380bafd701bf686bd24b88': ('tcp://192.168.65.3:37351',), 'foo2-c2aea6c58334af976ae1678ef4f7c4de': ('tcp://192.168.65.3:37439',), 'foo2-505b5f6c1bfc730638a603d23d5915e3': ('tcp://192.168.65.3:33751',), 'foo2-7df86db81bb0f2a5a90dac37f729da87': ('tcp://192.168.65.3:38729',), 'foo2-dd740b2ac8ab1432eebd331bb5a433cf': ('tcp://192.168.65.3:43671',), 'foo2-e653c32e0e972d48e9878be396133d96': ('tcp://192.168.65.3:36481',), 'foo2-54fc55e2938d68a7fa8d4673c8244e4e': ('tcp://192.168.65.3:41551',), 'foo2-c7f783998ad7e34cda10e6ac7c741a8d': ('tcp://192.168.65.3:39415',), 'foo2-9a30d99b797c33ea513a73a85828f103': ('tcp://192.168.65.3:43147',), 'foo2-c6231a1e095f70e0d52bbcbe72abef6d': ('tcp://192.168.65.3:45009',), 'foo2-c4696a1e1acb6f34eddc18486f70832a': ('tcp://192.168.65.3:37439',), 'foo2-16a7a4d07c49074a3c8c828158bec407': ('tcp://192.168.65.3:41899',), 'foo2-acf8c35f05fc51b22e50e5507c828be9': ('tcp://192.168.65.3:38171',), 'foo2-e3127cbc411135ec890826488db2af4f': ('tcp://192.168.65.3:36861',), 'foo2-ce52cc1e11c1bdf4cf25215548c9c46f': ('tcp://192.168.65.3:43569',), 'foo2-bf2e7248e95d5962a3acf69ff5431491': ('tcp://192.168.65.3:36571',), 'foo2-7e820a5046eee47e553370a513dc8fed': ('tcp://192.168.65.3:33675',), 'foo2-fc4ffd51ebaa943e10d624fb06dc542a': ('tcp://192.168.65.3:40027',), 'foo2-b122a2b2a573d061e8b6b8934579fec2': ('tcp://192.168.65.3:41927',), 'foo2-00c22afd119731bdcbcdda32793c042b': ('tcp://192.168.65.3:41347',), 'foo2-18e35236a135c7fbee7568fb65f958e6': ('tcp://192.168.65.3:44173',), 'foo2-3dab2cdde79032e15bef7a2cb3109ddd': ('tcp://192.168.65.3:44653',), 'foo2-e4fbc7be6a07cfa3e2358b1b73a8c3b6': ('tcp://192.168.65.3:33341',), 'foo2-63d3df982888be01fbcba320e64256bb': ('tcp://192.168.65.3:39809',), 'foo2-1506911b42a2cfb24616fc1f520713a8': ('tcp://192.168.65.3:43713',), 'foo2-c71dc492c1d876db414c9c1f0b8087bf': ('tcp://192.168.65.3:46473',), 'foo2-2fba2b3e6e7b1a59e60f7c8f419d86c2': ('tcp://192.168.65.3:39585',), 'foo2-c6c3d29eb7f975e29017029b2f64a8d8': ('tcp://192.168.65.3:37003',), 'foo2-f2845db0ca3fe936bd768445d1f576f6': ('tcp://192.168.65.3:40633',), 'foo2-955d14f5a567d7d34a544b1529def50a': ('tcp://192.168.65.3:37859',), 'foo2-801e04a5a73ff268638baa79f09afcee': ('tcp://192.168.65.3:38179',), 'foo2-7448ba6b9d1ec7c2c28fa618533a24c0': ('tcp://192.168.65.3:34769',), 'foo2-f12465fb157bbf8cc4c992e689c2ba14': ('tcp://192.168.65.3:43147',), 'foo2-cd114d723fcf4560ec2f62181adc57d9': ('tcp://192.168.65.3:44665',), 'foo2-8c3be730056aa9af00843df294fc0f07': ('tcp://192.168.65.3:42879',), 'foo2-da2465f2013cb3cdc2bf767dcf928623': ('tcp://192.168.65.3:38179',), 'foo2-d439890f4da3d1c1b1a9fba5477893fa': ('tcp://192.168.65.3:35037',), 'foo2-9a5fd9f8757939d7f8d92d42e40bd523': ('tcp://192.168.65.3:39809',), 'foo2-b97bd283e9c59787325de44d87271054': ('tcp://192.168.65.3:36943',), 'foo2-0f22be59e01948bbe80eaab4af187484': ('tcp://192.168.65.3:35123',), 'foo2-48464da707e075d334fb15e4fb523731': ('tcp://192.168.65.3:34429',), 'foo2-04ac415bd767c64ba602345c4b1a23b1': ('tcp://192.168.65.3:42269',), 'foo2-b724b2de63d06611c28c039e6412f07a': ('tcp://192.168.65.3:41801',), 'foo2-adf7fc15f3cd8b9215dd4ce27c4a4879': ('tcp://192.168.65.3:42477',), 'foo2-d4193405f463f93ceeb52ff5d690dbc0': ('tcp://192.168.65.3:41649',), 'foo2-696518ba8d8ed0b770a4555397f90954': ('tcp://192.168.65.3:33561',), 'foo2-64797b7479c5e2f6142ef18cd46275fd': ('tcp://192.168.65.3:43813',), 'foo2-2675a8eeed8b9ec3ac1e10216838225d': ('tcp://192.168.65.3:42477',), 'foo2-9ee6ece68017bf617c7422c33751b136': ('tcp://192.168.65.3:33881',), 'foo2-8b04f56ce2c25b379609727717fc37d0': ('tcp://192.168.65.3:36943',), 'foo2-a16b5049f1a87bc4e6f724b3b7236f9d': ('tcp://192.168.65.3:38843',), 'foo2-420a7b067e8b2a0aab181d80663a938c': ('tcp://192.168.65.3:35431',), 'foo2-a808c9a166e58e92fd16b37c4af8774f': ('tcp://192.168.65.3:36673',), 'foo2-dd2d5d84665743d6c0dfb48cbe78abf5': ('tcp://192.168.65.3:45285',), 'foo2-1cac56c0f0540ec0760f16396205d37e': ('tcp://192.168.65.3:36703',), 'foo2-21b3bb28040ba08c4492c5938ed93bc4': ('tcp://192.168.65.3:45389',), 'foo2-e8b661747a62efd4fc20289225be6b1a': ('tcp://192.168.65.3:44173',), 'foo2-90aa6594900e7b9a4cea6e037b77a5f4': ('tcp://192.168.65.3:35999',), 'foo2-2992703aad9541a450ad2da534ae3d95': ('tcp://192.168.65.3:45593',), 'foo2-19b1c22c09ab945b156260a8565bbd52': ('tcp://192.168.65.3:37859',), 'foo2-397324aa25a1e2e414204aa30677ce34': ('tcp://192.168.65.3:35831',), 'foo2-bf6da24412ace89b7d9e70757de8a9ba': ('tcp://192.168.65.3:38489',), 'foo2-6fd3ebdd0bcbe426eae68552f7f99ff6': ('tcp://192.168.65.3:36371',), 'foo2-e18318fc6d35e8351f62253365516ab3': ('tcp://192.168.65.3:46723',), 'foo2-0f8308c92177b2cc165f6f7e320cb8fd': ('tcp://192.168.65.3:35999',), 'foo2-1ece653e9b78a3b6f048bb497bfffeb5': ('tcp://192.168.65.3:46739',), 'foo2-480410728c4af82b781d0876276d99a2': ('tcp://192.168.65.3:43813',), 'foo2-b2ac0d9d15b6faec231b80c1280836b2': ('tcp://192.168.65.3:36481',), 'foo2-4cd60b30677afa787e96917e52ffaaa8': ('tcp://192.168.65.3:33443',), 'foo2-011761d0ae70db3c08cff64332a6e238': ('tcp://192.168.65.3:43765',), 'foo2-b1f0dcdaa9caf8a78b561d1076f3d81b': ('tcp://192.168.65.3:39105',), 'foo2-7f8c4e641152f610b655bc3e3f756c6f': ('tcp://192.168.65.3:37313',), 'foo2-99d95e55857c631e0a2363a234d03ab2': ('tcp://192.168.65.3:39745',), 'foo2-be82efadd8d574855f4bc462539dcb2c': ('tcp://192.168.65.3:41801',), 'foo2-11e1213fbc8ede238386bddaebec1930': ('tcp://192.168.65.3:37633',), 'foo2-8dcfdec6da2486f294115d5be3cb4928': ('tcp://192.168.65.3:42269',), 'foo2-690d1d3b793230c77840e4686c4e039f': ('tcp://192.168.65.3:39585',), 'foo2-70514743848e7393e245acd9f3b4c418': ('tcp://192.168.65.3:46197',), 'foo2-b54cf13dd39177cd5643ec9f03cb73d3': ('tcp://192.168.65.3:43647',), 'foo2-6ea11709a3ff6b742fd058161c834fd6': ('tcp://192.168.65.3:34491',), 'foo2-e2f66891ffe53b97863b19760c02184e': ('tcp://192.168.65.3:41843',), 'foo2-e292551e08138f5b32e010f068993a4e': ('tcp://192.168.65.3:40547',), 'foo2-edabc4a4713620f50b26feaf016fe7fe': ('tcp://192.168.65.3:34133',), 'foo2-35a34f284f6f45554a2f4fd93349426d': ('tcp://192.168.65.3:43647',), 'foo2-f038fb0611ff6d22303699e8d51d37bb': ('tcp://192.168.65.3:34601',), 'foo2-27614d6e957bcdcb1e58748bc8148c71': ('tcp://192.168.65.3:35831',), 'foo2-94b8d33fd13b567de5f96dfefb415f8e': ('tcp://192.168.65.3:36673',), 'foo2-447ada40ddbc1b236318add7c9e43be7': ('tcp://192.168.65.3:41551',), 'foo2-7f8d7eedcbb73325c2f6dbd22f46ca0d': ('tcp://192.168.65.3:40547',), 'foo2-1f4e204002df357ec744266bbdd6d526': ('tcp://192.168.65.3:45009',), 'foo2-06fa9c454298acda0723be123bda3ffd': ('tcp://192.168.65.3:33653',), 'foo2-17e7da1e9aea71c4c86918b5127b9764': ('tcp://192.168.65.3:40633',), 'foo2-4497a5f9f9541be54b0f12f62417dccb': ('tcp://192.168.65.3:40971',), 'foo2-ed3fdc908a50a35365cfa897d60696cc': ('tcp://192.168.65.3:44769',), 'foo2-a414a57dc2ce431f1e97286f4cb71fb0': ('tcp://192.168.65.3:42123',), 'foo2-6dc2e43d7cb52f8d1a48e3ef10c35f2d': ('tcp://192.168.65.3:41927',), 'foo2-48b682ecb9204112feba67dd8a0ed72c': ('tcp://192.168.65.3:42573',), 'foo2-9967ff4f2c37ac70440560cc14c417dc': ('tcp://192.168.65.3:35431',), 'foo2-7d2b89d593469ecee0036d0f8e245b68': ('tcp://192.168.65.3:39513',), 'foo2-a7fc404488b1628cc8d02c8c86cf44cc': ('tcp://192.168.65.3:40237',), 'foo2-f19ddae96ece56ef406ec08bec25a059': ('tcp://192.168.65.3:40971',), 'foo2-5b1666300e7d7e6981c191f4d8baf8c6': ('tcp://192.168.65.3:37241',), 'foo2-6c82616e306449723306203f6acfd443': ('tcp://192.168.65.3:44275',), 'foo2-1d3b81fc2a18cfc6914d70f9f45d2d69': ('tcp://192.168.65.3:40237',), 'foo2-28385ddfb4ad0ad52c033b60ca315743': ('tcp://192.168.65.3:42573',), 'foo2-03c2b3c48e115c42247833adcd355064': ('tcp://192.168.65.3:36703',), 'foo2-a114bdf89a2f42dbad534e842131b63a': ('tcp://192.168.65.3:44513',), 'foo2-2047615181a4736e1599b3b255d22953': ('tcp://192.168.65.3:44653',), 'foo2-9207f79620b69f0879b29242b24e109b': ('tcp://192.168.65.3:39105',), 'foo2-c56235d9f592afb28cd2faf993aee836': ('tcp://192.168.65.3:37313',), 'foo2-e44ae0dbc6d2ab100afb02527cea628d': ('tcp://192.168.65.3:43731',), 'foo2-62ea75f9d8bebb3ccaf588c91ab2a4ef': ('tcp://192.168.65.3:33057',), 'foo2-471ef3aedd709d3f77dcd5f63a8ea59c': ('tcp://192.168.65.3:33347',), 'foo2-91b64d3facaac997558bf9635fd80e12': ('tcp://192.168.65.3:36569',), 'foo2-91718a1e4baec0c8cf21ce9a67645b17': ('tcp://192.168.65.3:43569',), 'foo2-a78eb5aaec3c2fbddf59e7f71ff1beca': ('tcp://192.168.65.3:33441',), 'foo2-bb16deb3e52828bcc91f81999536c4e5': ('tcp://192.168.65.3:34513',), 'foo2-bc278d265ece70e3a2c150470229a0c7': ('tcp://192.168.65.3:38489',), 'foo2-2f3aad5f492eb0a86313bb86b3605682': ('tcp://192.168.65.3:39415',), 'foo2-f9925fc3f36abfe149bbe001122daaab': ('tcp://192.168.65.3:36571',), 'foo2-ca9db3d46f7852214d11f5c33211bda9': ('tcp://192.168.65.3:42991',), 'foo2-ea51edb6511edb9a67eb01c21b4c9b05': ('tcp://192.168.65.3:43427',), 'foo2-2a195c2e1de1eadc48fe28c5bc9ca599': ('tcp://192.168.65.3:34435',), 'foo2-54b445c0caf5fccb9dcaa3c17ce4612c': ('tcp://192.168.65.3:44275',), 'foo2-5d9444aa634cc200fdf0dede9195ec1c': ('tcp://192.168.65.3:36043',), 'foo2-ae8d48947a385c47f4f270b7fb5a45ed': ('tcp://192.168.65.3:45977',), 'foo2-64b05a89ffab9fc02796a08b9888596d': ('tcp://192.168.65.3:43731',), 'foo2-2cc463dcd2170fc367990d0889bf9fc0': ('tcp://192.168.65.3:44665',), 'foo2-2045226b930abbd5c7cb15599d17d924': ('tcp://192.168.65.3:43765',), 'foo2-4a01dafc6733c39e07419eb7986b6605': ('tcp://192.168.65.3:36861',), 'foo2-40c797f22cc37b8aec1362d306fc134e': ('tcp://192.168.65.3:38729',), 'foo2-90d2a33b661923a86d6c8876ed4a6002': ('tcp://192.168.65.3:44769',), 'foo2-c09988b607b37306dea7e9a4c9dc7d81': ('tcp://192.168.65.3:44513',), 'foo2-b735bfa4a991cdecf7cfa5af35b33c0d': ('tcp://192.168.65.3:43671',), 'foo2-3aadf2a1fb79a77b05719f5ac9f2cc0f': ('tcp://192.168.65.3:43913',), 'foo2-a5ec86a113af4206c24c0d8b8fbe624d': ('tcp://192.168.65.3:37633',), 'foo2-ae892e7f1c587dd0181616d68e402f84': ('tcp://192.168.65.3:42123',), 'foo2-4d655429f0c1767eaf77911169844403': ('tcp://192.168.65.3:35911',), 'foo2-76b2d1e7794da4176ee39d0b78259fe9': ('tcp://192.168.65.3:41649',), 'foo2-aa882e6e686673407d44635b72013cd5': ('tcp://192.168.65.3:37241',), 'foo2-3a7c9f5c327548755c9c4f911caf4650': ('tcp://192.168.65.3:35047',), 'foo2-f158edd7f94f3309dbb26cb993b24fc2': ('tcp://192.168.65.3:35123',), 'foo2-ff7d23bedda19391a544300e04689d21': ('tcp://192.168.65.3:43713',), 'foo2-0a2b0faebfa97183d2af1c5d2707da69': ('tcp://192.168.65.3:43913',), 'foo2-4314aaf5f058d7301982611f2a3c9112': ('tcp://192.168.65.3:33067',), 'foo2-8e35583c0a1cb16596a2cfdca363ad4e': ('tcp://192.168.65.3:41899',), 'foo2-0840bcb3ed286696365abcdf19f7cc3c': ('tcp://192.168.65.3:39745',), 'foo2-b6447b9191f69ffbce3cb380c15c3bbd': ('tcp://192.168.65.3:36569',), 'foo2-71ceefdc657bcc2a42fa87dfb5694d36': ('tcp://192.168.65.3:33943',), 'foo2-91bfc3823b650d2631b4692be4a95a5c': ('tcp://192.168.65.3:45285',), 'foo2-dff00ccd21387e206e533f149c119487': ('tcp://192.168.65.3:46093',), 'foo2-06b10adf9a6be041275ee40632764368': ('tcp://192.168.65.3:35971',)}\n"
     ]
    },
    {
     "ename": "KilledWorker",
     "evalue": "('foo2-976c18fc2860b06fb2adfdce62a50957', <Worker 'tcp://192.168.65.3:40547', name: tcp://192.168.65.3:40547, memory: 0, processing: 29>)",
     "output_type": "error",
     "traceback": [
      "\u001b[1;31m---------------------------------------------------------------------------\u001b[0m",
      "\u001b[1;31mKilledWorker\u001b[0m                              Traceback (most recent call last)",
      "\u001b[1;32m<ipython-input-40-4809297253d2>\u001b[0m in \u001b[0;36m<module>\u001b[1;34m\u001b[0m\n\u001b[1;32m----> 1\u001b[1;33m \u001b[0mcl\u001b[0m\u001b[1;33m.\u001b[0m\u001b[0mgather\u001b[0m\u001b[1;33m(\u001b[0m\u001b[0mfuts2\u001b[0m\u001b[1;33m)\u001b[0m\u001b[1;33m\u001b[0m\u001b[1;33m\u001b[0m\u001b[0m\n\u001b[0m",
      "\u001b[1;32md:\\pykas\\env_pykas\\lib\\site-packages\\distributed\\client.py\u001b[0m in \u001b[0;36mgather\u001b[1;34m(self, futures, errors, direct, asynchronous)\u001b[0m\n\u001b[0;32m   1982\u001b[0m             \u001b[1;32melse\u001b[0m\u001b[1;33m:\u001b[0m\u001b[1;33m\u001b[0m\u001b[1;33m\u001b[0m\u001b[0m\n\u001b[0;32m   1983\u001b[0m                 \u001b[0mlocal_worker\u001b[0m \u001b[1;33m=\u001b[0m \u001b[1;32mNone\u001b[0m\u001b[1;33m\u001b[0m\u001b[1;33m\u001b[0m\u001b[0m\n\u001b[1;32m-> 1984\u001b[1;33m             return self.sync(\n\u001b[0m\u001b[0;32m   1985\u001b[0m                 \u001b[0mself\u001b[0m\u001b[1;33m.\u001b[0m\u001b[0m_gather\u001b[0m\u001b[1;33m,\u001b[0m\u001b[1;33m\u001b[0m\u001b[1;33m\u001b[0m\u001b[0m\n\u001b[0;32m   1986\u001b[0m                 \u001b[0mfutures\u001b[0m\u001b[1;33m,\u001b[0m\u001b[1;33m\u001b[0m\u001b[1;33m\u001b[0m\u001b[0m\n",
      "\u001b[1;32md:\\pykas\\env_pykas\\lib\\site-packages\\distributed\\client.py\u001b[0m in \u001b[0;36msync\u001b[1;34m(self, func, asynchronous, callback_timeout, *args, **kwargs)\u001b[0m\n\u001b[0;32m    830\u001b[0m             \u001b[1;32mreturn\u001b[0m \u001b[0mfuture\u001b[0m\u001b[1;33m\u001b[0m\u001b[1;33m\u001b[0m\u001b[0m\n\u001b[0;32m    831\u001b[0m         \u001b[1;32melse\u001b[0m\u001b[1;33m:\u001b[0m\u001b[1;33m\u001b[0m\u001b[1;33m\u001b[0m\u001b[0m\n\u001b[1;32m--> 832\u001b[1;33m             return sync(\n\u001b[0m\u001b[0;32m    833\u001b[0m                 \u001b[0mself\u001b[0m\u001b[1;33m.\u001b[0m\u001b[0mloop\u001b[0m\u001b[1;33m,\u001b[0m \u001b[0mfunc\u001b[0m\u001b[1;33m,\u001b[0m \u001b[1;33m*\u001b[0m\u001b[0margs\u001b[0m\u001b[1;33m,\u001b[0m \u001b[0mcallback_timeout\u001b[0m\u001b[1;33m=\u001b[0m\u001b[0mcallback_timeout\u001b[0m\u001b[1;33m,\u001b[0m \u001b[1;33m**\u001b[0m\u001b[0mkwargs\u001b[0m\u001b[1;33m\u001b[0m\u001b[1;33m\u001b[0m\u001b[0m\n\u001b[0;32m    834\u001b[0m             )\n",
      "\u001b[1;32md:\\pykas\\env_pykas\\lib\\site-packages\\distributed\\utils.py\u001b[0m in \u001b[0;36msync\u001b[1;34m(loop, func, callback_timeout, *args, **kwargs)\u001b[0m\n\u001b[0;32m    337\u001b[0m     \u001b[1;32mif\u001b[0m \u001b[0merror\u001b[0m\u001b[1;33m[\u001b[0m\u001b[1;36m0\u001b[0m\u001b[1;33m]\u001b[0m\u001b[1;33m:\u001b[0m\u001b[1;33m\u001b[0m\u001b[1;33m\u001b[0m\u001b[0m\n\u001b[0;32m    338\u001b[0m         \u001b[0mtyp\u001b[0m\u001b[1;33m,\u001b[0m \u001b[0mexc\u001b[0m\u001b[1;33m,\u001b[0m \u001b[0mtb\u001b[0m \u001b[1;33m=\u001b[0m \u001b[0merror\u001b[0m\u001b[1;33m[\u001b[0m\u001b[1;36m0\u001b[0m\u001b[1;33m]\u001b[0m\u001b[1;33m\u001b[0m\u001b[1;33m\u001b[0m\u001b[0m\n\u001b[1;32m--> 339\u001b[1;33m         \u001b[1;32mraise\u001b[0m \u001b[0mexc\u001b[0m\u001b[1;33m.\u001b[0m\u001b[0mwith_traceback\u001b[0m\u001b[1;33m(\u001b[0m\u001b[0mtb\u001b[0m\u001b[1;33m)\u001b[0m\u001b[1;33m\u001b[0m\u001b[1;33m\u001b[0m\u001b[0m\n\u001b[0m\u001b[0;32m    340\u001b[0m     \u001b[1;32melse\u001b[0m\u001b[1;33m:\u001b[0m\u001b[1;33m\u001b[0m\u001b[1;33m\u001b[0m\u001b[0m\n\u001b[0;32m    341\u001b[0m         \u001b[1;32mreturn\u001b[0m \u001b[0mresult\u001b[0m\u001b[1;33m[\u001b[0m\u001b[1;36m0\u001b[0m\u001b[1;33m]\u001b[0m\u001b[1;33m\u001b[0m\u001b[1;33m\u001b[0m\u001b[0m\n",
      "\u001b[1;32md:\\pykas\\env_pykas\\lib\\site-packages\\distributed\\utils.py\u001b[0m in \u001b[0;36mf\u001b[1;34m()\u001b[0m\n\u001b[0;32m    321\u001b[0m             \u001b[1;32mif\u001b[0m \u001b[0mcallback_timeout\u001b[0m \u001b[1;32mis\u001b[0m \u001b[1;32mnot\u001b[0m \u001b[1;32mNone\u001b[0m\u001b[1;33m:\u001b[0m\u001b[1;33m\u001b[0m\u001b[1;33m\u001b[0m\u001b[0m\n\u001b[0;32m    322\u001b[0m                 \u001b[0mfuture\u001b[0m \u001b[1;33m=\u001b[0m \u001b[0masyncio\u001b[0m\u001b[1;33m.\u001b[0m\u001b[0mwait_for\u001b[0m\u001b[1;33m(\u001b[0m\u001b[0mfuture\u001b[0m\u001b[1;33m,\u001b[0m \u001b[0mcallback_timeout\u001b[0m\u001b[1;33m)\u001b[0m\u001b[1;33m\u001b[0m\u001b[1;33m\u001b[0m\u001b[0m\n\u001b[1;32m--> 323\u001b[1;33m             \u001b[0mresult\u001b[0m\u001b[1;33m[\u001b[0m\u001b[1;36m0\u001b[0m\u001b[1;33m]\u001b[0m \u001b[1;33m=\u001b[0m \u001b[1;32myield\u001b[0m \u001b[0mfuture\u001b[0m\u001b[1;33m\u001b[0m\u001b[1;33m\u001b[0m\u001b[0m\n\u001b[0m\u001b[0;32m    324\u001b[0m         \u001b[1;32mexcept\u001b[0m \u001b[0mException\u001b[0m \u001b[1;32mas\u001b[0m \u001b[0mexc\u001b[0m\u001b[1;33m:\u001b[0m\u001b[1;33m\u001b[0m\u001b[1;33m\u001b[0m\u001b[0m\n\u001b[0;32m    325\u001b[0m             \u001b[0merror\u001b[0m\u001b[1;33m[\u001b[0m\u001b[1;36m0\u001b[0m\u001b[1;33m]\u001b[0m \u001b[1;33m=\u001b[0m \u001b[0msys\u001b[0m\u001b[1;33m.\u001b[0m\u001b[0mexc_info\u001b[0m\u001b[1;33m(\u001b[0m\u001b[1;33m)\u001b[0m\u001b[1;33m\u001b[0m\u001b[1;33m\u001b[0m\u001b[0m\n",
      "\u001b[1;32md:\\pykas\\env_pykas\\lib\\site-packages\\tornado\\gen.py\u001b[0m in \u001b[0;36mrun\u001b[1;34m(self)\u001b[0m\n\u001b[0;32m    733\u001b[0m \u001b[1;33m\u001b[0m\u001b[0m\n\u001b[0;32m    734\u001b[0m                     \u001b[1;32mtry\u001b[0m\u001b[1;33m:\u001b[0m\u001b[1;33m\u001b[0m\u001b[1;33m\u001b[0m\u001b[0m\n\u001b[1;32m--> 735\u001b[1;33m                         \u001b[0mvalue\u001b[0m \u001b[1;33m=\u001b[0m \u001b[0mfuture\u001b[0m\u001b[1;33m.\u001b[0m\u001b[0mresult\u001b[0m\u001b[1;33m(\u001b[0m\u001b[1;33m)\u001b[0m\u001b[1;33m\u001b[0m\u001b[1;33m\u001b[0m\u001b[0m\n\u001b[0m\u001b[0;32m    736\u001b[0m                     \u001b[1;32mexcept\u001b[0m \u001b[0mException\u001b[0m\u001b[1;33m:\u001b[0m\u001b[1;33m\u001b[0m\u001b[1;33m\u001b[0m\u001b[0m\n\u001b[0;32m    737\u001b[0m                         \u001b[0mexc_info\u001b[0m \u001b[1;33m=\u001b[0m \u001b[0msys\u001b[0m\u001b[1;33m.\u001b[0m\u001b[0mexc_info\u001b[0m\u001b[1;33m(\u001b[0m\u001b[1;33m)\u001b[0m\u001b[1;33m\u001b[0m\u001b[1;33m\u001b[0m\u001b[0m\n",
      "\u001b[1;32md:\\pykas\\env_pykas\\lib\\site-packages\\distributed\\client.py\u001b[0m in \u001b[0;36m_gather\u001b[1;34m(self, futures, errors, direct, local_worker)\u001b[0m\n\u001b[0;32m   1847\u001b[0m                             \u001b[0mexc\u001b[0m \u001b[1;33m=\u001b[0m \u001b[0mCancelledError\u001b[0m\u001b[1;33m(\u001b[0m\u001b[0mkey\u001b[0m\u001b[1;33m)\u001b[0m\u001b[1;33m\u001b[0m\u001b[1;33m\u001b[0m\u001b[0m\n\u001b[0;32m   1848\u001b[0m                         \u001b[1;32melse\u001b[0m\u001b[1;33m:\u001b[0m\u001b[1;33m\u001b[0m\u001b[1;33m\u001b[0m\u001b[0m\n\u001b[1;32m-> 1849\u001b[1;33m                             \u001b[1;32mraise\u001b[0m \u001b[0mexception\u001b[0m\u001b[1;33m.\u001b[0m\u001b[0mwith_traceback\u001b[0m\u001b[1;33m(\u001b[0m\u001b[0mtraceback\u001b[0m\u001b[1;33m)\u001b[0m\u001b[1;33m\u001b[0m\u001b[1;33m\u001b[0m\u001b[0m\n\u001b[0m\u001b[0;32m   1850\u001b[0m                         \u001b[1;32mraise\u001b[0m \u001b[0mexc\u001b[0m\u001b[1;33m\u001b[0m\u001b[1;33m\u001b[0m\u001b[0m\n\u001b[0;32m   1851\u001b[0m                     \u001b[1;32mif\u001b[0m \u001b[0merrors\u001b[0m \u001b[1;33m==\u001b[0m \u001b[1;34m\"skip\"\u001b[0m\u001b[1;33m:\u001b[0m\u001b[1;33m\u001b[0m\u001b[1;33m\u001b[0m\u001b[0m\n",
      "\u001b[1;31mKilledWorker\u001b[0m: ('foo2-976c18fc2860b06fb2adfdce62a50957', <Worker 'tcp://192.168.65.3:40547', name: tcp://192.168.65.3:40547, memory: 0, processing: 29>)"
     ]
    },
    {
     "name": "stderr",
     "output_type": "stream",
     "text": [
      "distributed.client - ERROR - Failed to reconnect to scheduler after 10.00 seconds, closing client\n",
      "distributed.client - ERROR - Failed to reconnect to scheduler after 10.00 seconds, closing client\n",
      "distributed.client - ERROR - Failed to reconnect to scheduler after 10.00 seconds, closing client\n",
      "_GatheringFuture exception was never retrieved\n",
      "future: <_GatheringFuture finished exception=CancelledError()>\n",
      "asyncio.exceptions.CancelledError\n",
      "_GatheringFuture exception was never retrieved\n",
      "future: <_GatheringFuture finished exception=CancelledError()>\n",
      "asyncio.exceptions.CancelledError\n",
      "_GatheringFuture exception was never retrieved\n",
      "future: <_GatheringFuture finished exception=CancelledError()>\n",
      "asyncio.exceptions.CancelledError\n"
     ]
    }
   ],
   "source": [
    "cl.gather(futs2)"
   ]
  },
  {
   "cell_type": "code",
   "execution_count": 27,
   "metadata": {
    "tags": []
   },
   "outputs": [
    {
     "name": "stderr",
     "output_type": "stream",
     "text": [
      "distributed.client - ERROR - Failed to reconnect to scheduler after 10.00 seconds, closing client\n",
      "_GatheringFuture exception was never retrieved\n",
      "future: <_GatheringFuture finished exception=CancelledError()>\n",
      "asyncio.exceptions.CancelledError\n"
     ]
    }
   ],
   "source": [
    "cl.restart()"
   ]
  }
 ],
 "metadata": {
  "kernelspec": {
   "display_name": "env_pykas",
   "language": "python",
   "name": "env_pykas"
  },
  "language_info": {
   "codemirror_mode": {
    "name": "ipython",
    "version": 3
   },
   "file_extension": ".py",
   "mimetype": "text/x-python",
   "name": "python",
   "nbconvert_exporter": "python",
   "pygments_lexer": "ipython3",
   "version": "3.8.5"
  }
 },
 "nbformat": 4,
 "nbformat_minor": 4
}
