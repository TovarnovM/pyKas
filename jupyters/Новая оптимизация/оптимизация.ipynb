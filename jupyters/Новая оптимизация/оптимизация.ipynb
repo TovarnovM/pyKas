{
 "cells": [
  {
   "cell_type": "code",
   "execution_count": 1,
   "metadata": {},
   "outputs": [],
   "source": [
    "import os\n",
    "wd = os.getcwd()\n",
    "wd = os.path.dirname(os.path.dirname(wd))\n",
    "import sys\n",
    "sys.path.append(wd+\"\\\\src\\\\\")"
   ]
  },
  {
   "cell_type": "code",
   "execution_count": 2,
   "metadata": {},
   "outputs": [],
   "source": [
    "from tube import InterpXY,Tube,BorderSimple\n",
    "from math import *\n",
    "import numpy as np\n",
    "import numpy.random as rnd\n",
    "from powderlayer import PowderBD, PowderOvLayer, Powder\n",
    "from gaslayer import GasEOS, GasLayer\n",
    "from pistonlayer import ElPistEOS, ElPistLayer\n",
    "import pprint as pp"
   ]
  },
  {
   "cell_type": "code",
   "execution_count": 3,
   "metadata": {},
   "outputs": [],
   "source": [
    "from tqdm import tqdm_notebook\n",
    "from matplotlib.patches import Polygon\n",
    "import matplotlib as mpl\n",
    "import matplotlib.pyplot as plt\n",
    "\n",
    "from ipywidgets import interact, interactive, fixed\n",
    "import ipywidgets\n",
    "mpl.rcParams['figure.figsize'] = (5,3) \n",
    "\n",
    "import json\n",
    "from functional import seq"
   ]
  },
  {
   "cell_type": "code",
   "execution_count": 4,
   "metadata": {},
   "outputs": [
    {
     "data": {
      "text/plain": [
       "dict_keys(['СФ 033', 'ВУ фл', 'ВТ', 'ВТМ', 'ВТХ-10', 'ВТХ-20', 'ВТД-25', '4\\\\1', '4\\\\1 фл', '4\\\\7', '4\\\\7 св', '4\\\\7 фл ВБП', '4\\\\7 ПТ-3 фл', '4\\\\7 Ц гр', '5\\\\1', '5\\\\1 х-10', '5\\\\1 х-20', '5\\\\1 д-20', '5\\\\1 д-25', '5\\\\7 св', '5\\\\7 н\\\\а', '5\\\\7 в\\\\а', '5\\\\7 Ц фл', '6\\\\7 гр', '6\\\\7 БП гр', '6\\\\7 фл В БП', '6\\\\7 П-5 БП фл', '6\\\\7 фл ', '7\\\\1', '7\\\\1 фл БП', '7\\\\7', '7\\\\14', '7\\\\1 УГ', '8\\\\1 тр', '8\\\\7', '8\\\\1 УГ', '9\\\\7', '9\\\\7 МН', '9\\\\7 БП', '11\\\\1 БП', '11\\\\7', '11\\\\1 УГ', '12\\\\1 Тр', '12\\\\1 тр БП', '12\\\\1 тр МН', '12\\\\7', '12\\\\7 В\\\\А', '12\\\\1 УГ', '14\\\\1 тр В\\\\А', '14\\\\7', '14\\\\7 В\\\\А', '14\\\\7 БП', '15\\\\1 тр В\\\\А', '15\\\\7', '16\\\\1 тр', '16\\\\1 тр В\\\\А', '17\\\\7', '18\\\\1 тр', '18\\\\1 тр БП', '22\\\\1 тр', '22\\\\7', '23\\\\7', '28\\\\1 тр', '37\\\\1 тр', 'НДТ-3 16\\\\1', 'НДТ-3 18\\\\1', 'НДТ-3 19\\\\1', 'НДТ-3 23\\\\1', 'НДТ-3 32\\\\1', 'НДТ-3 152\\\\57', 'ДГ-2 15\\\\1', 'ДГ-2 17\\\\1', 'ДГ-3 13\\\\1', 'ДГ-3 14\\\\1', 'ДГ-3 17\\\\1', 'ДГ-3 18\\\\1', 'ДГ-3 20\\\\1', 'ДГ-3 23\\\\1', 'ДГ-4 13\\\\1', '100\\\\56', '100\\\\70', '130\\\\50', '130\\\\58 БП', '152\\\\57', '152\\\\57 Ш', '152\\\\57 БП', '180\\\\57', '180\\\\57 БП', '180\\\\57 Ш3 БП', '180\\\\60', 'НДТ-2 16\\\\1', 'НДТ-2 19\\\\1', 'НДТ-2 25\\\\1', 'НДТ-2 130\\\\50', 'НДТ-2 152\\\\57', 'ДГ-4 14\\\\1', 'ДГ-4 15\\\\1', 'НДГ-5', 'НДГ-6', 'НБ', ' АПЦ-235 П 16\\\\1', 'БНГ-1355 25\\\\1', 'МАП-1 23\\\\1', 'УГ-1', 'УГ-2', 'УГФ-1', 'Cr', 'ДРП', 'КЗДП', 'Флегматизатор', 'Свинцовая проволка', 'K2SO4', 'АФ-30'])"
      ]
     },
     "execution_count": 4,
     "metadata": {},
     "output_type": "execute_result"
    }
   ],
   "source": [
    "with open(wd+\"\\\\src\\\\\" + 'gpowders.json') as f:\n",
    "    all_powders = json.load(f)\n",
    "all_powders.keys()"
   ]
  },
  {
   "cell_type": "code",
   "execution_count": 5,
   "metadata": {},
   "outputs": [],
   "source": [
    "tps = sorted([(I_k, k) for k, d in all_powders.items() if isinstance(I_k:=d['I_k'], float) and I_k > 0.1])\n",
    "good_marks = [name for I_k, name in tps]\n",
    "I_ks = np.array([I_k for I_k, name in tps])"
   ]
  },
  {
   "cell_type": "code",
   "execution_count": 6,
   "metadata": {},
   "outputs": [
    {
     "data": {
      "text/plain": [
       "array([0.15 , 0.13 , 0.08 , 0.07 , 0.05 , 0.03 , 0.02 , 0.   , 0.   ,\n",
       "       0.02 , 0.02 , 0.03 , 0.05 , 0.05 , 0.07 , 0.08 , 0.09 , 0.1  ,\n",
       "       0.1  , 0.13 , 0.13 , 0.15 , 0.18 , 0.2  , 0.2  , 0.2  , 0.2  ,\n",
       "       0.2  , 0.21 , 0.26 , 0.3  , 0.38 , 0.38 , 0.4  , 0.4  , 0.42 ,\n",
       "       0.46 , 0.51 , 0.52 , 0.53 , 0.54 , 0.57 , 0.58 , 0.6  , 0.6  ,\n",
       "       0.61 , 0.63 , 0.64 , 0.66 , 0.7  , 0.74 , 0.75 , 0.775, 0.79 ,\n",
       "       0.79 , 0.8  , 0.82 , 0.83 , 0.84 , 0.85 , 0.86 , 0.86 , 0.88 ,\n",
       "       0.96 , 0.99 , 1.02 , 1.03 , 1.04 , 1.04 , 1.05 , 1.08 , 1.09 ,\n",
       "       1.1  , 1.12 , 1.13 , 1.16 , 1.18 , 1.2  , 1.22 , 1.221, 1.23 ,\n",
       "       1.23 , 1.24 , 1.34 , 1.37 , 1.39 , 1.43 , 1.52 , 1.53 , 1.54 ,\n",
       "       1.56 , 1.59 , 1.6  , 1.6  , 1.9  , 2.03 , 2.14 , 2.17 , 2.18 ,\n",
       "       2.2  , 2.29 , 2.4  , 2.41 ])"
      ]
     },
     "execution_count": 6,
     "metadata": {},
     "output_type": "execute_result"
    }
   ],
   "source": [
    "inds = np.abs(0.3 - I_ks)\n",
    "inds"
   ]
  },
  {
   "cell_type": "code",
   "execution_count": 7,
   "metadata": {},
   "outputs": [
    {
     "data": {
      "text/plain": [
       "array([  8,   7,   6,   9,  10,   5,  11,  13,  12,   4,   3,  14,   2,\n",
       "        15,  16,  18,  17,   1,  20,  19,   0,  21,  22,  27,  26,  25,\n",
       "        24,  23,  28,  29,  30,  31,  32,  33,  34,  35,  36,  37,  38,\n",
       "        39,  40,  41,  42,  43,  44,  45,  46,  47,  48,  49,  50,  51,\n",
       "        52,  53,  54,  55,  56,  57,  58,  59,  60,  61,  62,  63,  64,\n",
       "        65,  66,  67,  68,  69,  70,  71,  72,  73,  74,  75,  76,  77,\n",
       "        78,  79,  80,  81,  82,  83,  84,  85,  86,  87,  88,  89,  90,\n",
       "        91,  92,  93,  94,  95,  96,  97,  98,  99, 100, 101, 102],\n",
       "      dtype=int64)"
      ]
     },
     "execution_count": 7,
     "metadata": {},
     "output_type": "execute_result"
    }
   ],
   "source": [
    "np.argsort(inds)"
   ]
  },
  {
   "cell_type": "code",
   "execution_count": 8,
   "metadata": {},
   "outputs": [
    {
     "data": {
      "text/plain": [
       "[(0.15, 'ВУ фл'),\n",
       " (0.17, 'СФ 033'),\n",
       " (0.22, 'ВТ'),\n",
       " (0.23, 'ВТМ'),\n",
       " (0.25, '5\\\\1'),\n",
       " (0.27, 'ВТХ-10'),\n",
       " (0.28, '4\\\\7 ПТ-3 фл'),\n",
       " (0.3, '4\\\\1'),\n",
       " (0.3, '4\\\\7 Ц гр'),\n",
       " (0.32, '4\\\\7'),\n",
       " (0.32, '5\\\\7 н\\\\а'),\n",
       " (0.33, '4\\\\7 св'),\n",
       " (0.35, '5\\\\7 Ц фл'),\n",
       " (0.35, '5\\\\7 св'),\n",
       " (0.37, '5\\\\7 в\\\\а'),\n",
       " (0.38, '4\\\\7 фл ВБП'),\n",
       " (0.39, 'ВТХ-20'),\n",
       " (0.4, '4\\\\1 фл'),\n",
       " (0.4, '7\\\\14'),\n",
       " (0.43, '6\\\\7 фл '),\n",
       " (0.43, '6\\\\7 фл В БП'),\n",
       " (0.45, 'ВТД-25'),\n",
       " (0.48, '6\\\\7 П-5 БП фл'),\n",
       " (0.5, '5\\\\1 х-10'),\n",
       " (0.5, '6\\\\7 гр'),\n",
       " (0.5, '7\\\\1'),\n",
       " (0.5, '7\\\\7'),\n",
       " (0.5, '8\\\\7'),\n",
       " (0.51, '7\\\\1 фл БП'),\n",
       " (0.56, '6\\\\7 БП гр'),\n",
       " (0.6, '9\\\\7'),\n",
       " (0.68, '11\\\\7'),\n",
       " (0.68, '5\\\\1 д-20'),\n",
       " (0.7, '5\\\\1 х-20'),\n",
       " (0.7, '8\\\\1 тр'),\n",
       " (0.72, '12\\\\7 В\\\\А'),\n",
       " (0.76, '9\\\\7 МН'),\n",
       " (0.81, '12\\\\7'),\n",
       " (0.82, '5\\\\1 д-25'),\n",
       " (0.83, '14\\\\7 В\\\\А'),\n",
       " (0.84, '14\\\\1 тр В\\\\А'),\n",
       " (0.87, '12\\\\1 Тр'),\n",
       " (0.88, '12\\\\1 тр МН'),\n",
       " (0.9, '7\\\\1 УГ'),\n",
       " (0.9, 'ДГ-4 13\\\\1'),\n",
       " (0.91, '15\\\\1 тр В\\\\А'),\n",
       " (0.93, '15\\\\7'),\n",
       " (0.94, '9\\\\7 БП'),\n",
       " (0.96, '14\\\\7'),\n",
       " (1.0, '8\\\\1 УГ'),\n",
       " (1.04, '16\\\\1 тр В\\\\А'),\n",
       " (1.05, 'ДГ-4 14\\\\1'),\n",
       " (1.075, 'ДГ-3 13\\\\1'),\n",
       " (1.09, '11\\\\1 БП'),\n",
       " (1.09, '12\\\\1 тр БП'),\n",
       " (1.1, '18\\\\1 тр'),\n",
       " (1.12, 'ДГ-4 15\\\\1'),\n",
       " (1.13, '16\\\\1 тр'),\n",
       " (1.14, ' АПЦ-235 П 16\\\\1'),\n",
       " (1.15, 'ДГ-3 14\\\\1'),\n",
       " (1.16, '100\\\\70'),\n",
       " (1.16, '17\\\\7'),\n",
       " (1.18, 'МАП-1 23\\\\1'),\n",
       " (1.26, 'БНГ-1355 25\\\\1'),\n",
       " (1.29, 'НДТ-3 16\\\\1'),\n",
       " (1.32, '28\\\\1 тр'),\n",
       " (1.33, '22\\\\1 тр'),\n",
       " (1.34, 'ДГ-2 15\\\\1'),\n",
       " (1.34, 'УГФ-1'),\n",
       " (1.35, 'УГ-1'),\n",
       " (1.38, '14\\\\7 БП'),\n",
       " (1.39, 'ДГ-3 17\\\\1'),\n",
       " (1.4, '180\\\\57 Ш3 БП'),\n",
       " (1.42, 'НДТ-2 16\\\\1'),\n",
       " (1.43, '11\\\\1 УГ'),\n",
       " (1.46, 'НДТ-3 18\\\\1'),\n",
       " (1.48, 'ДГ-3 18\\\\1'),\n",
       " (1.5, '12\\\\1 УГ'),\n",
       " (1.52, 'ДГ-2 17\\\\1'),\n",
       " (1.521, '100\\\\56'),\n",
       " (1.53, '18\\\\1 тр БП'),\n",
       " (1.53, '22\\\\7'),\n",
       " (1.54, 'НДТ-3 19\\\\1'),\n",
       " (1.64, 'ДГ-3 20\\\\1'),\n",
       " (1.67, '23\\\\7'),\n",
       " (1.69, 'НДТ-2 19\\\\1'),\n",
       " (1.73, '180\\\\57'),\n",
       " (1.82, '152\\\\57 БП'),\n",
       " (1.83, '152\\\\57 Ш'),\n",
       " (1.84, '130\\\\50'),\n",
       " (1.86, 'НДТ-3 23\\\\1'),\n",
       " (1.89, 'ДГ-3 23\\\\1'),\n",
       " (1.9, 'НДТ-2 130\\\\50'),\n",
       " (1.9, 'НДТ-2 152\\\\57'),\n",
       " (2.2, 'НДТ-2 25\\\\1'),\n",
       " (2.33, '130\\\\58 БП'),\n",
       " (2.44, 'НДТ-3 152\\\\57'),\n",
       " (2.47, '152\\\\57'),\n",
       " (2.48, '37\\\\1 тр'),\n",
       " (2.5, '180\\\\57 БП'),\n",
       " (2.59, 'НДТ-3 32\\\\1'),\n",
       " (2.7, '180\\\\60'),\n",
       " (2.71, 'УГ-2')]"
      ]
     },
     "execution_count": 8,
     "metadata": {},
     "output_type": "execute_result"
    }
   ],
   "source": [
    "tps"
   ]
  },
  {
   "cell_type": "code",
   "execution_count": 9,
   "metadata": {},
   "outputs": [],
   "source": [
    "from opti.Chromosome import DRange, SRange,ChromoController\n",
    "from conegene import ConeGene\n",
    "import numpy.random as rnd\n",
    "from copy import deepcopy"
   ]
  },
  {
   "cell_type": "code",
   "execution_count": 10,
   "metadata": {},
   "outputs": [],
   "source": [
    "with open(wd+\"\\\\src\\\\\" + 'gpowders.json') as f:\n",
    "    all_powders = json.load(f)\n",
    "\n",
    "class StructureVariant:\n",
    "    def __init__(self, struct_str):\n",
    "        self.struct_str = struct_str.upper()\n",
    "        self._init_chromo_contrs()\n",
    "        \n",
    "    def get_chromo(self):\n",
    "        res =  {\n",
    "            'muzzle': self.Muzzle_cc.get_chromo(),\n",
    "            'layers': [lr.get_chromo() for lr in self.Layers_cc],\n",
    "            'borders': [br.get_chromo() for br in self.Borders_cc]\n",
    "        }\n",
    "        return self.synch_powders(res)\n",
    "    \n",
    "    def cross(self, chromo1, chromo2):\n",
    "        res = {\n",
    "            'muzzle': self.Muzzle_cc.cross(chromo1['muzzle'], chromo2['muzzle']),\n",
    "            'layers': [lr_cc.cross(ch1, ch2) for lr_cc, ch1, ch2 in zip(self.Layers_cc, chromo1['layers'], chromo2['layers'])],\n",
    "            'borders': [lr_cc.cross(ch1, ch2) for lr_cc, ch1, ch2 in zip(self.Borders_cc, chromo1['borders'], chromo2['borders'])]\n",
    "        }\n",
    "        return self.synch_powders(res)\n",
    "    \n",
    "    def mutate(self, chromo, n_genes):\n",
    "        res = deepcopy(chromo)\n",
    "        for i in range(n_genes):\n",
    "            p = np.array([1, len(res['layers']), len(res['borders'])])\n",
    "            what_mutate = rnd.choice(['muzzle', 'layers', 'borders'], p=p/np.sum(p))\n",
    "            if what_mutate == 'muzzle':\n",
    "                res['muzzle'] = self.Muzzle_cc.mutate(res['muzzle'])\n",
    "            elif what_mutate == 'layers':\n",
    "                i_lr = rnd.choice(len(res['layers']))\n",
    "                res['layers'][i_lr] = self.Layers_cc[i_lr].mutate(res['layers'][i_lr])\n",
    "            else:\n",
    "                i_br = rnd.choice(len(res['borders']))\n",
    "                res['borders'][i_br] = self.Borders_cc[i_br].mutate(res['borders'][i_br])\n",
    "        return self.synch_powders(res)\n",
    "        \n",
    "    \n",
    "    def synch_powders(self, res):\n",
    "        for i, lr_type in enumerate(self.struct_str):\n",
    "            if lr_type == 'P':\n",
    "                I_k = res['layers'][i]['mark_i']\n",
    "                res['layers'][i]['mark'] = self.good_marks[np.argmin(np.abs(I_k - self.I_ks))]\n",
    "        return res\n",
    "        \n",
    "    def _init_chromo_contrs(self):\n",
    "        self.Muzzle_cc = self._get_muzzle_chromo_contr()\n",
    "        self.Layers_cc = []\n",
    "        self.Borders_cc = []\n",
    "        for lr_type in self.struct_str:\n",
    "            if lr_type == 'G':\n",
    "                self.Layers_cc.append(self._get_gas_chromo_contr())\n",
    "            elif lr_type == 'P':\n",
    "                self.Layers_cc.append(self._get_powder_chromo_contr())\n",
    "            elif lr_type == 'E':\n",
    "                self.Layers_cc.append(self._get_elastic_chromo_contr())\n",
    "            self.Borders_cc.append(self._get_border_chromo_contr())\n",
    "        self.Borders_cc[-1] = self._get_border_chromo_contr(last=True)\n",
    "        \n",
    "    def _get_gas_chromo_contr(self):\n",
    "        gas_type = SRange(['Air', 'He', 'CO2'], 'gas_type')\n",
    "        W_gas = DRange(0.012, 0.05, 'W_gas')\n",
    "        p_gas = DRange(0.1e6, 150e6, 'p_gas')\n",
    "        return ChromoController([gas_type, W_gas, p_gas])\n",
    "    \n",
    "    def _get_elastic_chromo_contr(self):\n",
    "        return ChromoController([DRange(0.1, 10, 'm_dp')])\n",
    "    \n",
    "    def _get_powder_chromo_contr(self):\n",
    "        tps = sorted([(I_k, k) for k, d in all_powders.items() if isinstance(I_k:=d['I_k'], float) and I_k > 0.1])\n",
    "        self.good_marks = [name for I_k, name in tps]\n",
    "        self.I_ks = np.arange(len(self.good_marks))\n",
    "        \n",
    "        mark = SRange(self.good_marks, 'mark')\n",
    "        omega = DRange(0.5, 15, 'omega')\n",
    "        mark_i = DRange(self.I_ks[0], self.I_ks[-1], 'mark_i')\n",
    "        delta = DRange(300, 1000, 'delta')\n",
    "        t_ign = DRange(0, 2e-3, 't_ign')\n",
    "        return ChromoController([mark, mark_i, omega, delta, t_ign])\n",
    "    \n",
    "    def _get_border_chromo_contr(self, last=False):\n",
    "        m_pr = DRange(0.1, 10, 'm_pr')\n",
    "        p_f = DRange(0.1e6, 60e6, 'p_f')\n",
    "        genes = [p_f] if last else [m_pr, p_f]\n",
    "        return ChromoController(genes)\n",
    "        \n",
    "    def _get_muzzle_chromo_contr(self):\n",
    "        self.d1 = 0.125\n",
    "        L1 = DRange(2,6,'L1')\n",
    "        L2 = DRange(1,4,'L2')\n",
    "        Lcone = DRange(0.3,2.5,'Lcone')\n",
    "        d2 = DRange(0.085, self.d1, 'd2') \n",
    "        Cone = ConeGene(Lcone, d2, self.d1, 3)\n",
    "        return ChromoController([L1, L2, Cone])\n",
    "    \n",
    "    def chromo_to_sandw_dict(self, chromo):\n",
    "        muzzle = chromo['muzzle']\n",
    "        x1 = muzzle['L1']\n",
    "        tube_points = [(0, self.d1), (x1, self.d1)]\n",
    "        Cone = muzzle['Cone']\n",
    "        for x, d in Cone['points_xd']:\n",
    "            tube_points.append((x1 + x, d))\n",
    "        tube_points.append((x1 + Cone['Lcone'], Cone['d2']))\n",
    "        tube_points.append((x1 + Cone['Lcone'] + muzzle['L2'], Cone['d2']))\n",
    "        \n",
    "        layers = []\n",
    "        for lr_dict, lr_type in zip(chromo['layers'], self.struct_str):\n",
    "            if lr_type == 'G':\n",
    "                name = lr_dict['gas_type']\n",
    "                d = {\n",
    "                    'type': 'gas',\n",
    "                    'name': name,\n",
    "                    'gamma': 1.4 if name=='Air' else 1.3 if name=='CO2' else 1.66,\n",
    "                    'kappa': 0.0010838 if name=='Air' else 0.0009702 if name=='CO2' else 0.005925,\n",
    "                    'R': 287. if name=='Air' else 189. if name=='CO2' else 2078.,\n",
    "                    'T_0': 283, # K\n",
    "                    'W_0': lr_dict['W_gas'],  # м^3 объем газа\n",
    "                    'p_0': lr_dict['p_gas'], # начальное давление газа\n",
    "                    'u_0': 0     #начальная скорость \n",
    "                }\n",
    "            elif lr_type == 'P':\n",
    "                name = lr_dict['mark']\n",
    "                d = {\n",
    "                    'type': 'powder',\n",
    "                    'powder': all_powders[name],\n",
    "                    'omega': lr_dict['omega']*1000,\n",
    "                    'delta': lr_dict['delta'],\n",
    "                    't_ign': lr_dict['t_ign'], # начало горения\n",
    "                    'p_0': 5e6, # начальное давление\n",
    "                    'u_0': 0,     #начальная скорость\n",
    "                }\n",
    "            else:\n",
    "                d = {\n",
    "                    'type': 'pist',\n",
    "                    'omega': lr_dict['m_dp'],  # кг\n",
    "                    'p_0': 5e6, # начальное давление в полиэтилене\n",
    "                    'u_0': 0,     #начальная скорость\n",
    "                    'ElPistEOS_kwargs': dict(\n",
    "                        k=1.63098, \n",
    "                        c_0=2308, \n",
    "                        ro_0=919.03, \n",
    "                        sigma_star=25.2, \n",
    "                        k_0=0.054, \n",
    "                        b_1=0.027, \n",
    "                        b_2=0.00675, \n",
    "                        tau_0=1.36, \n",
    "                        mu=0.001, \n",
    "                        tau_s=1,                 \n",
    "                        zeroP=False, \n",
    "                        zeroE=True)\n",
    "                }\n",
    "            layers.append(d)\n",
    "        \n",
    "        borders = [\n",
    "            {\n",
    "            'mass': 1000, # kg\n",
    "            'p_f': 100000e6, #Pa\n",
    "            't_init': -1,\n",
    "            'w_border': 0.00, #m\n",
    "        }]\n",
    "        for bd in chromo['borders'][:-1]:\n",
    "            borders.append({\n",
    "                'mass': bd['m_pr'],\n",
    "                'p_f': bd['p_f'],\n",
    "                't_init': -1,\n",
    "                'w_border': 0\n",
    "            })\n",
    "        borders.append({\n",
    "            'mass': 5.3,\n",
    "            'p_f': chromo['borders'][-1]['p_f'],\n",
    "            't_init': -1,\n",
    "            'w_border': 0,\n",
    "            'p_a_right': 1e5\n",
    "        })\n",
    "        return {\n",
    "            'tube': {'tube_points': tube_points},\n",
    "            'x_left': 0,\n",
    "            'layers': layers,\n",
    "            'borders': borders,\n",
    "            'calc_settings': {\n",
    "                'powder_settings': {\n",
    "                    'cell_dx': 0.0025,\n",
    "                    'n_cells_min': 13,\n",
    "                    'n_cells_max': 2000,\n",
    "                    'GasFluxCalculator_kwargs': {'flux_type':2},\n",
    "                    'GridStrecher_kwargs': {}\n",
    "                },\n",
    "                'gas_settings': {\n",
    "                    'cell_dx': 0.0025,\n",
    "                    'n_cells_min': 13,\n",
    "                    'n_cells_max': 2000,\n",
    "                    'GasFluxCalculator_kwargs': {'flux_type':2},\n",
    "                    'GridStrecher_kwargs': {}\n",
    "                },\n",
    "                'pist_settings': {\n",
    "                    'cell_dx': 0.0025,\n",
    "                    'n_cells_min': 13,\n",
    "                    'n_cells_max': 2000,\n",
    "                    'GasFluxCalculator_kwargs': {'flux_type':1},\n",
    "                    'GridStrecher_kwargs': {}\n",
    "                }\n",
    "            }\n",
    "        }\n",
    "        \n",
    "                "
   ]
  },
  {
   "cell_type": "code",
   "execution_count": 11,
   "metadata": {},
   "outputs": [
    {
     "data": {
      "image/png": "[encoded data removed]",
      "text/plain": [
       "<Figure size 720x288 with 2 Axes>"
      ]
     },
     "metadata": {
      "needs_background": "light"
     },
     "output_type": "display_data"
    },
    {
     "data": {
      "text/plain": [
       "Sandwich i=0; t=0.0 ms;  vel=0.0 m/s;  p_max=59.987951994509395 MPa\n",
       "layers:\n",
       "0) PowderOvLayer(n_cells=101); \n",
       "        {'p_max':5000000.0, 'tau_min': 2.0105832175331948e-05, \n",
       "        'u_max': 0.0, 'cs_max': 124.86290335905989, 'dx_min': 0.00251047257986195, \n",
       "        'x_1': 0.0, 'x_2': 0.2535577305660581,\n",
       "        'V_1':  0.0, 'V_2':  0.0  }\n",
       "        { 'powder': r'5\\7 н\\а', 'z_max': 0.0, 't_ign'=0.001095701680867149 }\n",
       "1) ElPistLayer(n_cells=27); \n",
       "        {'p_max':5000000.0, 'tau_min': 1.0746394772184784e-06, \n",
       "        'u_max': 0.0, 'cs_max': 2309.9215089187046, 'dx_min': 0.0024823328427601155, \n",
       "        'x_1': 0.2535577305660581, 'x_2': 0.32058071732058124,\n",
       "        'V_1':  0.0, 'V_2':  0.0  }\n",
       "2) GasLayer(n_cells=1349); \n",
       "        {'p_max':59987951.9945094, 'tau_min': 1.577417733482589e-06, \n",
       "        'u_max': 0.0, 'cs_max': 1585.1894128019353, 'dx_min': 0.002500505890682625, \n",
       "        'x_1': 0.32058071732058124, 'x_2': 3.6937631638522817,\n",
       "        'V_1':  0.0, 'V_2':  0.0  }\n",
       "3) ElPistLayer(n_cells=240); \n",
       "        {'p_max':5000000.0, 'tau_min': 1.084351663132657e-06, \n",
       "        'u_max': 0.0, 'cs_max': 2309.9215089187046, 'dx_min': 0.002504767229901894, \n",
       "        'x_1': 3.6937631638522817, 'x_2': 4.2949072990287505,\n",
       "        'V_1':  0.0, 'V_2':  0.0  }"
      ]
     },
     "execution_count": 11,
     "metadata": {},
     "output_type": "execute_result"
    }
   ],
   "source": [
    "from sandwich import Sandwich   \n",
    "\n",
    "sv = StructureVariant('PEGE')\n",
    "sandwich_dict = sv.chromo_to_sandw_dict(sv.get_chromo())\n",
    "\n",
    "sandw0 = Sandwich.get_standart(sandwich_dict)\n",
    "\n",
    "fig, (ax1, ax2) = plt.subplots(nrows=2, sharex=True, figsize=(10,4), gridspec_kw={'height_ratios':[2, 1]})\n",
    "sandw0.plot_param(fig, ax1, 'ps')\n",
    "sandw0.plot(fig, ax2)\n",
    "ax2.set_ylim(-0.1,0.15)\n",
    "ax1.grid(True)\n",
    "plt.subplots_adjust(hspace=.0)\n",
    "\n",
    "plt.show()\n",
    "\n",
    "sandw0"
   ]
  },
  {
   "cell_type": "code",
   "execution_count": 12,
   "metadata": {},
   "outputs": [],
   "source": [
    "def foo(sandwich_dict):\n",
    "    from sandwich import Sandwich   \n",
    "    import numpy as np\n",
    "    from math import sqrt, pi\n",
    "    \n",
    "    def get_p_a(v_p):\n",
    "        p_a = 1e5\n",
    "        k_air = 1.4\n",
    "        c_0a = 340\n",
    "        mach = v_p/c_0a\n",
    "        mach_ = (k_air+1)*v_p/4/c_0a           \n",
    "        p_a *= 1 + k_air*(k_air+1)/4*(mach*mach) + k_air*mach*sqrt(1+mach_*mach_)\n",
    "        return p_a\n",
    "    \n",
    "    try:\n",
    "        sandw = Sandwich.get_standart(sandwich_dict)\n",
    "        p_max = 0\n",
    "        v = 0\n",
    "        for i in range(150000):\n",
    "            p_maxi = sandw.get_p_max()\n",
    "            if p_maxi > p_max:\n",
    "                p_max = p_maxi\n",
    "            if p_maxi > 700e6:\n",
    "                break\n",
    "            if sandw.get_x_projectile() > sandw.tube.get_x_right():\n",
    "                break\n",
    "            v = sandw.layers[-1].Vs_borders[-1]\n",
    "            sandw.borders[-1].p_a_right = get_p_a(v)\n",
    "            sandw = sandw.simple_step(0.49)\n",
    "        return True, v, p_max\n",
    "    except Exception as e:\n",
    "        return False, str(e), 0\n"
   ]
  },
  {
   "cell_type": "code",
   "execution_count": 171,
   "metadata": {},
   "outputs": [
    {
     "data": {
      "text/plain": [
       "(True, 32.689266733930054, 701982931.0902718)"
      ]
     },
     "execution_count": 171,
     "metadata": {},
     "output_type": "execute_result"
    }
   ],
   "source": [
    "foo(sandwich_dict)"
   ]
  },
  {
   "cell_type": "code",
   "execution_count": 103,
   "metadata": {},
   "outputs": [
    {
     "data": {
      "text/html": [
       "<table style=\"border: 2px solid white;\">\n",
       "<tr>\n",
       "<td style=\"vertical-align: top; border: 0px solid white\">\n",
       "<h3 style=\"text-align: left;\">Client</h3>\n",
       "<ul style=\"text-align: left; list-style: none; margin: 0; padding: 0;\">\n",
       "  <li><b>Scheduler: </b>tcp://172.16.49.81:8786</li>\n",
       "  <li><b>Dashboard: </b><a href='http://172.16.49.81:8787/status' target='_blank'>http://172.16.49.81:8787/status</a></li>\n",
       "</ul>\n",
       "</td>\n",
       "<td style=\"vertical-align: top; border: 0px solid white\">\n",
       "<h3 style=\"text-align: left;\">Cluster</h3>\n",
       "<ul style=\"text-align: left; list-style:none; margin: 0; padding: 0;\">\n",
       "  <li><b>Workers: </b>124</li>\n",
       "  <li><b>Cores: </b>124</li>\n",
       "  <li><b>Memory: </b>204.33 GB</li>\n",
       "</ul>\n",
       "</td>\n",
       "</tr>\n",
       "</table>"
      ],
      "text/plain": [
       "<Client: 'tcp://172.20.0.3:8786' processes=124 threads=124, memory=204.33 GB>"
      ]
     },
     "execution_count": 103,
     "metadata": {},
     "output_type": "execute_result"
    }
   ],
   "source": [
    "from distributed import Client\n",
    "\n",
    "cl = Client('172.16.49.81:8786')\n",
    "cl"
   ]
  },
  {
   "cell_type": "code",
   "execution_count": 104,
   "metadata": {},
   "outputs": [],
   "source": [
    "cl.upload_file('sandwich.py')"
   ]
  },
  {
   "cell_type": "code",
   "execution_count": 105,
   "metadata": {},
   "outputs": [],
   "source": [
    "sv = StructureVariant('PEGE')"
   ]
  },
  {
   "cell_type": "code",
   "execution_count": 14,
   "metadata": {},
   "outputs": [],
   "source": [
    "# import pickle\n",
    "# with open('PEGE.bin', 'rb') as f:\n",
    "#     history = pickle.load(f)"
   ]
  },
  {
   "cell_type": "code",
   "execution_count": 66,
   "metadata": {},
   "outputs": [],
   "source": [
    "# import pickle\n",
    "# with open('PEGEpool.bin', 'wb') as f:\n",
    "#     pickle.dump(person_pool, f)"
   ]
  },
  {
   "cell_type": "code",
   "execution_count": 64,
   "metadata": {},
   "outputs": [
    {
     "data": {
      "image/png": "[encoded data removed]",
      "text/plain": [
       "<Figure size 720x288 with 3 Axes>"
      ]
     },
     "metadata": {
      "needs_background": "light"
     },
     "output_type": "display_data"
    }
   ],
   "source": [
    "chromo1 = rnd.choice(generations[-1][0])\n",
    "chromo2 = rnd.choice(generations[-1][0])\n",
    "chromo3 = sv.cross(chromo1, chromo2)\n",
    "\n",
    "sandwich_dict1 = sv.chromo_to_sandw_dict(chromo1)\n",
    "sandw1 = Sandwich.get_standart(sandwich_dict1)\n",
    "\n",
    "sandwich_dict2 = sv.chromo_to_sandw_dict(chromo2)\n",
    "sandw2 = Sandwich.get_standart(sandwich_dict2)\n",
    "\n",
    "sandwich_dict3 = sv.chromo_to_sandw_dict(chromo3)\n",
    "sandw3 = Sandwich.get_standart(sandwich_dict3)\n",
    "\n",
    "fig, (ax1, ax2, ax3) = plt.subplots(nrows=3, sharex=True, figsize=(10,4), gridspec_kw={'height_ratios':[1, 1, 1]})\n",
    "\n",
    "sandw1.plot(fig, ax1)\n",
    "ax1.set_ylim(-0.01,0.08)\n",
    "ax1.set_xlim(-0.2, 13)\n",
    "\n",
    "sandw2.plot(fig, ax2)\n",
    "ax2.set_ylim(-0.01,0.08)\n",
    "ax2.set_xlim(-0.2, 13)\n",
    "\n",
    "sandw3.plot(fig, ax3)\n",
    "ax3.set_ylim(-0.01,0.08)\n",
    "ax3.set_xlim(-0.2, 13)\n",
    "\n",
    "\n",
    "plt.subplots_adjust(hspace=.0)\n",
    "plt.show()"
   ]
  },
  {
   "cell_type": "code",
   "execution_count": 61,
   "metadata": {},
   "outputs": [
    {
     "data": {
      "image/png": "[encoded data removed]",
      "text/plain": [
       "<Figure size 720x288 with 3 Axes>"
      ]
     },
     "metadata": {
      "needs_background": "light"
     },
     "output_type": "display_data"
    }
   ],
   "source": [
    "chromo1 = rnd.choice(generations[-1][0])\n",
    "chromo2 = sv.mutate(chromo1, 1)\n",
    "chromo3 = sv.mutate(chromo1, 100)\n",
    "\n",
    "sandwich_dict1 = sv.chromo_to_sandw_dict(chromo1)\n",
    "sandw1 = Sandwich.get_standart(sandwich_dict1)\n",
    "\n",
    "sandwich_dict2 = sv.chromo_to_sandw_dict(chromo2)\n",
    "sandw2 = Sandwich.get_standart(sandwich_dict2)\n",
    "\n",
    "sandwich_dict3 = sv.chromo_to_sandw_dict(chromo3)\n",
    "sandw3 = Sandwich.get_standart(sandwich_dict3)\n",
    "\n",
    "fig, (ax1, ax2, ax3) = plt.subplots(nrows=3, sharex=True, figsize=(10,4), gridspec_kw={'height_ratios':[1, 1, 1]})\n",
    "\n",
    "sandw1.plot(fig, ax1)\n",
    "ax1.set_ylim(-0.01,0.08)\n",
    "ax1.set_xlim(-0.2, 13)\n",
    "\n",
    "sandw2.plot(fig, ax2)\n",
    "ax2.set_ylim(-0.01,0.08)\n",
    "ax2.set_xlim(-0.2, 13)\n",
    "\n",
    "sandw3.plot(fig, ax3)\n",
    "ax3.set_ylim(-0.01,0.08)\n",
    "ax3.set_xlim(-0.2, 13)\n",
    "\n",
    "\n",
    "\n",
    "plt.subplots_adjust(hspace=.0)\n",
    "plt.show()"
   ]
  },
  {
   "cell_type": "code",
   "execution_count": 73,
   "metadata": {},
   "outputs": [],
   "source": [
    "# history = []\n",
    "# for gener in generations:\n",
    "#     for chromo, result in zip(*gener):\n",
    "#         history.append({\n",
    "#             'chromo': chromo,\n",
    "#             'result': result,\n",
    "#             'fitness': None\n",
    "#         })"
   ]
  },
  {
   "cell_type": "code",
   "execution_count": 17,
   "metadata": {},
   "outputs": [],
   "source": [
    "\n",
    "# for person in history:\n",
    "#     fitness(person)\n",
    "# history = [person for person in history if person['fitness'] > -10000]"
   ]
  },
  {
   "cell_type": "code",
   "execution_count": 18,
   "metadata": {},
   "outputs": [],
   "source": [
    "person_pool = history"
   ]
  },
  {
   "cell_type": "code",
   "execution_count": 106,
   "metadata": {},
   "outputs": [],
   "source": [
    "def fitness(person):\n",
    "    suc, v, p = person['result']\n",
    "    if not suc or np.isnan(v) or np.isnan(p):\n",
    "        person['fitness'] = -99999\n",
    "        return\n",
    "    shtraf = 0 if p < 550e6 else 2e-5 * (p - 550e6)\n",
    "    person['fitness'] = v - shtraf\n",
    "    \n",
    "def filternan(gener):\n",
    "    res = []\n",
    "    for person in gener:\n",
    "        suc, v, p = person['result']\n",
    "        fit = person['fitness']\n",
    "        if suc and not (np.isnan(v) or np.isnan(p) or np.isnan(fit)) and fit is not None:\n",
    "            res.append(person)\n",
    "    return res\n",
    "    \n",
    "def get_children(gener, n_children):\n",
    "    fitnesses = np.array([person['fitness'] for person in gener])\n",
    "    result = []\n",
    "    ps = (fitnesses - np.min(fitnesses))/(np.max(fitnesses) - np.min(fitnesses))\n",
    "    ps /= np.sum(ps)\n",
    "    for i in range(n_children):\n",
    "        person1, person2 = rnd.choice(gener, p=ps, size=2)\n",
    "        result.append({\n",
    "            'chromo': sv.cross(person1['chromo'], person2['chromo']),\n",
    "            'result': None,\n",
    "            'fitness': None\n",
    "        })\n",
    "    return result\n",
    "\n",
    "def get_mutants(gener, n_mutants, m_mut_genes=7):\n",
    "    result = []\n",
    "    for m, person in zip(rnd.choice(m_mut_genes, size=n_mutants), rnd.choice(gener, size=n_mutants)):\n",
    "        result.append({\n",
    "            'chromo': sv.mutate(person['chromo'], m),\n",
    "            'result': None,\n",
    "            'fitness': None\n",
    "        })\n",
    "    return result\n",
    "\n",
    "def get_elite(gener, n_elite):\n",
    "    fitnesses = np.array([person['fitness'] for person in gener])\n",
    "    inds = np.argsort(fitnesses)[::-1]\n",
    "    result = []\n",
    "    for i in inds[:n_elite]:\n",
    "        result.append(deepcopy(gener[i]))\n",
    "    return result\n",
    "\n",
    "def get_fitnessless(gener):\n",
    "    return [person for person in gener if person['fitness'] is None]\n",
    "\n",
    "def get_resultless(gener):\n",
    "    return [person for person in gener if person['result'] is None]"
   ]
  },
  {
   "cell_type": "code",
   "execution_count": 107,
   "metadata": {},
   "outputs": [
    {
     "data": {
      "text/plain": [
       "(array([  103.,   132.,   204.,   301.,   534.,  2648., 11031.,   180.,\n",
       "         3111.,  1417.]),\n",
       " array([-9991.89003972, -8873.42459534, -7754.95915097, -6636.4937066 ,\n",
       "        -5518.02826223, -4399.56281786, -3281.09737348, -2162.63192911,\n",
       "        -1044.16648474,    74.29895963,  1192.764404  ]),\n",
       " <BarContainer object of 10 artists>)"
      ]
     },
     "execution_count": 107,
     "metadata": {},
     "output_type": "execute_result"
    },
    {
     "data": {
      "image/png": "[encoded data removed]",
      "text/plain": [
       "<Figure size 360x216 with 1 Axes>"
      ]
     },
     "metadata": {
      "needs_background": "light"
     },
     "output_type": "display_data"
    }
   ],
   "source": [
    "fitnesses = np.array([person['fitness'] for person in person_pool])\n",
    "plt.hist(fitnesses)"
   ]
  },
  {
   "cell_type": "code",
   "execution_count": 128,
   "metadata": {},
   "outputs": [
    {
     "data": {
      "text/plain": [
       "(array([  3.,   9.,  14.,  18.,  44., 292., 806.,  18., 304., 192.]),\n",
       " array([-9388.73229919, -8343.13484843, -7297.53739767, -6251.9399469 ,\n",
       "        -5206.34249614, -4160.74504538, -3115.14759461, -2069.55014385,\n",
       "        -1023.95269309,    21.64475768,  1067.24220844]),\n",
       " <BarContainer object of 10 artists>)"
      ]
     },
     "execution_count": 128,
     "metadata": {},
     "output_type": "execute_result"
    },
    {
     "data": {
      "image/png": "[encoded data removed]",
      "text/plain": [
       "<Figure size 360x216 with 1 Axes>"
      ]
     },
     "metadata": {
      "needs_background": "light"
     },
     "output_type": "display_data"
    }
   ],
   "source": [
    "from scipy.special import softmax\n",
    "ps = (fitnesses - np.min(fitnesses))/(np.max(fitnesses) - np.min(fitnesses))\n",
    "generation0 = list(rnd.choice(person_pool, p=softmax(ps), size=1700, replace=False))\n",
    "plt.hist([person['fitness'] for person in generation0])"
   ]
  },
  {
   "cell_type": "code",
   "execution_count": null,
   "metadata": {},
   "outputs": [],
   "source": []
  },
  {
   "cell_type": "code",
   "execution_count": 129,
   "metadata": {},
   "outputs": [],
   "source": [
    "history = [generation0]"
   ]
  },
  {
   "cell_type": "code",
   "execution_count": 130,
   "metadata": {},
   "outputs": [
    {
     "data": {
      "text/plain": [
       "1"
      ]
     },
     "execution_count": 130,
     "metadata": {},
     "output_type": "execute_result"
    }
   ],
   "source": [
    "len(history)"
   ]
  },
  {
   "cell_type": "code",
   "execution_count": 179,
   "metadata": {},
   "outputs": [
    {
     "data": {
      "application/vnd.jupyter.widget-view+json": {
       "model_id": "4bebb69895f441ee84f4e5ca5226e16e",
       "version_major": 2,
       "version_minor": 0
      },
      "text/plain": [
       "HBox(children=(FloatProgress(value=0.0, max=2.0), HTML(value='')))"
      ]
     },
     "metadata": {},
     "output_type": "display_data"
    }
   ],
   "source": [
    "from tqdm.notebook import tqdm\n",
    "import pickle\n",
    "import time\n",
    "import threading\n",
    "\n",
    "# for i, gener1 in enumerate(history):\n",
    "#     gener1 = filternan(gener1)\n",
    "#     fitnesses = np.array([person['fitness'] for person in gener1])\n",
    "#     imax = np.argmax(fitnesses)\n",
    "#     print(f'Generation #{i} max fitness {fitnesses[imax]}  V = {gener1[imax][\"result\"][1]}  p = {gener1[imax][\"result\"][2]}')\n",
    "\n",
    "def evolve(n):\n",
    "    for i in tqdm(range(n)):\n",
    "        gener0 = filternan(history[-1])\n",
    "        gener1 = get_elite(gener0, 10) + get_children(gener0, 1000) + get_mutants(gener0, 500, 3)\n",
    "\n",
    "        resultless = get_resultless(gener1)\n",
    "        sandw_dicts = [sv.chromo_to_sandw_dict(person['chromo']) for person in resultless]\n",
    "        futs = cl.map(foo, sandw_dicts)\n",
    "        generation_results = cl.gather(futs)\n",
    "#         generation_results = [(rnd.choice([True, False]), rnd.normal(800,2700), rnd.uniform(500e6, 900e6)) for z in resultless]\n",
    "#         time.sleep(3)\n",
    "        for person, result in zip(resultless, generation_results):\n",
    "            person['result'] = result\n",
    "            fitness(person)\n",
    "\n",
    "        history.append(gener1)\n",
    "\n",
    "        with open(f'{sv.struct_str}.bin', 'wb') as f:\n",
    "            pickle.dump(history, f)\n",
    "\n",
    "#         gener1 = filternan(history[-1])\n",
    "#         fitnesses = np.array([person['fitness'] for person in gener1])\n",
    "#         imax = np.argmax(fitnesses)\n",
    "#         print(f'Generation #{len(history)} max fitness {fitnesses[imax]}  V = {gener1[imax][\"result\"][1]}  p = {gener1[imax][\"result\"][2]}')\n",
    "        \n",
    "threading.Thread(target=evolve, args=(2,)).start()"
   ]
  },
  {
   "cell_type": "code",
   "execution_count": 180,
   "metadata": {},
   "outputs": [
    {
     "name": "stdout",
     "output_type": "stream",
     "text": [
      "Generation #0 max fitness 1067.242208440223  V = 1067.242208440223  p = 299144455.72222465\n",
      "Generation #1 max fitness 1067.242208440223  V = 1067.242208440223  p = 299144455.72222465\n",
      "Generation #2 max fitness 1067.242208440223  V = 1067.242208440223  p = 299144455.72222465\n",
      "Generation #3 max fitness 1099.3734559854079  V = 1099.3734559854079  p = 296671359.7622015\n",
      "Generation #4 max fitness 1099.3734559854079  V = 1099.3734559854079  p = 296671359.7622015\n",
      "Generation #5 max fitness 1140.2069069483423  V = 1140.2069069483423  p = 455366709.78355855\n",
      "Generation #6 max fitness 1140.2069069483423  V = 1140.2069069483423  p = 455366709.78355855\n",
      "Generation #7 max fitness 1140.2069069483423  V = 1140.2069069483423  p = 455366709.78355855\n",
      "Generation #8 max fitness 1167.8418134676124  V = 1167.8418134676124  p = 347374457.8014941\n",
      "Generation #9 max fitness 1167.8418134676124  V = 1167.8418134676124  p = 347374457.8014941\n",
      "Generation #10 max fitness 1167.8418134676124  V = 1167.8418134676124  p = 347374457.8014941\n",
      "Generation #11 max fitness 1169.6427170219683  V = 1169.6427170219683  p = 291052422.47469634\n",
      "Generation #12 max fitness 1169.6427170219683  V = 1169.6427170219683  p = 291052422.47469634\n",
      "Generation #13 max fitness 1198.0090048127895  V = 1198.0090048127895  p = 442429797.5089088\n",
      "Generation #14 max fitness 1198.0090048127895  V = 1198.0090048127895  p = 442429797.5089088\n",
      "Generation #15 max fitness 1246.1454785329254  V = 1246.1454785329254  p = 466304734.9730924\n",
      "Generation #16 max fitness 1247.2808169256086  V = 1247.2808169256086  p = 456348006.2770199\n",
      "Generation #17 max fitness 1247.2808169256086  V = 1247.2808169256086  p = 456348006.2770199\n",
      "Generation #18 max fitness 1290.4166635885788  V = 1290.4166635885788  p = 386446269.4714682\n",
      "Generation #19 max fitness 1290.4166635885788  V = 1290.4166635885788  p = 386446269.4714682\n",
      "Generation #20 max fitness 1343.5235421964182  V = 1343.5235421964182  p = 419546236.1012111\n",
      "Generation #21 max fitness 1350.2260212826557  V = 1350.2260212826557  p = 389553610.0142459\n",
      "Generation #22 max fitness 1356.5705744099648  V = 1356.5705744099648  p = 410997991.49531037\n",
      "Generation #23 max fitness 1356.5705744099648  V = 1356.5705744099648  p = 410997991.49531037\n",
      "Generation #24 max fitness 1383.6415926354193  V = 1383.6415926354193  p = 369713607.85404474\n",
      "Generation #25 max fitness 1383.6415926354193  V = 1383.6415926354193  p = 369713607.85404474\n",
      "Generation #26 max fitness 1383.6415926354193  V = 1383.6415926354193  p = 369713607.85404474\n",
      "Generation #27 max fitness 1383.6415926354193  V = 1383.6415926354193  p = 369713607.85404474\n",
      "Generation #28 max fitness 1383.6415926354193  V = 1383.6415926354193  p = 369713607.85404474\n",
      "Generation #29 max fitness 1383.6415926354193  V = 1383.6415926354193  p = 369713607.85404474\n",
      "Generation #30 max fitness 1400.4867690388205  V = 1400.4867690388205  p = 439616325.5385449\n",
      "Generation #31 max fitness 1439.8689647320955  V = 1439.8689647320955  p = 384776534.41295034\n",
      "Generation #32 max fitness 1439.8689647320955  V = 1439.8689647320955  p = 384776534.41295034\n",
      "Generation #33 max fitness 1439.8689647320955  V = 1439.8689647320955  p = 384776534.41295034\n",
      "Generation #34 max fitness 1439.8689647320955  V = 1439.8689647320955  p = 384776534.41295034\n",
      "Generation #35 max fitness 1439.8689647320955  V = 1439.8689647320955  p = 384776534.41295034\n",
      "Generation #36 max fitness 1441.139984846925  V = 1441.139984846925  p = 505979153.9361078\n",
      "Generation #37 max fitness 1441.139984846925  V = 1441.139984846925  p = 505979153.9361078\n",
      "Generation #38 max fitness 1441.139984846925  V = 1441.139984846925  p = 505979153.9361078\n",
      "Generation #39 max fitness 1441.139984846925  V = 1441.139984846925  p = 505979153.9361078\n",
      "Generation #40 max fitness 1441.139984846925  V = 1441.139984846925  p = 505979153.9361078\n",
      "Generation #41 max fitness 1441.139984846925  V = 1441.139984846925  p = 505979153.9361078\n",
      "Generation #42 max fitness 1458.0570316253236  V = 1458.0570316253236  p = 471544063.2188997\n",
      "Generation #43 max fitness 1458.0570316253236  V = 1458.0570316253236  p = 471544063.2188997\n",
      "Generation #44 max fitness 1458.0570316253236  V = 1458.0570316253236  p = 471544063.2188997\n",
      "Generation #45 max fitness 1458.0570316253236  V = 1458.0570316253236  p = 471544063.2188997\n",
      "Generation #46 max fitness 1461.8845760728343  V = 1461.8845760728343  p = 541692585.1386229\n",
      "Generation #47 max fitness 1461.8845760728343  V = 1461.8845760728343  p = 541692585.1386229\n",
      "Generation #48 max fitness 1492.5955649998898  V = 1492.5955649998898  p = 541996942.2423049\n",
      "Generation #49 max fitness 1492.5955649998898  V = 1492.5955649998898  p = 541996942.2423049\n",
      "Generation #50 max fitness 1492.5955649998898  V = 1492.5955649998898  p = 541996942.2423049\n",
      "Generation #51 max fitness 1492.5955649998898  V = 1492.5955649998898  p = 541996942.2423049\n",
      "Generation #52 max fitness 1492.5955649998898  V = 1492.5955649998898  p = 541996942.2423049\n",
      "Generation #53 max fitness 1492.5955649998898  V = 1492.5955649998898  p = 541996942.2423049\n",
      "Generation #54 max fitness 1492.5955649998898  V = 1492.5955649998898  p = 541996942.2423049\n",
      "Generation #55 max fitness 1492.5955649998898  V = 1492.5955649998898  p = 541996942.2423049\n",
      "Generation #56 max fitness 1492.5955649998898  V = 1492.5955649998898  p = 541996942.2423049\n",
      "Generation #57 max fitness 1492.5955649998898  V = 1492.5955649998898  p = 541996942.2423049\n",
      "Generation #58 max fitness 1492.5955649998898  V = 1492.5955649998898  p = 541996942.2423049\n",
      "Generation #59 max fitness 1492.5955649998898  V = 1492.5955649998898  p = 541996942.2423049\n",
      "Generation #60 max fitness 1492.5955649998898  V = 1492.5955649998898  p = 541996942.2423049\n",
      "Generation #61 max fitness 1503.9945780951507  V = 1503.9945780951507  p = 396904795.5277743\n",
      "Generation #62 max fitness 1504.242521247277  V = 1504.242521247277  p = 543037816.8062165\n",
      "Generation #63 max fitness 1504.7004046685688  V = 1504.7004046685688  p = 542761204.7176726\n",
      "Generation #64 max fitness 1504.7004046685688  V = 1504.7004046685688  p = 542761204.7176726\n",
      "Generation #65 max fitness 1504.7004046685688  V = 1504.7004046685688  p = 542761204.7176726\n",
      "Generation #66 max fitness 1504.7004046685688  V = 1504.7004046685688  p = 542761204.7176726\n",
      "Generation #67 max fitness 1505.2940896684472  V = 1505.2940896684472  p = 541582854.8872291\n",
      "Generation #68 max fitness 1505.2940896684472  V = 1505.2940896684472  p = 541582854.8872291\n",
      "Generation #69 max fitness 1505.2940896684472  V = 1505.2940896684472  p = 541582854.8872291\n",
      "Generation #70 max fitness 1505.2940896684472  V = 1505.2940896684472  p = 541582854.8872291\n"
     ]
    },
    {
     "data": {
      "image/png": "[encoded data removed]",
      "text/plain": [
       "<Figure size 360x216 with 1 Axes>"
      ]
     },
     "metadata": {
      "needs_background": "light"
     },
     "output_type": "display_data"
    },
    {
     "name": "stdout",
     "output_type": "stream",
     "text": [
      "\n"
     ]
    }
   ],
   "source": [
    "fits, fits_aver = [], []\n",
    "for i, gener1 in enumerate(history):\n",
    "    gener1 = filternan(gener1)\n",
    "    fitnesses = np.array([person['fitness'] for person in gener1])\n",
    "    imax = np.argmax(fitnesses)\n",
    "    fits.append(fitnesses[imax])\n",
    "    fits_aver.append(np.sum(fitnesses)/fitnesses.shape[0])\n",
    "    print(f'Generation #{i} max fitness {fitnesses[imax]}  V = {gener1[imax][\"result\"][1]}  p = {gener1[imax][\"result\"][2]}')\n",
    "\n",
    "plt.plot(fits)\n",
    "plt.plot(fits_aver)\n",
    "plt.grid()\n",
    "plt.show()\n"
   ]
  },
  {
   "cell_type": "code",
   "execution_count": 178,
   "metadata": {},
   "outputs": [
    {
     "data": {
      "application/vnd.jupyter.widget-view+json": {
       "model_id": "15ea805935e4442390773858757843ed",
       "version_major": 2,
       "version_minor": 0
      },
      "text/plain": [
       "interactive(children=(IntSlider(value=0, description='ind', max=1509), Output()), _dom_classes=('widget-intera…"
      ]
     },
     "metadata": {},
     "output_type": "display_data"
    }
   ],
   "source": [
    "gener = history[-1]\n",
    "fitnesses = np.array([person['fitness'] for person in gener])\n",
    "inds = np.argsort(fitnesses)[::-1]\n",
    "@interact(ind=ipywidgets.IntSlider(min=0,max=len(gener)-1,step=1, value=0))\n",
    "def variants(ind):\n",
    "    person = gener[inds[ind]]\n",
    "    chromo1 = person['chromo']\n",
    "    print(person['fitness'], person['result'])\n",
    "\n",
    "    sandwich_dict1 = sv.chromo_to_sandw_dict(chromo1)\n",
    "    sandw1 = Sandwich.get_standart(sandwich_dict1)\n",
    "\n",
    "    fig, ax1 = plt.subplots(nrows=1, sharex=True, figsize=(10,4))#, gridspec_kw={'height_ratios':[1, 1, 1]})\n",
    "\n",
    "    sandw1.plot(fig, ax1)\n",
    "    ax1.set_ylim(-0.01,0.08)\n",
    "    ax1.set_xlim(-0.2, 13)\n",
    "    plt.show()\n",
    "    pprint(person)\n",
    "    "
   ]
  },
  {
   "cell_type": "code",
   "execution_count": 23,
   "metadata": {
    "tags": []
   },
   "outputs": [
    {
     "data": {
      "text/plain": [
       "['__aenter__',\n",
       " '__aexit__',\n",
       " '__await__',\n",
       " '__class__',\n",
       " '__del__',\n",
       " '__delattr__',\n",
       " '__dict__',\n",
       " '__dir__',\n",
       " '__doc__',\n",
       " '__enter__',\n",
       " '__eq__',\n",
       " '__exit__',\n",
       " '__format__',\n",
       " '__ge__',\n",
       " '__getattribute__',\n",
       " '__gt__',\n",
       " '__hash__',\n",
       " '__init__',\n",
       " '__init_subclass__',\n",
       " '__le__',\n",
       " '__lt__',\n",
       " '__module__',\n",
       " '__ne__',\n",
       " '__new__',\n",
       " '__reduce__',\n",
       " '__reduce_ex__',\n",
       " '__repr__',\n",
       " '__setattr__',\n",
       " '__sizeof__',\n",
       " '__str__',\n",
       " '__subclasshook__',\n",
       " '__weakref__',\n",
       " '_asynchronous',\n",
       " '_cancel',\n",
       " '_close',\n",
       " '_connecting_to_scheduler',\n",
       " '_dec_ref',\n",
       " '_deserializers',\n",
       " '_ensure_connected',\n",
       " '_expand_key',\n",
       " '_expand_resources',\n",
       " '_expand_retries',\n",
       " '_gather',\n",
       " '_gather_future',\n",
       " '_gather_keys',\n",
       " '_gather_remote',\n",
       " '_gather_semaphore',\n",
       " '_get_dataset',\n",
       " '_get_futures_error',\n",
       " '_get_scheduler_info',\n",
       " '_get_task_stream',\n",
       " '_get_versions',\n",
       " '_graph_to_futures',\n",
       " '_handle_cancelled_key',\n",
       " '_handle_error',\n",
       " '_handle_key_in_memory',\n",
       " '_handle_lost_data',\n",
       " '_handle_report',\n",
       " '_handle_restart',\n",
       " '_handle_retried_key',\n",
       " '_handle_scheduler_coroutine',\n",
       " '_handle_task_erred',\n",
       " '_heartbeat',\n",
       " '_inc_ref',\n",
       " '_instances',\n",
       " '_loop_runner',\n",
       " '_optimize_insert_futures',\n",
       " '_pending_msg_buffer',\n",
       " '_periodic_callbacks',\n",
       " '_profile',\n",
       " '_publish_dataset',\n",
       " '_rebalance',\n",
       " '_reconnect',\n",
       " '_recreate_error_locally',\n",
       " '_refcount_lock',\n",
       " '_register_worker_plugin',\n",
       " '_release_key',\n",
       " '_replicate',\n",
       " '_repr_html_',\n",
       " '_restart',\n",
       " '_retry',\n",
       " '_run',\n",
       " '_run_on_scheduler',\n",
       " '_scatter',\n",
       " '_scheduler_identity',\n",
       " '_send_to_scheduler',\n",
       " '_send_to_scheduler_safe',\n",
       " '_serializers',\n",
       " '_set_config',\n",
       " '_should_close_loop',\n",
       " '_shutdown',\n",
       " '_start',\n",
       " '_start_arg',\n",
       " '_start_ipython_workers',\n",
       " '_startup_kwargs',\n",
       " '_state_handlers',\n",
       " '_stream_handlers',\n",
       " '_timeout',\n",
       " '_update_scheduler_info',\n",
       " '_upload_file',\n",
       " '_upload_large_file',\n",
       " '_wait_for_workers',\n",
       " 'as_current',\n",
       " 'asynchronous',\n",
       " 'call_stack',\n",
       " 'cancel',\n",
       " 'close',\n",
       " 'cluster',\n",
       " 'collections_to_dsk',\n",
       " 'compute',\n",
       " 'connection_args',\n",
       " 'coroutines',\n",
       " 'current',\n",
       " 'dashboard_link',\n",
       " 'datasets',\n",
       " 'direct_to_workers',\n",
       " 'extensions',\n",
       " 'futures',\n",
       " 'futures_of',\n",
       " 'gather',\n",
       " 'generation',\n",
       " 'get',\n",
       " 'get_dataset',\n",
       " 'get_executor',\n",
       " 'get_futures_error',\n",
       " 'get_metadata',\n",
       " 'get_restrictions',\n",
       " 'get_scheduler_logs',\n",
       " 'get_task_stream',\n",
       " 'get_versions',\n",
       " 'get_worker_logs',\n",
       " 'has_what',\n",
       " 'id',\n",
       " 'io_loop',\n",
       " 'list_datasets',\n",
       " 'loop',\n",
       " 'map',\n",
       " 'nbytes',\n",
       " 'ncores',\n",
       " 'normalize_collection',\n",
       " 'nthreads',\n",
       " 'persist',\n",
       " 'processing',\n",
       " 'profile',\n",
       " 'publish_dataset',\n",
       " 'rebalance',\n",
       " 'recreate_error_locally',\n",
       " 'refcount',\n",
       " 'register_worker_callbacks',\n",
       " 'register_worker_plugin',\n",
       " 'replicate',\n",
       " 'restart',\n",
       " 'retire_workers',\n",
       " 'retry',\n",
       " 'rpc',\n",
       " 'run',\n",
       " 'run_coroutine',\n",
       " 'run_on_scheduler',\n",
       " 'scatter',\n",
       " 'scheduler',\n",
       " 'scheduler_comm',\n",
       " 'scheduler_file',\n",
       " 'scheduler_info',\n",
       " 'security',\n",
       " 'set_metadata',\n",
       " 'shutdown',\n",
       " 'start',\n",
       " 'start_ipython',\n",
       " 'start_ipython_scheduler',\n",
       " 'start_ipython_workers',\n",
       " 'status',\n",
       " 'submit',\n",
       " 'sync',\n",
       " 'unpublish_dataset',\n",
       " 'upload_file',\n",
       " 'wait_for_workers',\n",
       " 'who_has',\n",
       " 'write_scheduler_file']"
      ]
     },
     "execution_count": 23,
     "metadata": {},
     "output_type": "execute_result"
    }
   ],
   "source": [
    "dir(cl)"
   ]
  },
  {
   "cell_type": "code",
   "execution_count": 177,
   "metadata": {},
   "outputs": [],
   "source": [
    "from pprint import pprint"
   ]
  },
  {
   "cell_type": "code",
   "execution_count": null,
   "metadata": {},
   "outputs": [
    {
     "name": "stderr",
     "output_type": "stream",
     "text": [
      "distributed.client - ERROR - Failed to reconnect to scheduler after 10.00 seconds, closing client\n",
      "distributed.client - ERROR - Failed to reconnect to scheduler after 10.00 seconds, closing client\n",
      "_GatheringFuture exception was never retrieved\n",
      "future: <_GatheringFuture finished exception=CancelledError()>\n",
      "asyncio.exceptions.CancelledError\n",
      "_GatheringFuture exception was never retrieved\n",
      "future: <_GatheringFuture finished exception=CancelledError()>\n",
      "asyncio.exceptions.CancelledError\n"
     ]
    }
   ],
   "source": [
    "cl.restart()"
   ]
  }
 ],
 "metadata": {
  "kernelspec": {
   "display_name": "env_pykas",
   "language": "python",
   "name": "env_pykas"
  },
  "language_info": {
   "codemirror_mode": {
    "name": "ipython",
    "version": 3
   },
   "file_extension": ".py",
   "mimetype": "text/x-python",
   "name": "python",
   "nbconvert_exporter": "python",
   "pygments_lexer": "ipython3",
   "version": "3.8.5"
  }
 },
 "nbformat": 4,
 "nbformat_minor": 4
}
