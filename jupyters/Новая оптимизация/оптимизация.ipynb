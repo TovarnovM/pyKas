{
 "cells": [
  {
   "cell_type": "code",
   "execution_count": 1,
   "metadata": {},
   "outputs": [],
   "source": [
    "import os\n",
    "wd = os.getcwd()\n",
    "wd = os.path.dirname(os.path.dirname(wd))\n",
    "import sys\n",
    "sys.path.append(wd+\"\\\\src\\\\\")"
   ]
  },
  {
   "cell_type": "code",
   "execution_count": 2,
   "metadata": {},
   "outputs": [],
   "source": [
    "from tube import InterpXY,Tube,BorderSimple\n",
    "from math import *\n",
    "import numpy as np\n",
    "from powderlayer import PowderBD, PowderOvLayer, Powder\n",
    "from gaslayer import GasEOS, GasLayer\n",
    "from pistonlayer import ElPistEOS, ElPistLayer\n",
    "import pprint as pp"
   ]
  },
  {
   "cell_type": "code",
   "execution_count": 5,
   "metadata": {},
   "outputs": [],
   "source": [
    "from tqdm import tqdm_notebook\n",
    "from matplotlib.patches import Polygon\n",
    "import matplotlib as mpl\n",
    "import matplotlib.pyplot as plt\n",
    "\n",
    "from ipywidgets import interact, interactive, fixed\n",
    "import ipywidgets\n",
    "mpl.rcParams['figure.figsize'] = (5,3) \n",
    "\n",
    "import json\n",
    "from functional import seq"
   ]
  },
  {
   "cell_type": "code",
   "execution_count": 9,
   "metadata": {},
   "outputs": [
    {
     "data": {
      "text/plain": [
       "dict_keys(['СФ 033', 'ВУ фл', 'ВТ', 'ВТМ', 'ВТХ-10', 'ВТХ-20', 'ВТД-25', '4\\\\1', '4\\\\1 фл', '4\\\\7', '4\\\\7 св', '4\\\\7 фл ВБП', '4\\\\7 ПТ-3 фл', '4\\\\7 Ц гр', '5\\\\1', '5\\\\1 х-10', '5\\\\1 х-20', '5\\\\1 д-20', '5\\\\1 д-25', '5\\\\7 св', '5\\\\7 н\\\\а', '5\\\\7 в\\\\а', '5\\\\7 Ц фл', '6\\\\7 гр', '6\\\\7 БП гр', '6\\\\7 фл В БП', '6\\\\7 П-5 БП фл', '6\\\\7 фл ', '7\\\\1', '7\\\\1 фл БП', '7\\\\7', '7\\\\14', '7\\\\1 УГ', '8\\\\1 тр', '8\\\\7', '8\\\\1 УГ', '9\\\\7', '9\\\\7 МН', '9\\\\7 БП', '11\\\\1 БП', '11\\\\7', '11\\\\1 УГ', '12\\\\1 Тр', '12\\\\1 тр БП', '12\\\\1 тр МН', '12\\\\7', '12\\\\7 В\\\\А', '12\\\\1 УГ', '14\\\\1 тр В\\\\А', '14\\\\7', '14\\\\7 В\\\\А', '14\\\\7 БП', '15\\\\1 тр В\\\\А', '15\\\\7', '16\\\\1 тр', '16\\\\1 тр В\\\\А', '17\\\\7', '18\\\\1 тр', '18\\\\1 тр БП', '22\\\\1 тр', '22\\\\7', '23\\\\7', '28\\\\1 тр', '37\\\\1 тр', 'НДТ-3 16\\\\1', 'НДТ-3 18\\\\1', 'НДТ-3 19\\\\1', 'НДТ-3 23\\\\1', 'НДТ-3 32\\\\1', 'НДТ-3 152\\\\57', 'ДГ-2 15\\\\1', 'ДГ-2 17\\\\1', 'ДГ-3 13\\\\1', 'ДГ-3 14\\\\1', 'ДГ-3 17\\\\1', 'ДГ-3 18\\\\1', 'ДГ-3 20\\\\1', 'ДГ-3 23\\\\1', 'ДГ-4 13\\\\1', '100\\\\56', '100\\\\70', '130\\\\50', '130\\\\58 БП', '152\\\\57', '152\\\\57 Ш', '152\\\\57 БП', '180\\\\57', '180\\\\57 БП', '180\\\\57 Ш3 БП', '180\\\\60', 'НДТ-2 16\\\\1', 'НДТ-2 19\\\\1', 'НДТ-2 25\\\\1', 'НДТ-2 130\\\\50', 'НДТ-2 152\\\\57', 'ДГ-4 14\\\\1', 'ДГ-4 15\\\\1', 'НДГ-5', 'НДГ-6', 'НБ', ' АПЦ-235 П 16\\\\1', 'БНГ-1355 25\\\\1', 'МАП-1 23\\\\1', 'УГ-1', 'УГ-2', 'УГФ-1', 'Cr', 'ДРП', 'КЗДП', 'Флегматизатор', 'Свинцовая проволка', 'K2SO4', 'АФ-30'])"
      ]
     },
     "execution_count": 9,
     "metadata": {},
     "output_type": "execute_result"
    }
   ],
   "source": [
    "with open(wd+\"\\\\src\\\\\" + 'gpowders.json') as f:\n",
    "    all_powders = json.load(f)\n",
    "all_powders.keys()"
   ]
  },
  {
   "cell_type": "code",
   "execution_count": 16,
   "metadata": {},
   "outputs": [],
   "source": [
    "tps = sorted([(I_k, k) for k, d in all_powders.items() if isinstance(I_k:=d['I_k'], float) and I_k > 0.1])\n",
    "good_marks = [name for I_k, name in tps]\n",
    "I_ks = [I_k for I_k, name in tps]"
   ]
  },
  {
   "cell_type": "code",
   "execution_count": 17,
   "metadata": {},
   "outputs": [
    {
     "data": {
      "text/plain": [
       "[(0.15, 'ВУ фл'),\n",
       " (0.17, 'СФ 033'),\n",
       " (0.22, 'ВТ'),\n",
       " (0.23, 'ВТМ'),\n",
       " (0.25, '5\\\\1'),\n",
       " (0.27, 'ВТХ-10'),\n",
       " (0.28, '4\\\\7 ПТ-3 фл'),\n",
       " (0.3, '4\\\\1'),\n",
       " (0.3, '4\\\\7 Ц гр'),\n",
       " (0.32, '4\\\\7'),\n",
       " (0.32, '5\\\\7 н\\\\а'),\n",
       " (0.33, '4\\\\7 св'),\n",
       " (0.35, '5\\\\7 Ц фл'),\n",
       " (0.35, '5\\\\7 св'),\n",
       " (0.37, '5\\\\7 в\\\\а'),\n",
       " (0.38, '4\\\\7 фл ВБП'),\n",
       " (0.39, 'ВТХ-20'),\n",
       " (0.4, '4\\\\1 фл'),\n",
       " (0.4, '7\\\\14'),\n",
       " (0.43, '6\\\\7 фл '),\n",
       " (0.43, '6\\\\7 фл В БП'),\n",
       " (0.45, 'ВТД-25'),\n",
       " (0.48, '6\\\\7 П-5 БП фл'),\n",
       " (0.5, '5\\\\1 х-10'),\n",
       " (0.5, '6\\\\7 гр'),\n",
       " (0.5, '7\\\\1'),\n",
       " (0.5, '7\\\\7'),\n",
       " (0.5, '8\\\\7'),\n",
       " (0.51, '7\\\\1 фл БП'),\n",
       " (0.56, '6\\\\7 БП гр'),\n",
       " (0.6, '9\\\\7'),\n",
       " (0.68, '11\\\\7'),\n",
       " (0.68, '5\\\\1 д-20'),\n",
       " (0.7, '5\\\\1 х-20'),\n",
       " (0.7, '8\\\\1 тр'),\n",
       " (0.72, '12\\\\7 В\\\\А'),\n",
       " (0.76, '9\\\\7 МН'),\n",
       " (0.81, '12\\\\7'),\n",
       " (0.82, '5\\\\1 д-25'),\n",
       " (0.83, '14\\\\7 В\\\\А'),\n",
       " (0.84, '14\\\\1 тр В\\\\А'),\n",
       " (0.87, '12\\\\1 Тр'),\n",
       " (0.88, '12\\\\1 тр МН'),\n",
       " (0.9, '7\\\\1 УГ'),\n",
       " (0.9, 'ДГ-4 13\\\\1'),\n",
       " (0.91, '15\\\\1 тр В\\\\А'),\n",
       " (0.93, '15\\\\7'),\n",
       " (0.94, '9\\\\7 БП'),\n",
       " (0.96, '14\\\\7'),\n",
       " (1.0, '8\\\\1 УГ'),\n",
       " (1.04, '16\\\\1 тр В\\\\А'),\n",
       " (1.05, 'ДГ-4 14\\\\1'),\n",
       " (1.075, 'ДГ-3 13\\\\1'),\n",
       " (1.09, '11\\\\1 БП'),\n",
       " (1.09, '12\\\\1 тр БП'),\n",
       " (1.1, '18\\\\1 тр'),\n",
       " (1.12, 'ДГ-4 15\\\\1'),\n",
       " (1.13, '16\\\\1 тр'),\n",
       " (1.14, ' АПЦ-235 П 16\\\\1'),\n",
       " (1.15, 'ДГ-3 14\\\\1'),\n",
       " (1.16, '100\\\\70'),\n",
       " (1.16, '17\\\\7'),\n",
       " (1.18, 'МАП-1 23\\\\1'),\n",
       " (1.26, 'БНГ-1355 25\\\\1'),\n",
       " (1.29, 'НДТ-3 16\\\\1'),\n",
       " (1.32, '28\\\\1 тр'),\n",
       " (1.33, '22\\\\1 тр'),\n",
       " (1.34, 'ДГ-2 15\\\\1'),\n",
       " (1.34, 'УГФ-1'),\n",
       " (1.35, 'УГ-1'),\n",
       " (1.38, '14\\\\7 БП'),\n",
       " (1.39, 'ДГ-3 17\\\\1'),\n",
       " (1.4, '180\\\\57 Ш3 БП'),\n",
       " (1.42, 'НДТ-2 16\\\\1'),\n",
       " (1.43, '11\\\\1 УГ'),\n",
       " (1.46, 'НДТ-3 18\\\\1'),\n",
       " (1.48, 'ДГ-3 18\\\\1'),\n",
       " (1.5, '12\\\\1 УГ'),\n",
       " (1.52, 'ДГ-2 17\\\\1'),\n",
       " (1.521, '100\\\\56'),\n",
       " (1.53, '18\\\\1 тр БП'),\n",
       " (1.53, '22\\\\7'),\n",
       " (1.54, 'НДТ-3 19\\\\1'),\n",
       " (1.64, 'ДГ-3 20\\\\1'),\n",
       " (1.67, '23\\\\7'),\n",
       " (1.69, 'НДТ-2 19\\\\1'),\n",
       " (1.73, '180\\\\57'),\n",
       " (1.82, '152\\\\57 БП'),\n",
       " (1.83, '152\\\\57 Ш'),\n",
       " (1.84, '130\\\\50'),\n",
       " (1.86, 'НДТ-3 23\\\\1'),\n",
       " (1.89, 'ДГ-3 23\\\\1'),\n",
       " (1.9, 'НДТ-2 130\\\\50'),\n",
       " (1.9, 'НДТ-2 152\\\\57'),\n",
       " (2.2, 'НДТ-2 25\\\\1'),\n",
       " (2.33, '130\\\\58 БП'),\n",
       " (2.44, 'НДТ-3 152\\\\57'),\n",
       " (2.47, '152\\\\57'),\n",
       " (2.48, '37\\\\1 тр'),\n",
       " (2.5, '180\\\\57 БП'),\n",
       " (2.59, 'НДТ-3 32\\\\1'),\n",
       " (2.7, '180\\\\60'),\n",
       " (2.71, 'УГ-2')]"
      ]
     },
     "execution_count": 17,
     "metadata": {},
     "output_type": "execute_result"
    }
   ],
   "source": [
    "tps"
   ]
  },
  {
   "cell_type": "code",
   "execution_count": 278,
   "metadata": {},
   "outputs": [],
   "source": [
    "from opti.Chromosome import DRange, SRange,ChromoController\n",
    "from zone import Zone"
   ]
  },
  {
   "cell_type": "code",
   "execution_count": null,
   "metadata": {},
   "outputs": [],
   "source": [
    "L1 = DRange(2,6,'L1')\n",
    "L2 = DRange(1,4,'L2')\n",
    "Lcone = DRange(0,3,2.5,'Lcone')\n",
    "\n",
    "\n",
    "d2 = DRange(0.085,0.125, 'd2') \n"
   ]
  },
  {
   "cell_type": "code",
   "execution_count": 281,
   "metadata": {},
   "outputs": [],
   "source": [
    "d = {\n",
    "    'id': 'some_id',\n",
    "    'tube_points': [[0.0, 0.125], [5.0, 0.125]],\n",
    "    'layers': [\n",
    "        {\n",
    "            'type': 'gas',\n",
    "            'x_1': 0,\n",
    "            \n",
    "        }\n",
    "    ],\n",
    "    'borders': []\n",
    "    \n",
    "}"
   ]
  },
  {
   "cell_type": "code",
   "execution_count": 282,
   "metadata": {},
   "outputs": [
    {
     "name": "stdout",
     "output_type": "stream",
     "text": [
      "Tube(xs=[0.0, 5.0], ds=[0.125, 0.125])\n"
     ]
    }
   ],
   "source": [
    "def forward_foo(d):\n",
    "    t = Tube.get_standart({'tube_points': d['tube_points']})\n",
    "    print(t)\n",
    "    \n",
    "    return {'id': d['id']}\n",
    "forward_foo(d)"
   ]
  },
  {
   "cell_type": "code",
   "execution_count": 150,
   "metadata": {},
   "outputs": [
    {
     "name": "stdout",
     "output_type": "stream",
     "text": [
      "-0.5773502691896257 4.309401076758503\n",
      "-0.5773502691896257 6.773502691896257\n"
     ]
    },
    {
     "data": {
      "image/png": "[encoded data removed]",
      "text/plain": [
       "<Figure size 360x216 with 1 Axes>"
      ]
     },
     "metadata": {
      "needs_background": "light"
     },
     "output_type": "display_data"
    }
   ],
   "source": []
  },
  {
   "cell_type": "code",
   "execution_count": 151,
   "metadata": {},
   "outputs": [
    {
     "name": "stdout",
     "output_type": "stream",
     "text": [
      "-0.2679491924311227 3.071796769724491\n",
      "-0.2679491924311227 3.679491924311227\n"
     ]
    },
    {
     "data": {
      "image/png": "[encoded data removed]",
      "text/plain": [
       "<Figure size 360x216 with 1 Axes>"
      ]
     },
     "metadata": {
      "needs_background": "light"
     },
     "output_type": "display_data"
    }
   ],
   "source": []
  },
  {
   "cell_type": "code",
   "execution_count": 276,
   "metadata": {},
   "outputs": [
    {
     "data": {
      "text/plain": [
       "[]"
      ]
     },
     "execution_count": 276,
     "metadata": {},
     "output_type": "execute_result"
    },
    {
     "data": {
      "image/png": "[encoded data removed]",
      "text/plain": [
       "<Figure size 360x216 with 1 Axes>"
      ]
     },
     "metadata": {
      "needs_background": "light"
     },
     "output_type": "display_data"
    }
   ],
   "source": []
  },
  {
   "cell_type": "code",
   "execution_count": 153,
   "metadata": {},
   "outputs": [
    {
     "data": {
      "text/plain": [
       "9.253471561030084"
      ]
     },
     "execution_count": 153,
     "metadata": {},
     "output_type": "execute_result"
    }
   ],
   "source": [
    "rnd.uniform(1,10)"
   ]
  },
  {
   "cell_type": "code",
   "execution_count": 4,
   "metadata": {},
   "outputs": [
    {
     "data": {
      "text/html": [
       "<table style=\"border: 2px solid white;\">\n",
       "<tr>\n",
       "<td style=\"vertical-align: top; border: 0px solid white\">\n",
       "<h3 style=\"text-align: left;\">Client</h3>\n",
       "<ul style=\"text-align: left; list-style: none; margin: 0; padding: 0;\">\n",
       "  <li><b>Scheduler: </b>tcp://172.16.49.81:8786</li>\n",
       "  <li><b>Dashboard: </b><a href='http://172.16.49.81:8787/status' target='_blank'>http://172.16.49.81:8787/status</a></li>\n",
       "</ul>\n",
       "</td>\n",
       "<td style=\"vertical-align: top; border: 0px solid white\">\n",
       "<h3 style=\"text-align: left;\">Cluster</h3>\n",
       "<ul style=\"text-align: left; list-style:none; margin: 0; padding: 0;\">\n",
       "  <li><b>Workers: </b>123</li>\n",
       "  <li><b>Cores: </b>123</li>\n",
       "  <li><b>Memory: </b>198.77 GB</li>\n",
       "</ul>\n",
       "</td>\n",
       "</tr>\n",
       "</table>"
      ],
      "text/plain": [
       "<Client: 'tcp://172.18.0.3:8786' processes=123 threads=123, memory=198.77 GB>"
      ]
     },
     "execution_count": 4,
     "metadata": {},
     "output_type": "execute_result"
    },
    {
     "name": "stderr",
     "output_type": "stream",
     "text": [
      "distributed.client - ERROR - Failed to reconnect to scheduler after 10.00 seconds, closing client\n",
      "distributed.client - ERROR - Failed to reconnect to scheduler after 10.00 seconds, closing client\n",
      "distributed.client - ERROR - Failed to reconnect to scheduler after 10.00 seconds, closing client\n",
      "distributed.client - ERROR - Failed to reconnect to scheduler after 10.00 seconds, closing client\n",
      "_GatheringFuture exception was never retrieved\n",
      "future: <_GatheringFuture finished exception=CancelledError()>\n",
      "asyncio.exceptions.CancelledError\n",
      "_GatheringFuture exception was never retrieved\n",
      "future: <_GatheringFuture finished exception=CancelledError()>\n",
      "asyncio.exceptions.CancelledError\n",
      "_GatheringFuture exception was never retrieved\n",
      "future: <_GatheringFuture finished exception=CancelledError()>\n",
      "asyncio.exceptions.CancelledError\n",
      "_GatheringFuture exception was never retrieved\n",
      "future: <_GatheringFuture finished exception=CancelledError()>\n",
      "asyncio.exceptions.CancelledError\n"
     ]
    }
   ],
   "source": [
    "from distributed import Client\n",
    "\n",
    "cl = Client('172.16.49.81:8786')\n",
    "cl"
   ]
  },
  {
   "cell_type": "code",
   "execution_count": null,
   "metadata": {},
   "outputs": [],
   "source": []
  }
 ],
 "metadata": {
  "kernelspec": {
   "display_name": "env_pykas",
   "language": "python",
   "name": "env_pykas"
  },
  "language_info": {
   "codemirror_mode": {
    "name": "ipython",
    "version": 3
   },
   "file_extension": ".py",
   "mimetype": "text/x-python",
   "name": "python",
   "nbconvert_exporter": "python",
   "pygments_lexer": "ipython3",
   "version": "3.8.5"
  }
 },
 "nbformat": 4,
 "nbformat_minor": 4
}
