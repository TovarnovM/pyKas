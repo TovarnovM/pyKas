{
 "cells": [
  {
   "cell_type": "markdown",
   "metadata": {},
   "source": [
    "### Лабораторная работа №4\n",
    "\n",
    "Суть данной лабораторной работы заключается в изучении языка разметки [markdown](https://ru.wikipedia.org/wiki/Markdown#:~:text=Markdown%20(%D0%BF%D1%80%D0%BE%D0%B8%D0%B7%D0%BD%D0%BE%D1%81%D0%B8%D1%82%D1%81%D1%8F%20%D0%BC%D0%B0%D1%80%D0%BA%D0%B4%D0%B0%CC%81%D1%83%D0%BD)%20%E2%80%94%20%D0%BE%D0%B1%D0%BB%D0%B5%D0%B3%D1%87%D1%91%D0%BD%D0%BD%D1%8B%D0%B9,%2C%20Rich%20Text%20%D0%B8%20%D0%B4%D1%80%D1%83%D0%B3%D0%B8%D1%85) / [latex](https://ru.wikipedia.org/wiki/LaTeX#:~:text=LaTeX%20(%D0%BF%D1%80%D0%BE%D0%B8%D0%B7%D0%BD%D0%BE%D1%81%D0%B8%D1%82%D1%81%D1%8F%20%2F%CB%88l%C9%91%CB%90,LA%CE%A4%CE%95%CE%A7.)\n",
    "\n",
    "В качестве практического задания Вы должны оформить предыдущие выполненные и защищенные лабораторные работы. \n",
    "\n",
    "Требования:\n",
    "1. К данной лабораторной работе допускаются только студенты, выполнившие и защитившие все три предыдущие лабораторные работы. \n",
    "1. Все 3 лабораторных работы должны быть оформлены в **одном(!)** ```*.ipynb```-файле.\n",
    "1. Готовый файл **нужно поместить в папку** вместе с остальными файлами, необходимыми для корректной и безошибочной работы файла. **Папку(!)** загрузить по [ссылке](https://www.dropbox.com/request/fz5e3cnFlmHA1ssNccLj) до воскресенья (включительно).\n",
    "1. Имя папки должно быть *Группа Фамилия И.О. лабораторные работы по ИТ РиСО.ipynb* (Пример: ```СМ6-74 Иванов Иван Сергеевич лабораторные работы по ИТ РиСО.ipynb```. \n",
    "1. Каждая из **трёх** оформленных лабораторных работ должны иметь:\n",
    " - Заголовок \"Лабораторная работа № \".\n",
    " - Полное описание задания лабораторной работы в формате [markdown](https://ru.wikipedia.org/wiki/Markdown#:~:text=Markdown%20(%D0%BF%D1%80%D0%BE%D0%B8%D0%B7%D0%BD%D0%BE%D1%81%D0%B8%D1%82%D1%81%D1%8F%20%D0%BC%D0%B0%D1%80%D0%BA%D0%B4%D0%B0%CC%81%D1%83%D0%BD)%20%E2%80%94%20%D0%BE%D0%B1%D0%BB%D0%B5%D0%B3%D1%87%D1%91%D0%BD%D0%BD%D1%8B%D0%B9,%2C%20Rich%20Text%20%D0%B8%20%D0%B4%D1%80%D1%83%D0%B3%D0%B8%D1%85), включая формулы.\n",
    " - Полное описание хода решения лабораторной работы в формате [markdown](https://ru.wikipedia.org/wiki/Markdown#:~:text=Markdown%20(%D0%BF%D1%80%D0%BE%D0%B8%D0%B7%D0%BD%D0%BE%D1%81%D0%B8%D1%82%D1%81%D1%8F%20%D0%BC%D0%B0%D1%80%D0%BA%D0%B4%D0%B0%CC%81%D1%83%D0%BD)%20%E2%80%94%20%D0%BE%D0%B1%D0%BB%D0%B5%D0%B3%D1%87%D1%91%D0%BD%D0%BD%D1%8B%D0%B9,%2C%20Rich%20Text%20%D0%B8%20%D0%B4%D1%80%D1%83%D0%B3%D0%B8%D1%85), включая формулы. \n",
    " - Весь код, решающий поставленное задание. Код должен самодостаточен (весь файл может быть выполнен без ошибок, запуская его сверху-вниз). Лишнего кода не должно быть. Код не должен содержать лишних/отладочных выводов в файлы/на экран, т.е. в результате выполнения всего кода должны получаться только требуемые в задании результаты.\n",
    " - В каждой лабораторной работе должны быть сделаны выводы: описание полученного результата, особенности решения задачи (примененные Вами методы), и чему Вы научились в ходе выполнения лабораторной работы.  \n",
    "1. При оформлении необходимо хотя бы один раз использовать следующие элементы [markdown](https://ru.wikipedia.org/wiki/Markdown#:~:text=Markdown%20(%D0%BF%D1%80%D0%BE%D0%B8%D0%B7%D0%BD%D0%BE%D1%81%D0%B8%D1%82%D1%81%D1%8F%20%D0%BC%D0%B0%D1%80%D0%BA%D0%B4%D0%B0%CC%81%D1%83%D0%BD)%20%E2%80%94%20%D0%BE%D0%B1%D0%BB%D0%B5%D0%B3%D1%87%D1%91%D0%BD%D0%BD%D1%8B%D0%B9,%2C%20Rich%20Text%20%D0%B8%20%D0%B4%D1%80%D1%83%D0%B3%D0%B8%D1%85):\n",
    " - [таблицы](https://www.google.com/search?q=markdown+%D1%82%D0%B0%D0%B1%D0%BB%D0%B8%D1%86%D0%B0&oq=markdown+%D1%82%D0%B0%D0%B1%D0%BB%D0%B8%D1%86%D0%B0&aqs=chrome..69i57j0l2.4831j0j7&sourceid=chrome&ie=UTF-8);\n",
    " - [формулы](https://www.google.com/search?sxsrf=ALeKk00Zq7hN6--B3vc_k3qavbhKUPLtPg%3A1606408278558&ei=Vti_X7rZIYeJrwSI0Zn4Dw&q=markdown+%D1%84%D0%BE%D1%80%D0%BC%D1%83%D0%BB%D1%8B&oq=markdown+%D1%84%D0%BE&gs_lcp=CgZwc3ktYWIQAxgAMgIIADICCAAyAggAMgYIABAWEB4yBggAEBYQHjIGCAAQFhAeOgcIABBHELADUJW2JVikvyVg7MUlaAJwAngAgAGAAYgB9wGSAQMwLjKYAQCgAQGqAQdnd3Mtd2l6yAEIwAEB&sclient=psy-ab) (в т.ч. и на графиках);\n",
    " - [ссылки](https://www.google.com/search?sxsrf=ALeKk01-qHlZyxZdEf5X7ZIb3RrDGRty2Q%3A1606408894573&ei=vtq_X46qIs36qwGN_JzADw&q=markdown+%D1%81%D1%81%D1%8B%D0%BB%D0%BA%D0%B8&oq=markdown+%D1%81%D1%81%D1%8B%D0%BB%D0%BA%D0%B8&gs_lcp=CgZwc3ktYWIQAzICCAAyAggAMgYIABAWEB4yBggAEBYQHjoHCAAQRxCwA1D65QJY0e0CYKL1AmgCcAJ4AIABeogB4QSSAQM0LjKYAQCgAQGqAQdnd3Mtd2l6yAEIwAEB&sclient=psy-ab&ved=0ahUKEwiOgZm806DtAhVN_SoKHQ0-B_gQ4dUDCA0&uact=5);\n",
    " - [рисунки](https://www.google.com/search?sxsrf=ALeKk03J4l1h1YAZicbenmUpxJNrAKtYHQ%3A1606408943170&ei=79q_X76DCqPrrgT447iIDw&q=markdown+%D1%80%D0%B8%D1%81%D1%83%D0%BD%D0%BA%D0%B8&oq=markdown+%D1%80%D0%B8%D1%81%D1%83%D0%BD%D0%BA%D0%B8&gs_lcp=CgZwc3ktYWIQAzIFCAAQzQIyBQgAEM0CMgUIABDNAjoHCAAQRxCwAzoHCAAQsAMQQzoCCAA6BQghEKABOgkIIRAKEKABECpQ_YgYWKyRGGD9lBhoAXACeACAAYMBiAHzBZIBAzIuNZgBAKABAaoBB2d3cy13aXrIAQnAAQE&sclient=psy-ab&ved=0ahUKEwj-tq_T06DtAhWjtYsKHfgxDvEQ4dUDCA0&uact=5).\n",
    " \n",
    " \n"
   ]
  }
 ],
 "metadata": {
  "kernelspec": {
   "display_name": "Python 3",
   "language": "python",
   "name": "python3"
  },
  "language_info": {
   "codemirror_mode": {
    "name": "ipython",
    "version": 3
   },
   "file_extension": ".py",
   "mimetype": "text/x-python",
   "name": "python",
   "nbconvert_exporter": "python",
   "pygments_lexer": "ipython3",
   "version": "3.8.5"
  }
 },
 "nbformat": 4,
 "nbformat_minor": 4
}
