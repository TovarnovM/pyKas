{
 "cells": [
  {
   "cell_type": "code",
   "execution_count": 1,
   "metadata": {},
   "outputs": [],
   "source": [
    "import os\n",
    "wd = os.getcwd()\n",
    "wd = os.path.dirname(os.path.dirname(wd))"
   ]
  },
  {
   "cell_type": "code",
   "execution_count": 2,
   "metadata": {},
   "outputs": [],
   "source": [
    "import sys\n",
    "sys.path.append(wd+\"\\\\src\\\\\")\n",
    "from tube import Tube, InterpXY\n",
    "from gaslayer import GasEOS, GasFluxCalculator, GridStrecher, GasLayer\n",
    "from pistonlayer import ElPistLayer, ElPistEOS\n",
    "from powderlayer import Powder, PowderOvLayer\n",
    "\n",
    "import numpy as np"
   ]
  },
  {
   "cell_type": "code",
   "execution_count": 3,
   "metadata": {},
   "outputs": [],
   "source": [
    "from tqdm import tqdm_notebook\n",
    "from matplotlib.patches import Polygon\n",
    "import matplotlib as mpl\n",
    "import matplotlib.pyplot as plt\n",
    "%matplotlib inline \n",
    "%config InlineBackend.figure_format = 'svg' \n",
    "\n",
    "mpl.rcParams['figure.figsize'] = (5,3) "
   ]
  },
  {
   "cell_type": "code",
   "execution_count": 4,
   "metadata": {},
   "outputs": [
    {
     "data": {
      "text/plain": [
       "dict_keys(['СФ 033', 'ВУ фл', 'ВТ', 'ВТМ', 'ВТХ-10', 'ВТХ-20', 'ВТД-25', '4\\\\1', '4\\\\1 фл', '4\\\\7', '4\\\\7 св', '4\\\\7 фл ВБП', '4\\\\7 ПТ-3 фл', '4\\\\7 Ц гр', '5\\\\1', '5\\\\1 х-10', '5\\\\1 х-20', '5\\\\1 д-20', '5\\\\1 д-25', '5\\\\7 св', '5\\\\7 н\\\\а', '5\\\\7 в\\\\а', '5\\\\7 Ц фл', '6\\\\7 гр', '6\\\\7 БП гр', '6\\\\7 фл В БП', '6\\\\7 П-5 БП фл', '6\\\\7 фл ', '7\\\\1', '7\\\\1 фл БП', '7\\\\7', '7\\\\14', '7\\\\1 УГ', '8\\\\1 тр', '8\\\\7', '8\\\\1 УГ', '9\\\\7', '9\\\\7 МН', '9\\\\7 БП', '11\\\\1 БП', '11\\\\7', '11\\\\1 УГ', '12\\\\1 Тр', '12\\\\1 тр БП', '12\\\\1 тр МН', '12\\\\7', '12\\\\7 В\\\\А', '12\\\\1 УГ', '14\\\\1 тр В\\\\А', '14\\\\7', '14\\\\7 В\\\\А', '14\\\\7 БП', '15\\\\1 тр В\\\\А', '15\\\\7', '16\\\\1 тр', '16\\\\1 тр В\\\\А', '17\\\\7', '18\\\\1 тр', '18\\\\1 тр БП', '22\\\\1 тр', '22\\\\7', '23\\\\7', '28\\\\1 тр', '37\\\\1 тр', 'НДТ-3 16\\\\1', 'НДТ-3 18\\\\1', 'НДТ-3 19\\\\1', 'НДТ-3 23\\\\1', 'НДТ-3 32\\\\1', 'НДТ-3 152\\\\57', 'ДГ-2 15\\\\1', 'ДГ-2 17\\\\1', 'ДГ-3 13\\\\1', 'ДГ-3 14\\\\1', 'ДГ-3 17\\\\1', 'ДГ-3 18\\\\1', 'ДГ-3 20\\\\1', 'ДГ-3 23\\\\1', 'ДГ-4 13\\\\1', '100\\\\56', '100\\\\70', '130\\\\50', '130\\\\58 БП', '152\\\\57', '152\\\\57 Ш', '152\\\\57 БП', '180\\\\57', '180\\\\57 БП', '180\\\\57 Ш3 БП', '180\\\\60', 'НДТ-2 16\\\\1', 'НДТ-2 19\\\\1', 'НДТ-2 25\\\\1', 'НДТ-2 130\\\\50', 'НДТ-2 152\\\\57', 'ДГ-4 14\\\\1', 'ДГ-4 15\\\\1', 'НДГ-5', 'НДГ-6', 'НБ', ' АПЦ-235 П 16\\\\1', 'БНГ-1355 25\\\\1', 'МАП-1 23\\\\1', 'УГ-1', 'УГ-2', 'УГФ-1', 'Cr', 'ДРП', 'КЗДП', 'Флегматизатор', 'Свинцовая проволка', 'K2SO4', 'АФ-30'])"
      ]
     },
     "execution_count": 4,
     "metadata": {},
     "output_type": "execute_result"
    }
   ],
   "source": [
    "import json\n",
    "\n",
    "with open('gpowders.json') as f:\n",
    "    all_powders = json.load(f)\n",
    "    \n",
    "all_powders.keys()"
   ]
  },
  {
   "cell_type": "code",
   "execution_count": 5,
   "metadata": {},
   "outputs": [
    {
     "data": {
      "text/plain": [
       "Tube(xs=[0.0, 1.0, 1.3, 1.5], ds=[0.023, 0.023, 0.0115, 0.0115])"
      ]
     },
     "execution_count": 5,
     "metadata": {},
     "output_type": "execute_result"
    }
   ],
   "source": [
    "tube_dict_sample = {\n",
    "    'tube_points': [[0, 0.023], [1, 0.023], [1.3, 0.023*0.5], [1.5, 0.023*0.5]]\n",
    "}\n",
    "\n",
    "def get_tube(**tube_dict):\n",
    "    if 'tube_points' not in tube_dict:\n",
    "        raise Exception(f'В функции get_tube(**tube_dict) неправильные аргументы tube_dict={tube_dict}')\n",
    "    xs, ds = [], []\n",
    "    for x, d in tube_dict['tube_points']:\n",
    "        xs.append(x)\n",
    "        ds.append(d)\n",
    "    return Tube(xs, ds)\n",
    "\n",
    "get_tube(**tube_dict_sample)"
   ]
  },
  {
   "cell_type": "code",
   "execution_count": 6,
   "metadata": {},
   "outputs": [
    {
     "data": {
      "text/plain": [
       "{'name': '4\\\\7',\n",
       " 'f': 1.027,\n",
       " 'etta': 0.228,\n",
       " 'alpha_k': 1.008,\n",
       " 'T_1': 3006.0,\n",
       " 'ro': 1.6,\n",
       " 'I_k': 0.32,\n",
       " 'Z_k': 1.488,\n",
       " 'k_1': 0.811,\n",
       " 'lambda_1': 0.081,\n",
       " 'k_2': 0.505,\n",
       " 'lambda_2': -1.024,\n",
       " 'k_f': 0.0003,\n",
       " 'k_l': 0.0016}"
      ]
     },
     "execution_count": 6,
     "metadata": {},
     "output_type": "execute_result"
    }
   ],
   "source": [
    "all_powders['4\\\\7']"
   ]
  },
  {
   "cell_type": "code",
   "execution_count": 7,
   "metadata": {},
   "outputs": [
    {
     "ename": "SyntaxError",
     "evalue": "invalid syntax (<ipython-input-7-d7a8e6cc1231>, line 23)",
     "output_type": "error",
     "traceback": [
      "\u001b[1;36m  File \u001b[1;32m\"<ipython-input-7-d7a8e6cc1231>\"\u001b[1;36m, line \u001b[1;32m23\u001b[0m\n\u001b[1;33m    }\u001b[0m\n\u001b[1;37m    ^\u001b[0m\n\u001b[1;31mSyntaxError\u001b[0m\u001b[1;31m:\u001b[0m invalid syntax\n"
     ]
    }
   ],
   "source": [
    "powder_layer_dict_sample = {\n",
    "    'type': 'PowderOvLayer',\n",
    "    'powder': {\n",
    "        'name': '4\\\\7',\n",
    "        'f': 1.027,\n",
    "        'etta': 0.228,\n",
    "        'alpha_k': 1.008,\n",
    "        'T_1': 3006.0,\n",
    "        'ro': 1.6,\n",
    "        'I_k': 0.32,\n",
    "        'Z_k': 1.488,\n",
    "        'k_1': 0.811,\n",
    "        'lambda_1': 0.081,\n",
    "        'k_2': 0.505,\n",
    "        'lambda_2': -1.024,\n",
    "        'k_f': 0.0003,\n",
    "        'k_l': 0.0016\n",
    "    },\n",
    "    'omega': 35,  # грамм\n",
    "    'delta': 700, # г/cm^3\n",
    "#    'x_0': 0.1, # левая граница, м\n",
    "    'p_0': 5e6, # начальное давление\n",
    "    't_ign': 0.00001, # начало горения\n",
    "}\n",
    "\n",
    "def get_powder_ov_layer(tube: Tube, x_1: float, powder_layer_dict):\n",
    "    powder = Powder.from_bd(powder_layer_dict['powder'])\n",
    "    flux_calculator = GasFluxCalculator()\n",
    "    grid_strecher = GridStrecher()\n",
    "    omega = powder_layer_dict['omega']\n",
    "    delta = powder_layer_dict['delta']\n",
    "    w = omega/delta\n",
    "    x_2 = tube.get_x2(x_1, w)\n",
    "    pow_layer = PowderOvLayer()"
   ]
  },
  {
   "cell_type": "code",
   "execution_count": null,
   "metadata": {},
   "outputs": [],
   "source": []
  }
 ],
 "metadata": {
  "kernelspec": {
   "display_name": "env_pykas",
   "language": "python",
   "name": "env_pykas"
  },
  "language_info": {
   "codemirror_mode": {
    "name": "ipython",
    "version": 3
   },
   "file_extension": ".py",
   "mimetype": "text/x-python",
   "name": "python",
   "nbconvert_exporter": "python",
   "pygments_lexer": "ipython3",
   "version": "3.7.3"
  }
 },
 "nbformat": 4,
 "nbformat_minor": 2
}
