{
 "cells": [
  {
   "cell_type": "code",
   "execution_count": 1,
   "metadata": {},
   "outputs": [],
   "source": [
    "import sys\n",
    "sys.path.append(r\"C:\\Users\\mi\\Google Диск\\00_teaching 2019\\ИТ при проектировании РиСО\\it_RISO\\лекция 3\\ozvb_lib\")"
   ]
  },
  {
   "cell_type": "code",
   "execution_count": 2,
   "metadata": {},
   "outputs": [],
   "source": [
    "from ozvb import BallisticTermo"
   ]
  },
  {
   "cell_type": "code",
   "execution_count": 26,
   "metadata": {},
   "outputs": [],
   "source": [
    "def get_opts(q=0.19, om_q=0.5 ,delta=400):\n",
    "    omega = om_q * q *1000 # g\n",
    "    W_kam = om_q * q / delta * 1e6  #cm^3\n",
    "    print(f'omega = {omega}, W_kam={W_kam}')\n",
    "    opts = {\n",
    "    'powders': [\n",
    "        {\n",
    "            'omega': omega,      # масса навески пороха, г\n",
    "            'dbname': r'4\\7',   # имя пороха в БД\n",
    "        },\n",
    "    ],\n",
    "    'init_cond': {\n",
    "        'd':23,           # калибр, мм      \n",
    "        'K_zar': 1.08,    # коэфф, учитывающий доп работы\n",
    "        'q': q*1000,         # масса снаряда, г\n",
    "        'W_kam': W_kam,   # объем каморы, см^3\n",
    "        'F_0': 0.005,     # !! опционально !!. площадь поверхности каморы, м^2 \n",
    "                          # (по-умолчанию будет 4*W_kam/d\n",
    "        'sigma_T': 376,   # Постоянная коэффициента теплоотдачи, Дж*м/кг*К*с\n",
    "        'T_stenki': 293,  # Температура стенки, К\n",
    "        'p_f': 60e6,      # Давление форсирования, Па\n",
    "\n",
    "        'p0': 5e6,        # Давление вспышки, Па\n",
    "        'k_vospl': 1.22,  # Коэффициент адиабаты газов воспламенителя\n",
    "        'f_vospl': 0.26,  # Cила воспламенителя, МДж/кг\n",
    "        'T_vospl': 2427   # Температура газов воспламенителя, К\n",
    "    },\n",
    "    'integr_cond': {\n",
    "        'method': 'rk4',\n",
    "        't_max': 1e-2,\n",
    "        'l_max': 10,\n",
    "        'dt': 1e-6,\n",
    "        'n_points_max': 7_000_000,\n",
    "        'n_save_points': 1000\n",
    "    }\n",
    "    }\n",
    "    return opts"
   ]
  },
  {
   "cell_type": "code",
   "execution_count": 28,
   "metadata": {},
   "outputs": [
    {
     "name": "stdout",
     "output_type": "stream",
     "text": [
      "omega = 95.0, W_kam=237.5\n"
     ]
    }
   ],
   "source": [
    "opts = get_opts(q=0.19, om_q=0.5 ,delta=400)\n",
    "bt = BallisticTermo(opts)"
   ]
  },
  {
   "cell_type": "code",
   "execution_count": 24,
   "metadata": {},
   "outputs": [],
   "source": [
    "res = bt.run()"
   ]
  },
  {
   "cell_type": "code",
   "execution_count": 25,
   "metadata": {},
   "outputs": [
    {
     "data": {
      "image/png": "[encoded data removed]",
      "text/plain": [
       "<Figure size 432x288 with 1 Axes>"
      ]
     },
     "metadata": {
      "needs_background": "light"
     },
     "output_type": "display_data"
    }
   ],
   "source": [
    "bt.plot()"
   ]
  },
  {
   "cell_type": "code",
   "execution_count": 17,
   "metadata": {},
   "outputs": [
    {
     "data": {
      "text/plain": [
       "{'p_max': 87899985.58769585,\n",
       " 'l_p_max': 0.014142392830559963,\n",
       " 'V_d': 358.02260178668985,\n",
       " 't_ball': 0.010000999999999104}"
      ]
     },
     "execution_count": 17,
     "metadata": {},
     "output_type": "execute_result"
    }
   ],
   "source": [
    "bt.results['summary']"
   ]
  }
 ],
 "metadata": {
  "kernelspec": {
   "display_name": "env_pykas",
   "language": "python",
   "name": "env_pykas"
  },
  "language_info": {
   "codemirror_mode": {
    "name": "ipython",
    "version": 3
   },
   "file_extension": ".py",
   "mimetype": "text/x-python",
   "name": "python",
   "nbconvert_exporter": "python",
   "pygments_lexer": "ipython3",
   "version": "3.7.4"
  }
 },
 "nbformat": 4,
 "nbformat_minor": 4
}
